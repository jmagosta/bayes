{
 "cells": [
  {
   "cell_type": "markdown",
   "id": "4e3c4c09",
   "metadata": {},
   "source": [
    "# Solving Single Decisions\n",
    "\n",
    "## The \"Party Problem\" example, Value of Information\n",
    "\n",
    "__ A continuation of partyproblem_xdsl.ipynb__\n",
    "\n",
    "JMA 17 Sept 2025"
   ]
  },
  {
   "cell_type": "code",
   "execution_count": 1,
   "id": "a97cd557",
   "metadata": {},
   "outputs": [],
   "source": [
    "# Imports from the python standard library\n",
    "import math, re, os, sys\n",
    "from pathlib import Path\n",
    "import itertools            # to flatten lists\n",
    "\n",
    "# Import array and dataframe packages\n",
    "import numpy as np\n",
    "# import numpy.linalg as la\n",
    "import pandas as pd\n",
    "\n",
    "import networkx as nx\n",
    "\n",
    "# for extract_net\n",
    "# from ID_operations import * \n",
    "from potential_operations import *\n",
    "import BN"
   ]
  },
  {
   "cell_type": "markdown",
   "id": "ac3c7a94",
   "metadata": {},
   "source": [
    "## Bayes networks object"
   ]
  },
  {
   "cell_type": "code",
   "execution_count": 2,
   "id": "21378282",
   "metadata": {},
   "outputs": [
    {
     "name": "stdout",
     "output_type": "stream",
     "text": [
      "found nodes\n",
      "Edges:  [('Weather', 'Preferences'), ('Party_location', 'Preferences'), ('Weather', 'Detector'), ('Adjustor', 'Detector')] \n",
      "\n",
      ">>> Party_location <<<\n",
      "Party_location: decision\n",
      "\tstates: ['Outdoors', 'Porch', 'Indoors']\n",
      "\tnamed tensor: [('Party_location', 'm')], [3]\n",
      "       [1, 1, 1]\n",
      "\n",
      ">>> Weather <<<\n",
      "Weather: cpt\n",
      "\tstates: ['Sunshine', 'Rain']\n",
      "\tnamed tensor: [('Weather', 'm')], [2]\n",
      "       [0.4000, 0.6000]\n",
      "\n",
      ">>> Preferences <<<\n",
      "Preferences: utility\n",
      "\tstates: ['utility']\n",
      "\tnamed tensor: [('Weather', 'c'), ('Party_location', 'c'), ('Preferences', 'm')], [2, 3, 1]\n",
      "       [[[100.],\n",
      "         [ 90.],\n",
      "         [ 40.]],\n",
      "\n",
      "        [[  0.],\n",
      "         [ 20.],\n",
      "         [ 50.]]]\n",
      "\n",
      ">>> Adjustor <<<\n",
      "Adjustor: cpt\n",
      "\tstates: ['absent', 'present']\n",
      "\tnamed tensor: [('Adjustor', 'm')], [2]\n",
      "       [0.1000, 0.9000]\n",
      "\n",
      ">>> Detector <<<\n",
      "Detector: cpt\n",
      "\tstates: ['SaySun', 'SayRain']\n",
      "\tnamed tensor: [('Weather', 'c'), ('Adjustor', 'c'), ('Detector', 'm')], [2, 2, 2]\n",
      "       [[[0.5100, 0.4900],\n",
      "         [0.8700, 0.1300]],\n",
      "\n",
      "        [[0.4800, 0.5200],\n",
      "         [0.4000, 0.6000]]]\n",
      "\n"
     ]
    },
    {
     "name": "stderr",
     "output_type": "stream",
     "text": [
      "reap: Party_location, decision\n",
      "reap: Weather, cpt\n",
      "reap: Preferences, utility\n",
      "reap: Utility, maux\n",
      "Unsupported node type: maux\n",
      "reap: Adjustor, cpt\n",
      "reap: Detector, cpt\n"
     ]
    }
   ],
   "source": [
    "NETWORK_FILE = 'PartyProblem_asym.xdsl'\n",
    "# BN structure is contained under the node branch\n",
    "parsed = BN.extract_net(NETWORK_FILE)\n",
    "nodes, extensions = parsed\n",
    "# tags tell the node type. \n",
    "# [( k.get('id'), k.tag) for k in nodes]\n",
    "# CPT contents are stored in row major order (first row, second row, ...)\n",
    "# Parents are the first matrix dimension -- matrix is Row Markov\n",
    "pp_net = BN.reap(parsed)\n",
    "pp_net.pr_nodes()"
   ]
  },
  {
   "cell_type": "markdown",
   "id": "d9dc27c5",
   "metadata": {},
   "source": [
    "## Add Weather as a conditioning variable\n",
    "\n",
    "Modify the decision Potential to include a dimension for the Weather variable"
   ]
  },
  {
   "cell_type": "code",
   "execution_count": 3,
   "id": "d3823bc6",
   "metadata": {},
   "outputs": [
    {
     "data": {
      "text/plain": [
       "OrderedDict({'Weather': 'c', 'Party_location': 'm'})\n",
       "\ttensor([[1, 1, 1],\n",
       "        [1, 1, 1]])"
      ]
     },
     "execution_count": 3,
     "metadata": {},
     "output_type": "execute_result"
    }
   ],
   "source": [
    "decn_w_observation = condition_decision(\n",
    "    pp_net.get_potential('Party_location'), \n",
    "    pp_net.get_potential('Weather'))\n",
    "decn_w_observation"
   ]
  },
  {
   "cell_type": "markdown",
   "id": "775c2269",
   "metadata": {},
   "source": [
    "### Solution order of node operations\n",
    "\n",
    "- Add observation dimension to the Party_location decision\n",
    "- ? marginalize Weather into value\n",
    "- Compute EV for each option, conditioned on weather state\n",
    "- Maximize over options (conditioned on weather)\n",
    "- Expect out weather to get EV"
   ]
  }
 ],
 "metadata": {
  "kernelspec": {
   "display_name": "venv",
   "language": "python",
   "name": "python3"
  },
  "language_info": {
   "codemirror_mode": {
    "name": "ipython",
    "version": 3
   },
   "file_extension": ".py",
   "mimetype": "text/x-python",
   "name": "python",
   "nbconvert_exporter": "python",
   "pygments_lexer": "ipython3",
   "version": "3.13.7"
  }
 },
 "nbformat": 4,
 "nbformat_minor": 5
}
