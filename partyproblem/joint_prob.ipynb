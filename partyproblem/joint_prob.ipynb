{
 "cells": [
  {
   "cell_type": "markdown",
   "metadata": {},
   "source": [
    "# Create node joint probabilities from the classification tree\n",
    "\n",
    "JMA 24 March 2025\n"
   ]
  },
  {
   "cell_type": "code",
   "execution_count": 77,
   "metadata": {},
   "outputs": [],
   "source": [
    "# Imports from the python standard library\n",
    "import math, re, os, sys \n",
    "from pathlib import Path\n",
    "import itertools            # to flatten lists\n",
    "from numpy.random import default_rng\n",
    "\n",
    "# Import array and dataframe packages\n",
    "import numpy as np\n",
    "# import numpy.linalg as la\n",
    "import pandas as pd\n",
    "import torch"
   ]
  },
  {
   "cell_type": "code",
   "execution_count": null,
   "metadata": {},
   "outputs": [],
   "source": [
    "# TODO ( Parse classification tree output from \n",
    "# Classification_splits.ipynb)"
   ]
  },
  {
   "cell_type": "code",
   "execution_count": null,
   "metadata": {},
   "outputs": [
    {
     "data": {
      "text/plain": [
       "('Joint  p; ',\n",
       " tensor([[[0.3040, 0.0060],\n",
       "          [0.0020, 0.1030]],\n",
       " \n",
       "         [[0.1420, 0.0050],\n",
       "          [0.0070, 0.4310]]]))"
      ]
     },
     "execution_count": 79,
     "metadata": {},
     "output_type": "execute_result"
    }
   ],
   "source": [
    "# dim ig, carb, y ??\n",
    "joint_cnts = torch.tensor([[[304, 6], [2, 103]], [ [7, 431],[142,5]]])\n",
    "joint_p = joint_cnts / joint_cnts.sum()\n",
    "'Joint  p; ', joint_p "
   ]
  },
  {
   "cell_type": "code",
   "execution_count": 80,
   "metadata": {},
   "outputs": [
    {
     "data": {
      "text/plain": [
       "('Raw prior, y: ', tensor([0.4550, 0.5450]))"
      ]
     },
     "execution_count": 80,
     "metadata": {},
     "output_type": "execute_result"
    }
   ],
   "source": [
    "# The implicit prior -- label empirical distribution. \n",
    "Py = joint_p.sum(axis=(0,1))\n",
    "'Raw prior, y: ', Py"
   ]
  },
  {
   "cell_type": "code",
   "execution_count": 81,
   "metadata": {},
   "outputs": [
    {
     "data": {
      "text/plain": [
       "('New prior: ', tensor([0.2000, 0.8000]))"
      ]
     },
     "execution_count": 81,
     "metadata": {},
     "output_type": "execute_result"
    }
   ],
   "source": [
    "# adjust priors \n",
    "adjustment0 = 0.2 / Py[0]\n",
    "adjustment1 = (1- Py[0]*adjustment0)/Py[1]\n",
    "# Pc_adjusted = adjustment * Pc[0], (1- Pc[0]*adjustment)\n",
    "# Pc_adjusted\n",
    "adjustment = torch.tensor([adjustment0.item(), adjustment1.item()])\n",
    "'New prior: ',adjustment * Py"
   ]
  },
  {
   "cell_type": "code",
   "execution_count": 82,
   "metadata": {},
   "outputs": [
    {
     "data": {
      "text/plain": [
       "tensor([0.2000, 0.8000])"
      ]
     },
     "execution_count": 82,
     "metadata": {},
     "output_type": "execute_result"
    }
   ],
   "source": [
    "# Apply the adjustment to the joint\n",
    "new_joint_p = joint_p * adjustment.expand(2,2,2)\n",
    "# Check the new prior\n",
    "new_joint_p.sum(axis=(0,1))"
   ]
  },
  {
   "cell_type": "code",
   "execution_count": 83,
   "metadata": {},
   "outputs": [
    {
     "data": {
      "text/plain": [
       "tensor([[[0.9382, 0.0618],\n",
       "         [0.0058, 0.9942]],\n",
       "\n",
       "        [[0.8948, 0.1052],\n",
       "         [0.0048, 0.9952]]])"
      ]
     },
     "execution_count": 83,
     "metadata": {},
     "output_type": "execute_result"
    }
   ],
   "source": [
    "# Condition to get p(y | g, c)\n",
    "# Note, this is just the conditional probabilities at the node leaves. \n",
    "y_norm = new_joint_p.sum(2)\n",
    "Py_given_gc = new_joint_p / y_norm.expand(2,2,2).permute(1,2,0)\n",
    "Py_given_gc"
   ]
  },
  {
   "cell_type": "code",
   "execution_count": 84,
   "metadata": {},
   "outputs": [
    {
     "data": {
      "text/plain": [
       "tensor([[0.4836, 0.5164],\n",
       "        [0.0989, 0.9011]])"
      ]
     },
     "execution_count": 84,
     "metadata": {},
     "output_type": "execute_result"
    }
   ],
   "source": [
    "# Condition to get (g | c)\n",
    "# Sum out y: remaining dimensions are g, c\n",
    "Pgc = new_joint_p.sum(2)\n",
    "gc_norm = Pgc.sum(1)\n",
    "Pg_given_c = Pgc / gc_norm.expand(2,2).permute(1,0)\n",
    "Pg_given_c"
   ]
  },
  {
   "cell_type": "code",
   "execution_count": 85,
   "metadata": {},
   "outputs": [
    {
     "data": {
      "text/plain": [
       "tensor([0.2122, 0.7878])"
      ]
     },
     "execution_count": 85,
     "metadata": {},
     "output_type": "execute_result"
    }
   ],
   "source": [
    "# Find the preposterior on c\n",
    "Pc = new_joint_p.sum(axis=(0,2))\n",
    "Pc"
   ]
  }
 ],
 "metadata": {
  "kernelspec": {
   "display_name": "venv",
   "language": "python",
   "name": "python3"
  },
  "language_info": {
   "codemirror_mode": {
    "name": "ipython",
    "version": 3
   },
   "file_extension": ".py",
   "mimetype": "text/x-python",
   "name": "python",
   "nbconvert_exporter": "python",
   "pygments_lexer": "ipython3",
   "version": "3.12.4"
  }
 },
 "nbformat": 4,
 "nbformat_minor": 2
}
