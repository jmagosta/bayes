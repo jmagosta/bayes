{
 "cells": [
  {
   "cell_type": "markdown",
   "metadata": {},
   "source": [
    "# Solving Single Decisions\n",
    "\n",
    "## The \"Party Problem\" example\n",
    "\n",
    "JMA 11 Jan 2024"
   ]
  },
  {
   "cell_type": "code",
   "execution_count": 1,
   "metadata": {},
   "outputs": [],
   "source": [
    "# Imports from the python standard library\n",
    "import math, re, os, sys \n",
    "from pathlib import Path\n",
    "import itertools            # to flatten lists\n",
    "\n",
    "# Import array and dataframe packages\n",
    "import numpy as np\n",
    "# import numpy.linalg as la\n",
    "import pandas as pd\n",
    "# import torch\n",
    "\n",
    "import networkx as nx\n",
    "\n",
    "# Use to parse xdsl files\n",
    "# import xml.etree.ElementTree as et\n",
    "# for extract_net\n",
    "from ID_operations import * \n",
    "import BN\n",
    "\n",
    "\n",
    "# Import the bokeh python wrappers for javascript plots\n",
    "#  - a preferred visualization tool\n",
    "# from bokeh.plotting import figure, show\n",
    "# from bokeh.models import ColumnDataSource, VBar, Span\n",
    "# from bokeh.io import output_notebook\n",
    "# output_notebook()\n",
    "\n",
    "NETWORK_FILE = 'PartyProblem_asym.xdsl' # 'PartyProblem_asym.xdsl'  # "
   ]
  },
  {
   "cell_type": "code",
   "execution_count": 2,
   "metadata": {},
   "outputs": [
    {
     "name": "stdout",
     "output_type": "stream",
     "text": [
      "found nodes\n"
     ]
    },
    {
     "data": {
      "text/plain": [
       "[('Party_location', 'decision'),\n",
       " ('Weather', 'cpt'),\n",
       " ('Preferences', 'utility'),\n",
       " ('Utility', 'maux'),\n",
       " ('Adjustor', 'cpt'),\n",
       " ('Detector', 'cpt')]"
      ]
     },
     "execution_count": 2,
     "metadata": {},
     "output_type": "execute_result"
    }
   ],
   "source": [
    "# BN structure is contained under the node branch\n",
    "parsed = BN.extract_net(NETWORK_FILE)\n",
    "nodes, extensions = parsed\n",
    "# tags tell the node type. \n",
    "[( k.get('id'), k.tag) for k in nodes]"
   ]
  },
  {
   "cell_type": "markdown",
   "metadata": {},
   "source": [
    "## Bayes networks object\n",
    "\n",
    "### Include state and variable names to tensor dimensions\n",
    "\n",
    "### Add graph structure\n",
    "\n",
    "It contains \n",
    "\n",
    "- the parse of the network as a dictionary with node names as keys\n",
    "- The graph object showing network structure\n",
    "- Node Potential objects for computation. \n"
   ]
  },
  {
   "cell_type": "code",
   "execution_count": 3,
   "metadata": {},
   "outputs": [
    {
     "name": "stdout",
     "output_type": "stream",
     "text": [
      "Edges:  [('Weather', 'Preferences'), ('Party_location', 'Preferences'), ('Weather', 'Detector'), ('Adjustor', 'Detector')] \n",
      "\n",
      ">>> Party_location <<<\n",
      "Party_location: decision\n",
      "\tpotential:  ['Party_location']\n",
      "       [1, 1, 1]\n",
      "\n",
      ">>> Weather <<<\n",
      "Weather: cpt\n",
      "\tpotential:  ['Weather']\n",
      "       [0.4000, 0.6000]\n",
      "\n",
      ">>> Preferences <<<\n",
      "Preferences: utility\n",
      "\tpotential:  ['Preferences', 'Weather', 'Party_location']\n",
      "       [[[100.,  90.,  40.],\n",
      "         [  0.,  20.,  50.]]]\n",
      "\n",
      ">>> Adjustor <<<\n",
      "Adjustor: cpt\n",
      "\tpotential:  ['Adjustor']\n",
      "       [0.1000, 0.9000]\n",
      "\n",
      ">>> Detector <<<\n",
      "Detector: cpt\n",
      "\tpotential:  ['Detector', 'Weather', 'Adjustor']\n",
      "       [[[0.5100, 0.4900],\n",
      "         [0.8700, 0.1300]],\n",
      "\n",
      "        [[0.4800, 0.5200],\n",
      "         [0.4000, 0.6000]]]\n",
      "\n"
     ]
    }
   ],
   "source": [
    "# CPT contents are stored in row major order (first row, second row, ...)\n",
    "# Parents are the first matrix dimension -- matrix is Row Markov\n",
    "pp_net = BN.reap(parsed)\n",
    "pp_net.pr_nodes()\n"
   ]
  },
  {
   "cell_type": "code",
   "execution_count": 4,
   "metadata": {},
   "outputs": [
    {
     "name": "stdout",
     "output_type": "stream",
     "text": [
      "Node\t{ancestors}\n",
      "\t{descendants}\n",
      "\n",
      "Weather :  set() \n",
      "\t {'Preferences', 'Detector'} \n",
      "\n",
      "Preferences :  {'Weather', 'Party_location'} \n",
      "\t set() \n",
      "\n",
      "Party_location :  set() \n",
      "\t {'Preferences'} \n",
      "\n",
      "Detector :  {'Adjustor', 'Weather'} \n",
      "\t set() \n",
      "\n",
      "Adjustor :  set() \n",
      "\t {'Detector'} \n",
      "\n"
     ]
    }
   ],
   "source": [
    "pp_net.pr_influences()\n",
    "\n"
   ]
  },
  {
   "cell_type": "code",
   "execution_count": 5,
   "metadata": {},
   "outputs": [
    {
     "name": "stdout",
     "output_type": "stream",
     "text": [
      "Weather \n",
      "\t OrderedDict({'Weather': 2})\n",
      "\ttensor([0.4000, 0.6000]) \n",
      "\n",
      "Preferences \n",
      "\t OrderedDict({'Preferences': 1, 'Weather': 2, 'Party_location': 3})\n",
      "\ttensor([[[100.,  90.,  40.],\n",
      "         [  0.,  20.,  50.]]]) \n",
      "\n",
      "Adjustor \n",
      "\t OrderedDict({'Adjustor': 2})\n",
      "\ttensor([0.1000, 0.9000]) \n",
      "\n",
      "Detector \n",
      "\t OrderedDict({'Detector': 2, 'Weather': 2, 'Adjustor': 2})\n",
      "\ttensor([[[0.5100, 0.4900],\n",
      "         [0.8700, 0.1300]],\n",
      "\n",
      "        [[0.4800, 0.5200],\n",
      "         [0.4000, 0.6000]]]) \n",
      "\n"
     ]
    }
   ],
   "source": [
    "pp_net.pr_named_tensors()\n",
    "# TODO - The detector should be p(D | W A)  It looks like A is the last dimension, and the marginal. "
   ]
  },
  {
   "cell_type": "code",
   "execution_count": 6,
   "metadata": {},
   "outputs": [
    {
     "data": {
      "image/png": "[encoded data removed]",
      "text/plain": [
       "<Figure size 600x300 with 1 Axes>"
      ]
     },
     "metadata": {},
     "output_type": "display_data"
    }
   ],
   "source": [
    "# TODO move to BN class\n",
    "\n",
    "pp_net.pr_network()"
   ]
  },
  {
   "cell_type": "markdown",
   "metadata": {},
   "source": [
    "### Extract matrices as tensors.  _List all tensors_"
   ]
  },
  {
   "cell_type": "code",
   "execution_count": 7,
   "metadata": {},
   "outputs": [
    {
     "name": "stdout",
     "output_type": "stream",
     "text": [
      " *** Weather ***\n",
      "State       Value\n",
      "--------  -------\n",
      "Sunshine      0.4\n",
      "Rain          0.6\n"
     ]
    }
   ],
   "source": [
    "## pretty print one of the variables\n",
    "pp_net.pr_one_dim_table( 'Weather', tablefmt= '.4f', headers= ['State', 'Value'])\n",
    "\n"
   ]
  },
  {
   "cell_type": "markdown",
   "metadata": {},
   "source": [
    "### Utilities"
   ]
  },
  {
   "cell_type": "code",
   "execution_count": 8,
   "metadata": {},
   "outputs": [
    {
     "data": {
      "text/plain": [
       "OrderedDict({'Preferences': 1, 'Weather': 2, 'Party_location': 3})\n",
       "\ttensor([[[100.,  90.,  40.],\n",
       "         [  0.,  20.,  50.]]])"
      ]
     },
     "execution_count": 8,
     "metadata": {},
     "output_type": "execute_result"
    }
   ],
   "source": [
    "# Utility matrix, as a Potential\n",
    "outcome_potential = pp_net.get_potential('Preferences')\n",
    "outcome_potential"
   ]
  },
  {
   "cell_type": "code",
   "execution_count": 9,
   "metadata": {},
   "outputs": [
    {
     "data": {
      "text/plain": [
       "OrderedDict({'Preferences': 1, 'Weather': 2, 'Party_location': 3})\n",
       "\ttensor([[[1.0000, 0.9504, 0.5675],\n",
       "         [0.0000, 0.3229, 0.6667]]])"
      ]
     },
     "execution_count": 9,
     "metadata": {},
     "output_type": "execute_result"
    }
   ],
   "source": [
    "u = delta_utility(outcome_potential)\n",
    "u"
   ]
  },
  {
   "cell_type": "markdown",
   "metadata": {},
   "source": [
    "## Solving the party problem\n",
    "\n",
    "To determine the optimal policy\n",
    "\n",
    "* join Detector and Weather CPTs \n",
    "* join DW with Utility (Decision is implicit in Utility, w/ unit values for all options)\n",
    "* marginalize out unobserved Weather (or do this after decn, to get VOI)\n",
    "* Maximize over options"
   ]
  },
  {
   "cell_type": "markdown",
   "metadata": {},
   "source": [
    "### First solution - only prior, no observation "
   ]
  },
  {
   "cell_type": "code",
   "execution_count": 10,
   "metadata": {},
   "outputs": [
    {
     "data": {
      "text/plain": [
       "OrderedDict({'Preferences': 1, 'Party_location': 3, 'Weather': 2})\n",
       "\ttensor([[[100.,   0.],\n",
       "         [ 90.,  20.],\n",
       "         [ 40.,  50.]]])"
      ]
     },
     "execution_count": 10,
     "metadata": {},
     "output_type": "execute_result"
    }
   ],
   "source": [
    "# Note that marginalize_last is symmetric in its arguments. \n",
    "\n",
    "preference_transpose = move_named_dim_to_end(pp_net.get_potential(\"Preferences\"),  \"Weather\")\n",
    "preference_transpose\n"
   ]
  },
  {
   "cell_type": "code",
   "execution_count": 11,
   "metadata": {},
   "outputs": [
    {
     "name": "stdout",
     "output_type": "stream",
     "text": [
      " *** Party_location ***\n",
      "--------  --\n",
      "Outdoors  40\n",
      "Porch     48\n",
      "Indoors   46\n",
      "--------  --\n"
     ]
    }
   ],
   "source": [
    "prior_utility = marginalize_last(preference_transpose, pp_net.get_potential(\"Weather\"))\n",
    "BN.pr_table(prior_utility, 'Party_location', pp_net.get_node(\"Party_location\").states)\n",
    "# pp_net.pr_one_dim_table(prior_utility.p, ) \n"
   ]
  },
  {
   "cell_type": "code",
   "execution_count": 12,
   "metadata": {},
   "outputs": [
    {
     "ename": "IndexError",
     "evalue": "pop index out of range",
     "output_type": "error",
     "traceback": [
      "\u001b[0;31m---------------------------------------------------------------------------\u001b[0m",
      "\u001b[0;31mIndexError\u001b[0m                                Traceback (most recent call last)",
      "Cell \u001b[0;32mIn[12], line 6\u001b[0m\n\u001b[1;32m      1\u001b[0m \u001b[38;5;66;03m# pre_posterior, shape =  weather_cpt.p @ detector_cpt.p.permute(2,0,1) @ adjustor_cpt.p\u001b[39;00m\n\u001b[1;32m      2\u001b[0m \u001b[38;5;66;03m# pre_posterior\u001b[39;00m\n\u001b[1;32m      3\u001b[0m \n\u001b[1;32m      4\u001b[0m   \u001b[38;5;66;03m# return the joint potential, with the conditioning prob last. \u001b[39;00m\n\u001b[1;32m      5\u001b[0m \u001b[38;5;66;03m# join_parent(marginalize_parent(detector_cpt.permute(2,1,0), adjustor_cpt), weather_cpt)\u001b[39;00m\n\u001b[0;32m----> 6\u001b[0m dw_joint \u001b[38;5;241m=\u001b[39m \u001b[43mjoin_parent\u001b[49m\u001b[43m(\u001b[49m\u001b[43mpp_net\u001b[49m\u001b[38;5;241;43m.\u001b[39;49m\u001b[43mget_potential\u001b[49m\u001b[43m(\u001b[49m\u001b[38;5;124;43m\"\u001b[39;49m\u001b[38;5;124;43mDetector\u001b[39;49m\u001b[38;5;124;43m\"\u001b[39;49m\u001b[43m)\u001b[49m\u001b[43m,\u001b[49m\u001b[43m \u001b[49m\u001b[43mpp_net\u001b[49m\u001b[38;5;241;43m.\u001b[39;49m\u001b[43mget_potential\u001b[49m\u001b[43m(\u001b[49m\u001b[38;5;124;43m'\u001b[39;49m\u001b[38;5;124;43mWeather\u001b[39;49m\u001b[38;5;124;43m'\u001b[39;49m\u001b[43m)\u001b[49m\u001b[43m)\u001b[49m\n\u001b[1;32m      7\u001b[0m dw_joint\n",
      "File \u001b[0;32m~/repos/bayes/partyproblem/ID_operations.py:123\u001b[0m, in \u001b[0;36mjoin_parent\u001b[0;34m(the_conditional, the_parent)\u001b[0m\n\u001b[1;32m    121\u001b[0m new_shape \u001b[38;5;241m=\u001b[39m shift_to_end(new_shape, parent_var)\n\u001b[1;32m    122\u001b[0m c_transpose \u001b[38;5;241m=\u001b[39m \u001b[38;5;28mlist\u001b[39m(\u001b[38;5;28mrange\u001b[39m(\u001b[38;5;28mlen\u001b[39m(new_shape)))\n\u001b[0;32m--> 123\u001b[0m c_transpose\u001b[38;5;241m.\u001b[39mappend(\u001b[43mc_transpose\u001b[49m\u001b[38;5;241;43m.\u001b[39;49m\u001b[43mpop\u001b[49m\u001b[43m(\u001b[49m\u001b[43mfound_dim\u001b[49m\u001b[43m)\u001b[49m)\n\u001b[1;32m    124\u001b[0m \u001b[38;5;66;03m# Transpose CPT\u001b[39;00m\n\u001b[1;32m    125\u001b[0m the_conditional\u001b[38;5;241m.\u001b[39mp\u001b[38;5;241m.\u001b[39mpermute(c_transpose)\n",
      "\u001b[0;31mIndexError\u001b[0m: pop index out of range"
     ]
    }
   ],
   "source": [
    "# pre_posterior, shape =  weather_cpt.p @ detector_cpt.p.permute(2,0,1) @ adjustor_cpt.p\n",
    "# pre_posterior\n",
    "\n",
    "  # return the joint potential, with the conditioning prob last. \n",
    "# join_parent(marginalize_parent(detector_cpt.permute(2,1,0), adjustor_cpt), weather_cpt)\n",
    "dw_joint = join_parent(pp_net.get_potential(\"Detector\"), pp_net.get_potential('Weather'))\n",
    "dw_joint\n"
   ]
  },
  {
   "cell_type": "code",
   "execution_count": null,
   "metadata": {},
   "outputs": [],
   "source": [
    "# P( Weather | Detector) - column markov\n",
    "# See p 270 Figure 13.6\n",
    "#   Transpose the joint to get the Detector in last dim, and normalize \n",
    "pre_posterior_p = dw_joint.p.sum(-1) \n",
    "p = dw_joint.p.transpose(0,1) * (1/pre_posterior_p)\n",
    "# reverse the shape \n",
    "posterior = Potential(p, OrderedDict(list(reversed(dw_joint.shape.items()))) )\n",
    "print(pre_posterior_p, '\\n\\n', posterior)\n",
    "\n"
   ]
  },
  {
   "cell_type": "code",
   "execution_count": null,
   "metadata": {},
   "outputs": [],
   "source": [
    "# One approach is to add a unsqueeze dim to match Detector at the end of preference transpose\n",
    "# BINGO\n",
    "extended_preference = preference_transpose.p.unsqueeze(-1).unsqueeze(-1)\n",
    "print(extended_preference.shape)\n",
    "# Sum out the weather dimension\n",
    "policy_values = (extended_preference * posterior.p).sum(2)\n",
    "print('E[ V | Party_location, Detector] = ')\n",
    "policy_values\n",
    "# Next we need to weight the optimal in each column by the pre-posterior."
   ]
  },
  {
   "cell_type": "code",
   "execution_count": null,
   "metadata": {},
   "outputs": [],
   "source": [
    "extended_preference * posterior.p"
   ]
  },
  {
   "cell_type": "code",
   "execution_count": null,
   "metadata": {},
   "outputs": [],
   "source": [
    "# TODO Need to format list entries before passing to tabulate. \n",
    "# TODO looks like the State labels are flipped. \n",
    "detector_states= pp_net.n_dict['Detector']['states'].copy()\n",
    "detector_states.insert(0, 'State')\n",
    "pr_one_dim_table(policy_values.squeeze(0), \n",
    "    'Party_location',\n",
    "    pp_net.n_dict, \n",
    "    floatfmt= \".3f\", \n",
    "    headers= detector_states)\n",
    "        "
   ]
  },
  {
   "cell_type": "code",
   "execution_count": null,
   "metadata": {},
   "outputs": [],
   "source": [
    "policy_values.squeeze(0).sum(-1)"
   ]
  },
  {
   "cell_type": "code",
   "execution_count": null,
   "metadata": {},
   "outputs": [],
   "source": [
    "# TODO what is the last dim?  Need to remove it. \n",
    "fig, ax = plt.subplots(1,2, figsize = (6, 2.6))\n",
    "policy_values_2d_a = pd.DataFrame(policy_values.squeeze(0)[:,:,1], columns = pp_net.n_dict['Detector']['states'], \n",
    "                                index = pp_net.n_dict['Party_location']['states'])\n",
    "sn.heatmap(policy_values_2d_a, annot=True, xticklabels=True, yticklabels=True, ax=ax[0])\n",
    "policy_values_2d_b = pd.DataFrame(policy_values.squeeze(0)[:,:,0], columns = pp_net.n_dict['Detector']['states'], \n",
    "                                index = pp_net.n_dict['Party_location']['states'])\n",
    "sn.heatmap(policy_values_2d_b, annot=True, xticklabels=True, yticklabels=True, ax=ax[1])"
   ]
  },
  {
   "cell_type": "code",
   "execution_count": null,
   "metadata": {},
   "outputs": [],
   "source": [
    "# Find the max value in each column. \n",
    "decn = policy_values.max(1)\n",
    "decn.values, decn.indices"
   ]
  },
  {
   "cell_type": "code",
   "execution_count": null,
   "metadata": {},
   "outputs": [],
   "source": [
    "# Value with information. \n",
    "# However utility should be applied after computing expected values to get certain equivalents\n",
    "# sigh\n",
    "# 0.7782 * 0.44 + 0.6557 * 0.56\n",
    "decn.values @ get_potential('Weather', pp_net.n_dict).p"
   ]
  }
 ],
 "metadata": {
  "kernelspec": {
   "display_name": "venv",
   "language": "python",
   "name": "python3"
  },
  "language_info": {
   "codemirror_mode": {
    "name": "ipython",
    "version": 3
   },
   "file_extension": ".py",
   "mimetype": "text/x-python",
   "name": "python",
   "nbconvert_exporter": "python",
   "pygments_lexer": "ipython3",
   "version": "3.12.4"
  }
 },
 "nbformat": 4,
 "nbformat_minor": 2
}
