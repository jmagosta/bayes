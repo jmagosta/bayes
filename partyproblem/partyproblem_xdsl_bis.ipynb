{
 "cells": [
  {
   "cell_type": "markdown",
   "metadata": {},
   "source": [
    "# Solving Single Decisions\n",
    "\n",
    "## The \"Party Problem\" example\n",
    "\n",
    "JMA 11 Jan 2024"
   ]
  },
  {
   "cell_type": "code",
   "execution_count": 1,
   "metadata": {},
   "outputs": [
    {
     "data": {
      "text/html": [
       "    <style>\n",
       "        .bk-notebook-logo {\n",
       "            display: block;\n",
       "            width: 20px;\n",
       "            height: 20px;\n",
       "            background-image: url(data:image/png;base64,iVBORw0KGgoAAAANSUhEUgAAABQAAAAUCAYAAACNiR0NAAAABHNCSVQICAgIfAhkiAAAAAlwSFlzAAALEgAACxIB0t1+/AAAABx0RVh0U29mdHdhcmUAQWRvYmUgRmlyZXdvcmtzIENTNui8sowAAAOkSURBVDiNjZRtaJVlGMd/1/08zzln5zjP1LWcU9N0NkN8m2CYjpgQYQXqSs0I84OLIC0hkEKoPtiH3gmKoiJDU7QpLgoLjLIQCpEsNJ1vqUOdO7ppbuec5+V+rj4ctwzd8IIbbi6u+8f1539dt3A78eXC7QizUF7gyV1fD1Yqg4JWz84yffhm0qkFqBogB9rM8tZdtwVsPUhWhGcFJngGeWrPzHm5oaMmkfEg1usvLFyc8jLRqDOMru7AyC8saQr7GG7f5fvDeH7Ej8CM66nIF+8yngt6HWaKh7k49Soy9nXurCi1o3qUbS3zWfrYeQDTB/Qj6kX6Ybhw4B+bOYoLKCC9H3Nu/leUTZ1JdRWkkn2ldcCamzrcf47KKXdAJllSlxAOkRgyHsGC/zRday5Qld9DyoM4/q/rUoy/CXh3jzOu3bHUVZeU+DEn8FInkPBFlu3+nW3Nw0mk6vCDiWg8CeJaxEwuHS3+z5RgY+YBR6V1Z1nxSOfoaPa4LASWxxdNp+VWTk7+4vzaou8v8PN+xo+KY2xsw6une2frhw05CTYOmQvsEhjhWjn0bmXPjpE1+kplmmkP3suftwTubK9Vq22qKmrBhpY4jvd5afdRA3wGjFAgcnTK2s4hY0/GPNIb0nErGMCRxWOOX64Z8RAC4oCXdklmEvcL8o0BfkNK4lUg9HTl+oPlQxdNo3Mg4Nv175e/1LDGzZen30MEjRUtmXSfiTVu1kK8W4txyV6BMKlbgk3lMwYCiusNy9fVfvvwMxv8Ynl6vxoByANLTWplvuj/nF9m2+PDtt1eiHPBr1oIfhCChQMBw6Aw0UulqTKZdfVvfG7VcfIqLG9bcldL/+pdWTLxLUy8Qq38heUIjh4XlzZxzQm19lLFlr8vdQ97rjZVOLf8nclzckbcD4wxXMidpX30sFd37Fv/GtwwhzhxGVAprjbg0gCAEeIgwCZyTV2Z1REEW8O4py0wsjeloKoMr6iCY6dP92H6Vw/oTyICIthibxjm/DfN9lVz8IqtqKYLUXfoKVMVQVVJOElGjrnnUt9T9wbgp8AyYKaGlqingHZU/uG2NTZSVqwHQTWkx9hxjkpWDaCg6Ckj5qebgBVbT3V3NNXMSiWSDdGV3hrtzla7J+duwPOToIg42ChPQOQjspnSlp1V+Gjdged7+8UN5CRAV7a5EdFNwCjEaBR27b3W890TE7g24NAP/mMDXRWrGoFPQI9ls/MWO2dWFAar/xcOIImbbpA3zgAAAABJRU5ErkJggg==);\n",
       "        }\n",
       "    </style>\n",
       "    <div>\n",
       "        <a href=\"https://bokeh.org\" target=\"_blank\" class=\"bk-notebook-logo\"></a>\n",
       "        <span id=\"a5b7bd95-8f5a-45d1-9278-f344407a333c\">Loading BokehJS ...</span>\n",
       "    </div>\n"
      ]
     },
     "metadata": {},
     "output_type": "display_data"
    },
    {
     "data": {
      "application/javascript": "'use strict';\n(function(root) {\n  function now() {\n    return new Date();\n  }\n\n  const force = true;\n\n  if (typeof root._bokeh_onload_callbacks === \"undefined\" || force === true) {\n    root._bokeh_onload_callbacks = [];\n    root._bokeh_is_loading = undefined;\n  }\n\nconst JS_MIME_TYPE = 'application/javascript';\n  const HTML_MIME_TYPE = 'text/html';\n  const EXEC_MIME_TYPE = 'application/vnd.bokehjs_exec.v0+json';\n  const CLASS_NAME = 'output_bokeh rendered_html';\n\n  /**\n   * Render data to the DOM node\n   */\n  function render(props, node) {\n    const script = document.createElement(\"script\");\n    node.appendChild(script);\n  }\n\n  /**\n   * Handle when an output is cleared or removed\n   */\n  function handleClearOutput(event, handle) {\n    function drop(id) {\n      const view = Bokeh.index.get_by_id(id)\n      if (view != null) {\n        view.model.document.clear()\n        Bokeh.index.delete(view)\n      }\n    }\n\n    const cell = handle.cell;\n\n    const id = cell.output_area._bokeh_element_id;\n    const server_id = cell.output_area._bokeh_server_id;\n\n    // Clean up Bokeh references\n    if (id != null) {\n      drop(id)\n    }\n\n    if (server_id !== undefined) {\n      // Clean up Bokeh references\n      const cmd_clean = \"from bokeh.io.state import curstate; print(curstate().uuid_to_server['\" + server_id + \"'].get_sessions()[0].document.roots[0]._id)\";\n      cell.notebook.kernel.execute(cmd_clean, {\n        iopub: {\n          output: function(msg) {\n            const id = msg.content.text.trim()\n            drop(id)\n          }\n        }\n      });\n      // Destroy server and session\n      const cmd_destroy = \"import bokeh.io.notebook as ion; ion.destroy_server('\" + server_id + \"')\";\n      cell.notebook.kernel.execute(cmd_destroy);\n    }\n  }\n\n  /**\n   * Handle when a new output is added\n   */\n  function handleAddOutput(event, handle) {\n    const output_area = handle.output_area;\n    const output = handle.output;\n\n    // limit handleAddOutput to display_data with EXEC_MIME_TYPE content only\n    if ((output.output_type != \"display_data\") || (!Object.prototype.hasOwnProperty.call(output.data, EXEC_MIME_TYPE))) {\n      return\n    }\n\n    const toinsert = output_area.element.find(\".\" + CLASS_NAME.split(' ')[0]);\n\n    if (output.metadata[EXEC_MIME_TYPE][\"id\"] !== undefined) {\n      toinsert[toinsert.length - 1].firstChild.textContent = output.data[JS_MIME_TYPE];\n      // store reference to embed id on output_area\n      output_area._bokeh_element_id = output.metadata[EXEC_MIME_TYPE][\"id\"];\n    }\n    if (output.metadata[EXEC_MIME_TYPE][\"server_id\"] !== undefined) {\n      const bk_div = document.createElement(\"div\");\n      bk_div.innerHTML = output.data[HTML_MIME_TYPE];\n      const script_attrs = bk_div.children[0].attributes;\n      for (let i = 0; i < script_attrs.length; i++) {\n        toinsert[toinsert.length - 1].firstChild.setAttribute(script_attrs[i].name, script_attrs[i].value);\n        toinsert[toinsert.length - 1].firstChild.textContent = bk_div.children[0].textContent\n      }\n      // store reference to server id on output_area\n      output_area._bokeh_server_id = output.metadata[EXEC_MIME_TYPE][\"server_id\"];\n    }\n  }\n\n  function register_renderer(events, OutputArea) {\n\n    function append_mime(data, metadata, element) {\n      // create a DOM node to render to\n      const toinsert = this.create_output_subarea(\n        metadata,\n        CLASS_NAME,\n        EXEC_MIME_TYPE\n      );\n      this.keyboard_manager.register_events(toinsert);\n      // Render to node\n      const props = {data: data, metadata: metadata[EXEC_MIME_TYPE]};\n      render(props, toinsert[toinsert.length - 1]);\n      element.append(toinsert);\n      return toinsert\n    }\n\n    /* Handle when an output is cleared or removed */\n    events.on('clear_output.CodeCell', handleClearOutput);\n    events.on('delete.Cell', handleClearOutput);\n\n    /* Handle when a new output is added */\n    events.on('output_added.OutputArea', handleAddOutput);\n\n    /**\n     * Register the mime type and append_mime function with output_area\n     */\n    OutputArea.prototype.register_mime_type(EXEC_MIME_TYPE, append_mime, {\n      /* Is output safe? */\n      safe: true,\n      /* Index of renderer in `output_area.display_order` */\n      index: 0\n    });\n  }\n\n  // register the mime type if in Jupyter Notebook environment and previously unregistered\n  if (root.Jupyter !== undefined) {\n    const events = require('base/js/events');\n    const OutputArea = require('notebook/js/outputarea').OutputArea;\n\n    if (OutputArea.prototype.mime_types().indexOf(EXEC_MIME_TYPE) == -1) {\n      register_renderer(events, OutputArea);\n    }\n  }\n  if (typeof (root._bokeh_timeout) === \"undefined\" || force === true) {\n    root._bokeh_timeout = Date.now() + 5000;\n    root._bokeh_failed_load = false;\n  }\n\n  const NB_LOAD_WARNING = {'data': {'text/html':\n     \"<div style='background-color: #fdd'>\\n\"+\n     \"<p>\\n\"+\n     \"BokehJS does not appear to have successfully loaded. If loading BokehJS from CDN, this \\n\"+\n     \"may be due to a slow or bad network connection. Possible fixes:\\n\"+\n     \"</p>\\n\"+\n     \"<ul>\\n\"+\n     \"<li>re-rerun `output_notebook()` to attempt to load from CDN again, or</li>\\n\"+\n     \"<li>use INLINE resources instead, as so:</li>\\n\"+\n     \"</ul>\\n\"+\n     \"<code>\\n\"+\n     \"from bokeh.resources import INLINE\\n\"+\n     \"output_notebook(resources=INLINE)\\n\"+\n     \"</code>\\n\"+\n     \"</div>\"}};\n\n  function display_loaded(error = null) {\n    const el = document.getElementById(\"a5b7bd95-8f5a-45d1-9278-f344407a333c\");\n    if (el != null) {\n      const html = (() => {\n        if (typeof root.Bokeh === \"undefined\") {\n          if (error == null) {\n            return \"BokehJS is loading ...\";\n          } else {\n            return \"BokehJS failed to load.\";\n          }\n        } else {\n          const prefix = `BokehJS ${root.Bokeh.version}`;\n          if (error == null) {\n            return `${prefix} successfully loaded.`;\n          } else {\n            return `${prefix} <b>encountered errors</b> while loading and may not function as expected.`;\n          }\n        }\n      })();\n      el.innerHTML = html;\n\n      if (error != null) {\n        const wrapper = document.createElement(\"div\");\n        wrapper.style.overflow = \"auto\";\n        wrapper.style.height = \"5em\";\n        wrapper.style.resize = \"vertical\";\n        const content = document.createElement(\"div\");\n        content.style.fontFamily = \"monospace\";\n        content.style.whiteSpace = \"pre-wrap\";\n        content.style.backgroundColor = \"rgb(255, 221, 221)\";\n        content.textContent = error.stack ?? error.toString();\n        wrapper.append(content);\n        el.append(wrapper);\n      }\n    } else if (Date.now() < root._bokeh_timeout) {\n      setTimeout(() => display_loaded(error), 100);\n    }\n  }\n\n  function run_callbacks() {\n    try {\n      root._bokeh_onload_callbacks.forEach(function(callback) {\n        if (callback != null)\n          callback();\n      });\n    } finally {\n      delete root._bokeh_onload_callbacks\n    }\n    console.debug(\"Bokeh: all callbacks have finished\");\n  }\n\n  function load_libs(css_urls, js_urls, callback) {\n    if (css_urls == null) css_urls = [];\n    if (js_urls == null) js_urls = [];\n\n    root._bokeh_onload_callbacks.push(callback);\n    if (root._bokeh_is_loading > 0) {\n      console.debug(\"Bokeh: BokehJS is being loaded, scheduling callback at\", now());\n      return null;\n    }\n    if (js_urls == null || js_urls.length === 0) {\n      run_callbacks();\n      return null;\n    }\n    console.debug(\"Bokeh: BokehJS not loaded, scheduling load and callback at\", now());\n    root._bokeh_is_loading = css_urls.length + js_urls.length;\n\n    function on_load() {\n      root._bokeh_is_loading--;\n      if (root._bokeh_is_loading === 0) {\n        console.debug(\"Bokeh: all BokehJS libraries/stylesheets loaded\");\n        run_callbacks()\n      }\n    }\n\n    function on_error(url) {\n      console.error(\"failed to load \" + url);\n    }\n\n    for (let i = 0; i < css_urls.length; i++) {\n      const url = css_urls[i];\n      const element = document.createElement(\"link\");\n      element.onload = on_load;\n      element.onerror = on_error.bind(null, url);\n      element.rel = \"stylesheet\";\n      element.type = \"text/css\";\n      element.href = url;\n      console.debug(\"Bokeh: injecting link tag for BokehJS stylesheet: \", url);\n      document.body.appendChild(element);\n    }\n\n    for (let i = 0; i < js_urls.length; i++) {\n      const url = js_urls[i];\n      const element = document.createElement('script');\n      element.onload = on_load;\n      element.onerror = on_error.bind(null, url);\n      element.async = false;\n      element.src = url;\n      console.debug(\"Bokeh: injecting script tag for BokehJS library: \", url);\n      document.head.appendChild(element);\n    }\n  };\n\n  function inject_raw_css(css) {\n    const element = document.createElement(\"style\");\n    element.appendChild(document.createTextNode(css));\n    document.body.appendChild(element);\n  }\n\n  const js_urls = [\"https://cdn.bokeh.org/bokeh/release/bokeh-3.6.0.min.js\", \"https://cdn.bokeh.org/bokeh/release/bokeh-gl-3.6.0.min.js\", \"https://cdn.bokeh.org/bokeh/release/bokeh-widgets-3.6.0.min.js\", \"https://cdn.bokeh.org/bokeh/release/bokeh-tables-3.6.0.min.js\", \"https://cdn.bokeh.org/bokeh/release/bokeh-mathjax-3.6.0.min.js\"];\n  const css_urls = [];\n\n  const inline_js = [    function(Bokeh) {\n      Bokeh.set_log_level(\"info\");\n    },\nfunction(Bokeh) {\n    }\n  ];\n\n  function run_inline_js() {\n    if (root.Bokeh !== undefined || force === true) {\n      try {\n            for (let i = 0; i < inline_js.length; i++) {\n      inline_js[i].call(root, root.Bokeh);\n    }\n\n      } catch (error) {display_loaded(error);throw error;\n      }if (force === true) {\n        display_loaded();\n      }} else if (Date.now() < root._bokeh_timeout) {\n      setTimeout(run_inline_js, 100);\n    } else if (!root._bokeh_failed_load) {\n      console.log(\"Bokeh: BokehJS failed to load within specified timeout.\");\n      root._bokeh_failed_load = true;\n    } else if (force !== true) {\n      const cell = $(document.getElementById(\"a5b7bd95-8f5a-45d1-9278-f344407a333c\")).parents('.cell').data().cell;\n      cell.output_area.append_execute_result(NB_LOAD_WARNING)\n    }\n  }\n\n  if (root._bokeh_is_loading === 0) {\n    console.debug(\"Bokeh: BokehJS loaded, going straight to plotting\");\n    run_inline_js();\n  } else {\n    load_libs(css_urls, js_urls, function() {\n      console.debug(\"Bokeh: BokehJS plotting callback run at\", now());\n      run_inline_js();\n    });\n  }\n}(window));",
      "application/vnd.bokehjs_load.v0+json": ""
     },
     "metadata": {},
     "output_type": "display_data"
    }
   ],
   "source": [
    "# Imports from the python standard library\n",
    "import math, re, os, sys \n",
    "from pathlib import Path\n",
    "import itertools            # to flatten lists\n",
    "\n",
    "# Import array and dataframe packages\n",
    "import numpy as np\n",
    "# import numpy.linalg as la\n",
    "import pandas as pd\n",
    "import torch\n",
    "\n",
    "import networkx as nx\n",
    "\n",
    "# Use to parse xdsl files\n",
    "# import xml.etree.ElementTree as et\n",
    "# for extract_net\n",
    "import BN\n",
    "\n",
    "from tabulate import tabulate\n",
    "import matplotlib.pyplot as plt\n",
    "import seaborn as sn \n",
    "# Import the bokeh python wrappers for javascript plots\n",
    "#  - a preferred visualization tool\n",
    "from bokeh.plotting import figure, show\n",
    "from bokeh.models import ColumnDataSource, VBar, Span\n",
    "from bokeh.io import output_notebook\n",
    "output_notebook()\n",
    "\n",
    "NETWORK_FILE = 'PartyProblem_asym.xdsl' # 'PartyProblem_asym.xdsl'  # "
   ]
  },
  {
   "cell_type": "code",
   "execution_count": 2,
   "metadata": {},
   "outputs": [
    {
     "name": "stdout",
     "output_type": "stream",
     "text": [
      "found nodes\n"
     ]
    },
    {
     "data": {
      "text/plain": [
       "[('Party_location', 'decision'),\n",
       " ('Weather', 'cpt'),\n",
       " ('Preferences', 'utility'),\n",
       " ('Utility', 'maux'),\n",
       " ('Adjustor', 'cpt'),\n",
       " ('Detector', 'cpt')]"
      ]
     },
     "execution_count": 2,
     "metadata": {},
     "output_type": "execute_result"
    }
   ],
   "source": [
    "# BN structure is contained under the node branch\n",
    "parsed = BN.extract_net(NETWORK_FILE)\n",
    "nodes, extensions = parsed\n",
    "# tags tell the node type. \n",
    "[( k.get('id'), k.tag) for k in nodes]"
   ]
  },
  {
   "cell_type": "markdown",
   "metadata": {},
   "source": [
    "## Bayes networks object\n",
    "\n",
    "It contains \n",
    "\n",
    "- the parse of the network as a dictionary with node names as keys\n",
    "- The graph object showing network structure\n",
    "- Potential objects for computation. \n",
    "\n",
    "CPT parent order: Dimensions are stored in matrix dimension order. "
   ]
  },
  {
   "cell_type": "code",
   "execution_count": 3,
   "metadata": {},
   "outputs": [
    {
     "name": "stdout",
     "output_type": "stream",
     "text": [
      ">>> Party_location <<<\n",
      "\tkind: decision\n",
      "\tparents: []\n",
      "\tstates: ['Outdoors', 'Porch', 'Indoors']\n",
      "\tposition: [245, 268, 324, 324]\n",
      "\n",
      ">>> Weather <<<\n",
      "\tkind: cpt\n",
      "\tparents: []\n",
      "\tstates: ['Sunshine', 'Rain']\n",
      "\tpotential:  ['Weather']\n",
      "\t [0.4000, 0.6000]\n",
      "\tposition: [298, 119, 408, 174]\n",
      "\n",
      ">>> Preferences <<<\n",
      "\tkind: utility\n",
      "\tparents: ['Weather', 'Party_location']\n",
      "\tstates: ['utility']\n",
      "\tpotential:  ['Preferences', 'Weather', 'Party_location']\n",
      "\t [[[100.,  90.,  40.],\n",
      "         [  0.,  20.,  50.]]]\n",
      "\tposition: [435, 281, 573, 329]\n",
      "\n",
      ">>> Utility <<<\n",
      "\tkind: maux\n",
      "\tparents: ['Preferences']\n",
      "\tposition: [660, 279, 746, 327]\n",
      "\n",
      ">>> Adjustor <<<\n",
      "\tkind: cpt\n",
      "\tparents: []\n",
      "\tstates: ['absent', 'ppresent']\n",
      "\tpotential:  ['Adjustor']\n",
      "\t [0.1000, 0.9000]\n",
      "\tposition: [62, 81, 174, 116]\n",
      "\n",
      ">>> Detector <<<\n",
      "\tkind: cpt\n",
      "\tparents: ['Weather', 'Adjustor']\n",
      "\tstates: ['SaySun', 'SayRain']\n",
      "\tpotential:  ['Detector', 'Weather', 'Adjustor']\n",
      "\t [[[0.5100, 0.4900],\n",
      "         [0.8700, 0.1300]],\n",
      "\n",
      "        [[0.4800, 0.5200],\n",
      "         [0.4000, 0.6000]]]\n",
      "\tposition: [106, 175, 224, 230]\n",
      "\n"
     ]
    }
   ],
   "source": [
    "# view the XML of an element\n",
    "# CPT contents are stored in row major order (first row, second row, ...)\n",
    "# Parents are the first matrix dimension -- matrix is Row Markov\n",
    "# et.dump(\n",
    "pp_net = BN.reap(parsed)\n",
    "pp_net.pr_nodes()\n"
   ]
  },
  {
   "cell_type": "markdown",
   "metadata": {},
   "source": [
    "### Include state and variable names to tensor dimensions"
   ]
  },
  {
   "cell_type": "markdown",
   "metadata": {},
   "source": [
    "### Add graph structure"
   ]
  },
  {
   "cell_type": "code",
   "execution_count": 4,
   "metadata": {},
   "outputs": [
    {
     "name": "stdout",
     "output_type": "stream",
     "text": [
      "Node\t{ancestors}\n",
      "\t{descendants}\n",
      "\n",
      "Weather :  set() \n",
      "\t {'Utility', 'Detector', 'Preferences'} \n",
      "\n",
      "Preferences :  {'Weather', 'Party_location'} \n",
      "\t {'Utility'} \n",
      "\n",
      "Party_location :  set() \n",
      "\t {'Utility', 'Preferences'} \n",
      "\n",
      "Utility :  {'Weather', 'Party_location', 'Preferences'} \n",
      "\t set() \n",
      "\n",
      "Detector :  {'Adjustor', 'Weather'} \n",
      "\t set() \n",
      "\n",
      "Adjustor :  set() \n",
      "\t {'Detector'} \n",
      "\n"
     ]
    }
   ],
   "source": [
    "pp_net.pr_influences()\n",
    "\n"
   ]
  },
  {
   "cell_type": "code",
   "execution_count": 5,
   "metadata": {},
   "outputs": [
    {
     "name": "stdout",
     "output_type": "stream",
     "text": [
      "Weather \n",
      "\t OrderedDict({'Weather': 2})\n",
      "\ttensor([0.4000, 0.6000]) \n",
      "\n",
      "Preferences \n",
      "\t OrderedDict({'Preferences': 1, 'Weather': 2, 'Party_location': 3})\n",
      "\ttensor([[[100.,  90.,  40.],\n",
      "         [  0.,  20.,  50.]]]) \n",
      "\n",
      "Adjustor \n",
      "\t OrderedDict({'Adjustor': 2})\n",
      "\ttensor([0.1000, 0.9000]) \n",
      "\n",
      "Detector \n",
      "\t OrderedDict({'Detector': 2, 'Weather': 2, 'Adjustor': 2})\n",
      "\ttensor([[[0.5100, 0.4900],\n",
      "         [0.8700, 0.1300]],\n",
      "\n",
      "        [[0.4800, 0.5200],\n",
      "         [0.4000, 0.6000]]]) \n",
      "\n"
     ]
    }
   ],
   "source": [
    "pp_net.pr_named_tensors()"
   ]
  },
  {
   "cell_type": "code",
   "execution_count": 11,
   "metadata": {},
   "outputs": [
    {
     "data": {
      "text/plain": [
       "<BN.BN at 0x13212f590>"
      ]
     },
     "execution_count": 11,
     "metadata": {},
     "output_type": "execute_result"
    }
   ],
   "source": [
    "pp_net"
   ]
  },
  {
   "cell_type": "code",
   "execution_count": 10,
   "metadata": {},
   "outputs": [
    {
     "ename": "AttributeError",
     "evalue": "'BN' object has no attribute 'center_dict'",
     "output_type": "error",
     "traceback": [
      "\u001b[0;31m---------------------------------------------------------------------------\u001b[0m",
      "\u001b[0;31mAttributeError\u001b[0m                            Traceback (most recent call last)",
      "Cell \u001b[0;32mIn[10], line 9\u001b[0m\n\u001b[1;32m      6\u001b[0m     nx\u001b[38;5;241m.\u001b[39mdraw_networkx_nodes(DG, pos\u001b[38;5;241m=\u001b[39mpositions, node_color\u001b[38;5;241m=\u001b[39m\u001b[38;5;124m'\u001b[39m\u001b[38;5;124mlightgrey\u001b[39m\u001b[38;5;124m'\u001b[39m)\n\u001b[1;32m      7\u001b[0m     nx\u001b[38;5;241m.\u001b[39mdraw_networkx_edges(DG, pos\u001b[38;5;241m=\u001b[39mpositions)\n\u001b[0;32m----> 9\u001b[0m \u001b[43mpr_network\u001b[49m\u001b[43m(\u001b[49m\u001b[43mpp_net\u001b[49m\u001b[43m)\u001b[49m\n",
      "Cell \u001b[0;32mIn[10], line 2\u001b[0m, in \u001b[0;36mpr_network\u001b[0;34m(bn)\u001b[0m\n\u001b[1;32m      1\u001b[0m \u001b[38;5;28;01mdef\u001b[39;00m \u001b[38;5;21mpr_network\u001b[39m(bn):\n\u001b[0;32m----> 2\u001b[0m     positions \u001b[38;5;241m=\u001b[39m \u001b[43mbn\u001b[49m\u001b[38;5;241;43m.\u001b[39;49m\u001b[43mcenter_dict\u001b[49m\n\u001b[1;32m      3\u001b[0m     DG \u001b[38;5;241m=\u001b[39m bn\u001b[38;5;241m.\u001b[39mnetwork\n\u001b[1;32m      4\u001b[0m     plt\u001b[38;5;241m.\u001b[39mfigure(figsize\u001b[38;5;241m=\u001b[39m(\u001b[38;5;241m6\u001b[39m,\u001b[38;5;241m3\u001b[39m))\n",
      "\u001b[0;31mAttributeError\u001b[0m: 'BN' object has no attribute 'center_dict'"
     ]
    }
   ],
   "source": [
    "def pr_network(bn):\n",
    "    positions = bn.center_dict\n",
    "    DG = bn.network\n",
    "    plt.figure(figsize=(6,3))\n",
    "    nx.draw_networkx_labels(DG, pos=positions)\n",
    "    nx.draw_networkx_nodes(DG, pos=positions, node_color='lightgrey')\n",
    "    nx.draw_networkx_edges(DG, pos=positions)\n",
    "\n",
    "pr_network(pp_net)"
   ]
  },
  {
   "cell_type": "markdown",
   "metadata": {},
   "source": [
    "### Extract matrices as tensors.  _List all tensors_"
   ]
  },
  {
   "cell_type": "code",
   "execution_count": null,
   "metadata": {},
   "outputs": [
    {
     "name": "stdout",
     "output_type": "stream",
     "text": [
      "Weather \n",
      "\t OrderedDict({'Weather': 2})\n",
      "\ttensor([0.4000, 0.6000]) \n",
      "\n",
      "Preferences \n",
      "\t OrderedDict({'Preferences': 1, 'Weather': 2, 'Party_location': 3})\n",
      "\ttensor([[[100.,  90.,  40.],\n",
      "         [  0.,  20.,  50.]]]) \n",
      "\n",
      "Adjustor \n",
      "\t OrderedDict({'Adjustor': 2})\n",
      "\ttensor([0.1000, 0.9000]) \n",
      "\n",
      "Detector \n",
      "\t OrderedDict({'Detector': 2, 'Weather': 2, 'Adjustor': 2})\n",
      "\ttensor([[[0.5100, 0.4900],\n",
      "         [0.8700, 0.1300]],\n",
      "\n",
      "        [[0.4800, 0.5200],\n",
      "         [0.4000, 0.6000]]]) \n",
      "\n"
     ]
    }
   ],
   "source": [
    "# See p. 270, Howard & Abbas\n",
    "# P( detector | weather)\n",
    "\n",
    "def pr_node_tensor(the_n):\n",
    "    print(a_node, '\\n\\t', get_potential(the_n, bn.n_dict),'\\n')\n",
    "\n",
    "\n",
    "def pr_named_tensors(name_dict = bn.n_dict):\n",
    "    'Show all the model tensors'\n",
    "    for a_node in name_dict:\n",
    "        if name_dict[a_node]['kind'] == 'cpt' or name_dict[a_node]['kind'] == 'utility':\n",
    "            print(a_node, '\\n\\t', get_potential(a_node, bn.n_dict),'\\n')\n",
    "\n",
    "pr_named_tensors(bn.n_dict)"
   ]
  },
  {
   "cell_type": "code",
   "execution_count": null,
   "metadata": {},
   "outputs": [
    {
     "name": "stdout",
     "output_type": "stream",
     "text": [
      " *** Weather ***\n",
      "State       Value\n",
      "--------  -------\n",
      "Sunshine      0.4\n",
      "Rain          0.6\n"
     ]
    }
   ],
   "source": [
    "# Format one-dim tensors \n",
    "# from collections import deque\n",
    "def one_dim_table(the_potential, the_var, n_dict=bn.n_dict, **args):\n",
    "    def que_copy(prefix, queue):\n",
    "       if not isinstance(queue, list):\n",
    "           queue = [queue]\n",
    "       queue.insert(0, prefix)\n",
    "       return queue\n",
    "    states = n_dict[the_var]['states']\n",
    "    values = the_potential.tolist()\n",
    "    # Flatten nested lists\n",
    "    while len(values)  == 1:   # TODO is this test necessary?\n",
    "        values = values[0]\n",
    "    print(f' *** {the_var} ***')\n",
    "    values = [que_copy(s, v) for s, v in zip(states, values)]\n",
    "    print(tabulate(values, **args))\n",
    "\n",
    "one_dim_table(get_potential('Weather', bn.n_dict).p, 'Weather', tablefmt= '.4f', headers= ['State', 'Value'])\n",
    "# get_potential('Weather', bn.n_dict).p.tolist()\n"
   ]
  },
  {
   "cell_type": "code",
   "execution_count": null,
   "metadata": {},
   "outputs": [],
   "source": [
    "## For joining by aligning potentials as named tensors\n",
    "\n",
    "def dim_index(potential_cpt, candidate):\n",
    "    # Starting with 0 as the first location, so the last location equals the length of the shape\n",
    "    cpt_dims = potential_cpt.dim_names\n",
    "    # if its included is it not already last?\n",
    "    if candidate in cpt_dims and candidate != list(cpt_dims)[-1]:\n",
    "        return list(cpt_dims).index(candidate) \n",
    "    else:\n",
    "        # Either candidate not found or its already at the end, so do nothing.\n",
    "        return None\n",
    "\n",
    "def move_named_dim_to_end(the_named_tensor, the_dimension):\n",
    "    'Transpose the potential place the dimension last'\n",
    "    the_dim_index = dim_index(the_named_tensor, the_dimension)\n",
    "    if the_dim_index is not None:\n",
    "        # Create a modified shape OrderedDict\n",
    "        shape = the_named_tensor.shape.copy()\n",
    "        shape.move_to_end(the_dimension)\n",
    "        # Rotate the tensor dimensions\n",
    "        p_transpose = list(range(len(shape)))               # The unperturbed list\n",
    "        p_transpose.append(p_transpose.pop(the_dim_index))  # Move index to end\n",
    "        # Transpose CPT\n",
    "        x = the_named_tensor.p.permute(p_transpose)\n",
    "        return Potential(x, shape)\n",
    "    else:\n",
    "        # A no op\n",
    "        return the_named_tensor \n",
    "    \n",
    "def marginalize_last(p1, p2):\n",
    "    '''For a potential matching the last dimension of the other, join them,\n",
    "    then marginalized out the last dimension'''\n",
    "    if list(p1.shape)[-1] != list(p2.shape)[-1]:           # Compare shapes by indexed value\n",
    "        print(f'Err, last shapes do not match:\\t{list(p1.shape)[-1]} != {list(p2.shape)[-1]}')\n",
    "        return None\n",
    "    else:\n",
    "        new_tensor = (p1.p * p2.p).sum(-1)\n",
    "        # The symmetric set difference - those not common to both. \n",
    "        s1 = set(p1.shape.items())\n",
    "        s2 = set(p2.shape.items())\n",
    "        new_shape = OrderedDict(s1.union(s2) - s1.intersection(s2))\n",
    "    return Potential(new_tensor, new_shape)"
   ]
  },
  {
   "cell_type": "markdown",
   "metadata": {},
   "source": [
    "### Utilities"
   ]
  },
  {
   "cell_type": "code",
   "execution_count": null,
   "metadata": {},
   "outputs": [
    {
     "data": {
      "text/plain": [
       "OrderedDict({'Preferences': 1, 'Weather': 2, 'Party_location': 3})\n",
       "\ttensor([[[100.,  90.,  40.],\n",
       "         [  0.,  20.,  50.]]])"
      ]
     },
     "execution_count": 16,
     "metadata": {},
     "output_type": "execute_result"
    }
   ],
   "source": [
    "# Utility matrix, as a Potential\n",
    "outcome_potential = get_potential('Preferences', bn.n_dict)\n",
    "outcome_potential"
   ]
  },
  {
   "cell_type": "code",
   "execution_count": null,
   "metadata": {},
   "outputs": [
    {
     "data": {
      "text/plain": [
       "OrderedDict({'Preferences': 1, 'Weather': 2, 'Party_location': 3})\n",
       "\ttensor([[[1.0000, 0.9504, 0.5675],\n",
       "         [0.0000, 0.3229, 0.6667]]])"
      ]
     },
     "execution_count": 17,
     "metadata": {},
     "output_type": "execute_result"
    }
   ],
   "source": [
    "# No problem with mapping single arg functions over tensors!  \n",
    "def delta_utility(x, exponand = 0.5, normalize = 50):\n",
    "    dims = x.shape\n",
    "    u = 4/3*(1 - pow(exponand, (x.p/normalize)))\n",
    "    return Potential(u, dims)\n",
    "\n",
    "u = delta_utility(outcome_potential)\n",
    "u"
   ]
  },
  {
   "cell_type": "markdown",
   "metadata": {},
   "source": [
    "## Solving the party problem\n",
    "\n",
    "To determine the optimal policy\n",
    "\n",
    "* join Detector and Weather CPTs \n",
    "* join DW with Utility (Decision is implicit in Utility, w/ unit values for all options)\n",
    "* marginalize out unobserved Weather (or do this after decn, to get VOI)\n",
    "* Maximize over options"
   ]
  },
  {
   "cell_type": "markdown",
   "metadata": {},
   "source": [
    "### First solution - only prior, no observation "
   ]
  },
  {
   "cell_type": "code",
   "execution_count": null,
   "metadata": {},
   "outputs": [
    {
     "data": {
      "text/plain": [
       "OrderedDict({'Preferences': 1, 'Party_location': 3, 'Weather': 2})\n",
       "\ttensor([[[100.,   0.],\n",
       "         [ 90.,  20.],\n",
       "         [ 40.,  50.]]])"
      ]
     },
     "execution_count": 85,
     "metadata": {},
     "output_type": "execute_result"
    }
   ],
   "source": [
    "# Note that marginalize_last is symmetric in its arguments. \n",
    "\n",
    "preference_transpose = move_named_dim_to_end(get_potential(\"Preferences\", bn.n_dict), \"Weather\")\n",
    "preference_transpose\n"
   ]
  },
  {
   "cell_type": "code",
   "execution_count": null,
   "metadata": {},
   "outputs": [],
   "source": []
  },
  {
   "cell_type": "code",
   "execution_count": null,
   "metadata": {},
   "outputs": [
    {
     "name": "stdout",
     "output_type": "stream",
     "text": [
      " *** Party_location ***\n",
      "--------  --\n",
      "Outdoors  40\n",
      "Porch     48\n",
      "Indoors   46\n",
      "--------  --\n"
     ]
    }
   ],
   "source": [
    "prior_utility = marginalize_last(preference_transpose, get_potential(\"Weather\",bn.n_dict))\n",
    "one_dim_table(prior_utility.p, 'Party_location') "
   ]
  },
  {
   "cell_type": "code",
   "execution_count": null,
   "metadata": {},
   "outputs": [
    {
     "data": {
      "text/plain": [
       "OrderedDict({'Detector': 2, 'Adjustor': 2, 'Weather': 2})\n",
       "\ttensor([[[0.2040, 0.2940],\n",
       "         [0.3480, 0.0780]],\n",
       "\n",
       "        [[0.1920, 0.3120],\n",
       "         [0.1600, 0.3600]]])"
      ]
     },
     "execution_count": 87,
     "metadata": {},
     "output_type": "execute_result"
    }
   ],
   "source": [
    "# pre_posterior, shape =  weather_cpt.p @ detector_cpt.p.permute(2,0,1) @ adjustor_cpt.p\n",
    "# pre_posterior\n",
    "\n",
    "def marginalize(child_potential, parent_potential):\n",
    "    cpt = (child_potential.p * parent_potential.p).sum(-1)\n",
    "    # TODO remove parent shape from child\n",
    "    sh = OrderedDict(set(child_potential.shape.items()) - set(parent_potential.shape.items()))\n",
    "    return Potential(cpt, sh)\n",
    "\n",
    "def shift_to_end(the_shape, the_var):\n",
    "    the_shape.move_to_end(the_var)\n",
    "    return the_shape\n",
    "\n",
    "\n",
    "def join_parent(the_conditional, the_parent, name_dict= bn.n_dict):\n",
    "    'Assume the parent rv is the last dim in the conditional, and marginalize out that dim'\n",
    "    # Find the parent and transpose it to last dim\n",
    "    c_potential = get_potential(the_conditional, name_dict)\n",
    "    p_potential = get_potential(the_parent, name_dict)\n",
    "    found_dim = dim_index(c_potential,the_parent)\n",
    "    # Is found dim not already in the last dim? \n",
    "    new_shape = c_potential.shape\n",
    "    if found_dim is not None:   # TODO does this work if the found dim is first?\n",
    "        # Move found_dim to last dimension\n",
    "        new_shape = shift_to_end(new_shape, the_parent)\n",
    "        c_transpose = list(range(len(new_shape)))\n",
    "        c_transpose.append(c_transpose.pop(found_dim))\n",
    "        # Transpose CPT\n",
    "        c_potential.p.permute(c_transpose)\n",
    "        # TODO - create a new potential? \n",
    "    new_joint =  Potential(c_potential.p * p_potential.p, new_shape)\n",
    "    return new_joint\n",
    "\n",
    "    # return the joint potential, with the conditioning prob last. \n",
    "# join_parent(marginalize_parent(detector_cpt.permute(2,1,0), adjustor_cpt), weather_cpt)\n",
    "dw_joint = join_parent(\"Detector\", 'Weather')\n",
    "dw_joint\n"
   ]
  },
  {
   "cell_type": "code",
   "execution_count": null,
   "metadata": {},
   "outputs": [
    {
     "name": "stdout",
     "output_type": "stream",
     "text": [
      "tensor([[0.4980, 0.4260],\n",
      "        [0.5040, 0.5200]]) \n",
      "\n",
      " OrderedDict({'Weather': 2, 'Adjustor': 2, 'Detector': 2})\n",
      "\ttensor([[[0.4096, 0.6901],\n",
      "         [0.3810, 0.6000]],\n",
      "\n",
      "        [[0.6988, 0.1831],\n",
      "         [0.3175, 0.6923]]])\n"
     ]
    }
   ],
   "source": [
    "# P( Weather | Detector) - column markov\n",
    "# See p 270 Figure 13.6\n",
    "#   Transpose the joint to get the Detector in last dim, and normalize \n",
    "pre_posterior_p = dw_joint.p.sum(-1) \n",
    "p = dw_joint.p.transpose(0,1) * (1/pre_posterior_p)\n",
    "# reverse the shape \n",
    "posterior = Potential(p, OrderedDict(list(reversed(dw_joint.shape.items()))) )\n",
    "print(pre_posterior_p, '\\n\\n', posterior)\n",
    "\n"
   ]
  },
  {
   "cell_type": "code",
   "execution_count": null,
   "metadata": {},
   "outputs": [
    {
     "data": {
      "text/plain": [
       "tensor([[[[[40.9639, 69.0141],\n",
       "           [38.0952, 60.0000]],\n",
       "\n",
       "          [[ 0.0000,  0.0000],\n",
       "           [ 0.0000,  0.0000]]],\n",
       "\n",
       "\n",
       "         [[[36.8675, 62.1127],\n",
       "           [34.2857, 54.0000]],\n",
       "\n",
       "          [[13.9759,  3.6620],\n",
       "           [ 6.3492, 13.8462]]],\n",
       "\n",
       "\n",
       "         [[[16.3855, 27.6056],\n",
       "           [15.2381, 24.0000]],\n",
       "\n",
       "          [[34.9398,  9.1549],\n",
       "           [15.8730, 34.6154]]]]])"
      ]
     },
     "execution_count": 89,
     "metadata": {},
     "output_type": "execute_result"
    }
   ],
   "source": [
    "extended_preference * posterior.p"
   ]
  },
  {
   "cell_type": "code",
   "execution_count": null,
   "metadata": {},
   "outputs": [
    {
     "name": "stdout",
     "output_type": "stream",
     "text": [
      "torch.Size([1, 3, 2, 1, 1])\n",
      "E[ V | Party_location, Detector] = \n"
     ]
    },
    {
     "data": {
      "text/plain": [
       "tensor([[[[40.9639, 69.0141],\n",
       "          [38.0952, 60.0000]],\n",
       "\n",
       "         [[50.8434, 65.7746],\n",
       "          [40.6349, 67.8461]],\n",
       "\n",
       "         [[51.3253, 36.7606],\n",
       "          [31.1111, 58.6154]]]])"
      ]
     },
     "execution_count": 90,
     "metadata": {},
     "output_type": "execute_result"
    }
   ],
   "source": [
    "# One approach is to add a unsqueeze dim to match Detector at the end of preference transpose\n",
    "# BINGO\n",
    "extended_preference = preference_transpose.p.unsqueeze(-1).unsqueeze(-1)\n",
    "print(extended_preference.shape)\n",
    "# Sum out the weather dimension\n",
    "policy_values = (extended_preference * posterior.p).sum(2)\n",
    "print('E[ V | Party_location, Detector] = ')\n",
    "policy_values\n",
    "# Next we need to weight the optimal in each column by the pre-posterior."
   ]
  },
  {
   "cell_type": "code",
   "execution_count": null,
   "metadata": {},
   "outputs": [
    {
     "name": "stdout",
     "output_type": "stream",
     "text": [
      " *** Party_location ***\n",
      "State     SaySun                                  SayRain\n",
      "--------  --------------------------------------  ----------------------------------------\n",
      "Outdoors  [40.96385192871094, 69.01408386230469]  [38.095237731933594, 59.999996185302734]\n",
      "Porch     [50.84336853027344, 65.77464294433594]  [40.634918212890625, 67.84614562988281]\n",
      "Indoors   [51.32529830932617, 36.76055908203125]  [31.11111068725586, 58.615379333496094]\n"
     ]
    }
   ],
   "source": [
    "# TODO Need to format list entries before passing to tabulate. \n",
    "# TODO looks like the State labels are flipped. \n",
    "detector_states= bn.n_dict['Detector']['states'].copy()\n",
    "detector_states.insert(0, 'State')\n",
    "one_dim_table(policy_values.squeeze(0), \n",
    "    'Party_location', \n",
    "    floatfmt= \".3f\", \n",
    "    headers= detector_states)\n",
    "        "
   ]
  },
  {
   "cell_type": "code",
   "execution_count": null,
   "metadata": {},
   "outputs": [
    {
     "data": {
      "text/plain": [
       "tensor([[109.9779,  98.0952],\n",
       "        [116.6180, 108.4811],\n",
       "        [ 88.0859,  89.7265]])"
      ]
     },
     "execution_count": 92,
     "metadata": {},
     "output_type": "execute_result"
    }
   ],
   "source": [
    "policy_values.squeeze(0).sum(-1)"
   ]
  },
  {
   "cell_type": "code",
   "execution_count": null,
   "metadata": {},
   "outputs": [],
   "source": []
  },
  {
   "cell_type": "code",
   "execution_count": null,
   "metadata": {},
   "outputs": [
    {
     "data": {
      "text/plain": [
       "<Axes: >"
      ]
     },
     "execution_count": 93,
     "metadata": {},
     "output_type": "execute_result"
    },
    {
     "data": {
      "image/png": "[encoded data removed]",
      "text/plain": [
       "<Figure size 600x260 with 4 Axes>"
      ]
     },
     "metadata": {},
     "output_type": "display_data"
    }
   ],
   "source": [
    "# TODO what is the last dim?  Need to remove it. \n",
    "fig, ax = plt.subplots(1,2, figsize = (6, 2.6))\n",
    "policy_values_2d_a = pd.DataFrame(policy_values.squeeze(0)[:,:,1], columns = bn.n_dict['Detector']['states'], \n",
    "                                index = bn.n_dict['Party_location']['states'])\n",
    "sn.heatmap(policy_values_2d_a, annot=True, xticklabels=True, yticklabels=True, ax=ax[0])\n",
    "policy_values_2d_b = pd.DataFrame(policy_values.squeeze(0)[:,:,0], columns = bn.n_dict['Detector']['states'], \n",
    "                                index = bn.n_dict['Party_location']['states'])\n",
    "sn.heatmap(policy_values_2d_b, annot=True, xticklabels=True, yticklabels=True, ax=ax[1])"
   ]
  },
  {
   "cell_type": "code",
   "execution_count": null,
   "metadata": {},
   "outputs": [
    {
     "data": {
      "text/plain": [
       "(tensor([[[51.3253, 69.0141],\n",
       "          [40.6349, 67.8461]]]),\n",
       " tensor([[[2, 0],\n",
       "          [1, 1]]]))"
      ]
     },
     "execution_count": 94,
     "metadata": {},
     "output_type": "execute_result"
    }
   ],
   "source": [
    "# Find the max value in each column. \n",
    "decn = policy_values.max(1)\n",
    "decn.values, decn.indices"
   ]
  },
  {
   "cell_type": "code",
   "execution_count": null,
   "metadata": {},
   "outputs": [
    {
     "data": {
      "text/plain": [
       "tensor([[61.9386, 56.9617]])"
      ]
     },
     "execution_count": 95,
     "metadata": {},
     "output_type": "execute_result"
    }
   ],
   "source": [
    "# Value with information. \n",
    "# However utility should be applied after computing expected values to get certain equivalents\n",
    "# sigh\n",
    "# 0.7782 * 0.44 + 0.6557 * 0.56\n",
    "decn.values @ get_potential('Weather', bn.n_dict).p"
   ]
  }
 ],
 "metadata": {
  "kernelspec": {
   "display_name": "venv",
   "language": "python",
   "name": "python3"
  },
  "language_info": {
   "codemirror_mode": {
    "name": "ipython",
    "version": 3
   },
   "file_extension": ".py",
   "mimetype": "text/x-python",
   "name": "python",
   "nbconvert_exporter": "python",
   "pygments_lexer": "ipython3",
   "version": "3.12.4"
  }
 },
 "nbformat": 4,
 "nbformat_minor": 2
}
