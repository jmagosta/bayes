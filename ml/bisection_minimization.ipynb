{
 "cells": [
  {
   "cell_type": "markdown",
   "metadata": {},
   "source": [
    "# One dimensional line search via estimation\n",
    "\n",
    "A robust optimization technique that assumes the function to be optimized is continuous, but not differentiable, and noisy. The function is approximated by a parabola over the set of points that have been computed, assuming that the function is convex withn the range of points"
   ]
  },
  {
   "cell_type": "code",
   "execution_count": 121,
   "metadata": {
    "ExecuteTime": {
     "end_time": "2018-11-01T23:56:51.427503Z",
     "start_time": "2018-11-01T23:56:50.414472Z"
    }
   },
   "outputs": [
    {
     "data": {
      "text/html": [
       "\n",
       "    <div class=\"bk-root\">\n",
       "        <a href=\"https://bokeh.pydata.org\" target=\"_blank\" class=\"bk-logo bk-logo-small bk-logo-notebook\"></a>\n",
       "        <span id=\"96493913-bf13-48b9-8a8e-8477c29c22f5\">Loading BokehJS ...</span>\n",
       "    </div>"
      ]
     },
     "metadata": {},
     "output_type": "display_data"
    },
    {
     "data": {
      "application/javascript": [
       "\n",
       "(function(root) {\n",
       "  function now() {\n",
       "    return new Date();\n",
       "  }\n",
       "\n",
       "  var force = true;\n",
       "\n",
       "  if (typeof (root._bokeh_onload_callbacks) === \"undefined\" || force === true) {\n",
       "    root._bokeh_onload_callbacks = [];\n",
       "    root._bokeh_is_loading = undefined;\n",
       "  }\n",
       "\n",
       "  var JS_MIME_TYPE = 'application/javascript';\n",
       "  var HTML_MIME_TYPE = 'text/html';\n",
       "  var EXEC_MIME_TYPE = 'application/vnd.bokehjs_exec.v0+json';\n",
       "  var CLASS_NAME = 'output_bokeh rendered_html';\n",
       "\n",
       "  /**\n",
       "   * Render data to the DOM node\n",
       "   */\n",
       "  function render(props, node) {\n",
       "    var script = document.createElement(\"script\");\n",
       "    node.appendChild(script);\n",
       "  }\n",
       "\n",
       "  /**\n",
       "   * Handle when an output is cleared or removed\n",
       "   */\n",
       "  function handleClearOutput(event, handle) {\n",
       "    var cell = handle.cell;\n",
       "\n",
       "    var id = cell.output_area._bokeh_element_id;\n",
       "    var server_id = cell.output_area._bokeh_server_id;\n",
       "    // Clean up Bokeh references\n",
       "    if (id !== undefined) {\n",
       "      Bokeh.index[id].model.document.clear();\n",
       "      delete Bokeh.index[id];\n",
       "    }\n",
       "\n",
       "    if (server_id !== undefined) {\n",
       "      // Clean up Bokeh references\n",
       "      var cmd = \"from bokeh.io.state import curstate; print(curstate().uuid_to_server['\" + server_id + \"'].get_sessions()[0].document.roots[0]._id)\";\n",
       "      cell.notebook.kernel.execute(cmd, {\n",
       "        iopub: {\n",
       "          output: function(msg) {\n",
       "            var element_id = msg.content.text.trim();\n",
       "            Bokeh.index[element_id].model.document.clear();\n",
       "            delete Bokeh.index[element_id];\n",
       "          }\n",
       "        }\n",
       "      });\n",
       "      // Destroy server and session\n",
       "      var cmd = \"import bokeh.io.notebook as ion; ion.destroy_server('\" + server_id + \"')\";\n",
       "      cell.notebook.kernel.execute(cmd);\n",
       "    }\n",
       "  }\n",
       "\n",
       "  /**\n",
       "   * Handle when a new output is added\n",
       "   */\n",
       "  function handleAddOutput(event, handle) {\n",
       "    var output_area = handle.output_area;\n",
       "    var output = handle.output;\n",
       "\n",
       "    // limit handleAddOutput to display_data with EXEC_MIME_TYPE content only\n",
       "    if ((output.output_type != \"display_data\") || (!output.data.hasOwnProperty(EXEC_MIME_TYPE))) {\n",
       "      return\n",
       "    }\n",
       "\n",
       "    var toinsert = output_area.element.find(\".\" + CLASS_NAME.split(' ')[0]);\n",
       "\n",
       "    if (output.metadata[EXEC_MIME_TYPE][\"id\"] !== undefined) {\n",
       "      toinsert[0].firstChild.textContent = output.data[JS_MIME_TYPE];\n",
       "      // store reference to embed id on output_area\n",
       "      output_area._bokeh_element_id = output.metadata[EXEC_MIME_TYPE][\"id\"];\n",
       "    }\n",
       "    if (output.metadata[EXEC_MIME_TYPE][\"server_id\"] !== undefined) {\n",
       "      var bk_div = document.createElement(\"div\");\n",
       "      bk_div.innerHTML = output.data[HTML_MIME_TYPE];\n",
       "      var script_attrs = bk_div.children[0].attributes;\n",
       "      for (var i = 0; i < script_attrs.length; i++) {\n",
       "        toinsert[0].firstChild.setAttribute(script_attrs[i].name, script_attrs[i].value);\n",
       "      }\n",
       "      // store reference to server id on output_area\n",
       "      output_area._bokeh_server_id = output.metadata[EXEC_MIME_TYPE][\"server_id\"];\n",
       "    }\n",
       "  }\n",
       "\n",
       "  function register_renderer(events, OutputArea) {\n",
       "\n",
       "    function append_mime(data, metadata, element) {\n",
       "      // create a DOM node to render to\n",
       "      var toinsert = this.create_output_subarea(\n",
       "        metadata,\n",
       "        CLASS_NAME,\n",
       "        EXEC_MIME_TYPE\n",
       "      );\n",
       "      this.keyboard_manager.register_events(toinsert);\n",
       "      // Render to node\n",
       "      var props = {data: data, metadata: metadata[EXEC_MIME_TYPE]};\n",
       "      render(props, toinsert[0]);\n",
       "      element.append(toinsert);\n",
       "      return toinsert\n",
       "    }\n",
       "\n",
       "    /* Handle when an output is cleared or removed */\n",
       "    events.on('clear_output.CodeCell', handleClearOutput);\n",
       "    events.on('delete.Cell', handleClearOutput);\n",
       "\n",
       "    /* Handle when a new output is added */\n",
       "    events.on('output_added.OutputArea', handleAddOutput);\n",
       "\n",
       "    /**\n",
       "     * Register the mime type and append_mime function with output_area\n",
       "     */\n",
       "    OutputArea.prototype.register_mime_type(EXEC_MIME_TYPE, append_mime, {\n",
       "      /* Is output safe? */\n",
       "      safe: true,\n",
       "      /* Index of renderer in `output_area.display_order` */\n",
       "      index: 0\n",
       "    });\n",
       "  }\n",
       "\n",
       "  // register the mime type if in Jupyter Notebook environment and previously unregistered\n",
       "  if (root.Jupyter !== undefined) {\n",
       "    var events = require('base/js/events');\n",
       "    var OutputArea = require('notebook/js/outputarea').OutputArea;\n",
       "\n",
       "    if (OutputArea.prototype.mime_types().indexOf(EXEC_MIME_TYPE) == -1) {\n",
       "      register_renderer(events, OutputArea);\n",
       "    }\n",
       "  }\n",
       "\n",
       "  \n",
       "  if (typeof (root._bokeh_timeout) === \"undefined\" || force === true) {\n",
       "    root._bokeh_timeout = Date.now() + 5000;\n",
       "    root._bokeh_failed_load = false;\n",
       "  }\n",
       "\n",
       "  var NB_LOAD_WARNING = {'data': {'text/html':\n",
       "     \"<div style='background-color: #fdd'>\\n\"+\n",
       "     \"<p>\\n\"+\n",
       "     \"BokehJS does not appear to have successfully loaded. If loading BokehJS from CDN, this \\n\"+\n",
       "     \"may be due to a slow or bad network connection. Possible fixes:\\n\"+\n",
       "     \"</p>\\n\"+\n",
       "     \"<ul>\\n\"+\n",
       "     \"<li>re-rerun `output_notebook()` to attempt to load from CDN again, or</li>\\n\"+\n",
       "     \"<li>use INLINE resources instead, as so:</li>\\n\"+\n",
       "     \"</ul>\\n\"+\n",
       "     \"<code>\\n\"+\n",
       "     \"from bokeh.resources import INLINE\\n\"+\n",
       "     \"output_notebook(resources=INLINE)\\n\"+\n",
       "     \"</code>\\n\"+\n",
       "     \"</div>\"}};\n",
       "\n",
       "  function display_loaded() {\n",
       "    var el = document.getElementById(\"96493913-bf13-48b9-8a8e-8477c29c22f5\");\n",
       "    if (el != null) {\n",
       "      el.textContent = \"BokehJS is loading...\";\n",
       "    }\n",
       "    if (root.Bokeh !== undefined) {\n",
       "      if (el != null) {\n",
       "        el.textContent = \"BokehJS \" + root.Bokeh.version + \" successfully loaded.\";\n",
       "      }\n",
       "    } else if (Date.now() < root._bokeh_timeout) {\n",
       "      setTimeout(display_loaded, 100)\n",
       "    }\n",
       "  }\n",
       "\n",
       "\n",
       "  function run_callbacks() {\n",
       "    try {\n",
       "      root._bokeh_onload_callbacks.forEach(function(callback) { callback() });\n",
       "    }\n",
       "    finally {\n",
       "      delete root._bokeh_onload_callbacks\n",
       "    }\n",
       "    console.info(\"Bokeh: all callbacks have finished\");\n",
       "  }\n",
       "\n",
       "  function load_libs(js_urls, callback) {\n",
       "    root._bokeh_onload_callbacks.push(callback);\n",
       "    if (root._bokeh_is_loading > 0) {\n",
       "      console.log(\"Bokeh: BokehJS is being loaded, scheduling callback at\", now());\n",
       "      return null;\n",
       "    }\n",
       "    if (js_urls == null || js_urls.length === 0) {\n",
       "      run_callbacks();\n",
       "      return null;\n",
       "    }\n",
       "    console.log(\"Bokeh: BokehJS not loaded, scheduling load and callback at\", now());\n",
       "    root._bokeh_is_loading = js_urls.length;\n",
       "    for (var i = 0; i < js_urls.length; i++) {\n",
       "      var url = js_urls[i];\n",
       "      var s = document.createElement('script');\n",
       "      s.src = url;\n",
       "      s.async = false;\n",
       "      s.onreadystatechange = s.onload = function() {\n",
       "        root._bokeh_is_loading--;\n",
       "        if (root._bokeh_is_loading === 0) {\n",
       "          console.log(\"Bokeh: all BokehJS libraries loaded\");\n",
       "          run_callbacks()\n",
       "        }\n",
       "      };\n",
       "      s.onerror = function() {\n",
       "        console.warn(\"failed to load library \" + url);\n",
       "      };\n",
       "      console.log(\"Bokeh: injecting script tag for BokehJS library: \", url);\n",
       "      document.getElementsByTagName(\"head\")[0].appendChild(s);\n",
       "    }\n",
       "  };var element = document.getElementById(\"96493913-bf13-48b9-8a8e-8477c29c22f5\");\n",
       "  if (element == null) {\n",
       "    console.log(\"Bokeh: ERROR: autoload.js configured with elementid '96493913-bf13-48b9-8a8e-8477c29c22f5' but no matching script tag was found. \")\n",
       "    return false;\n",
       "  }\n",
       "\n",
       "  var js_urls = [\"https://cdn.pydata.org/bokeh/release/bokeh-0.12.13.min.js\", \"https://cdn.pydata.org/bokeh/release/bokeh-widgets-0.12.13.min.js\", \"https://cdn.pydata.org/bokeh/release/bokeh-tables-0.12.13.min.js\", \"https://cdn.pydata.org/bokeh/release/bokeh-gl-0.12.13.min.js\"];\n",
       "\n",
       "  var inline_js = [\n",
       "    function(Bokeh) {\n",
       "      Bokeh.set_log_level(\"info\");\n",
       "    },\n",
       "    \n",
       "    function(Bokeh) {\n",
       "      \n",
       "    },\n",
       "    function(Bokeh) {\n",
       "      console.log(\"Bokeh: injecting CSS: https://cdn.pydata.org/bokeh/release/bokeh-0.12.13.min.css\");\n",
       "      Bokeh.embed.inject_css(\"https://cdn.pydata.org/bokeh/release/bokeh-0.12.13.min.css\");\n",
       "      console.log(\"Bokeh: injecting CSS: https://cdn.pydata.org/bokeh/release/bokeh-widgets-0.12.13.min.css\");\n",
       "      Bokeh.embed.inject_css(\"https://cdn.pydata.org/bokeh/release/bokeh-widgets-0.12.13.min.css\");\n",
       "      console.log(\"Bokeh: injecting CSS: https://cdn.pydata.org/bokeh/release/bokeh-tables-0.12.13.min.css\");\n",
       "      Bokeh.embed.inject_css(\"https://cdn.pydata.org/bokeh/release/bokeh-tables-0.12.13.min.css\");\n",
       "    }\n",
       "  ];\n",
       "\n",
       "  function run_inline_js() {\n",
       "    \n",
       "    if ((root.Bokeh !== undefined) || (force === true)) {\n",
       "      for (var i = 0; i < inline_js.length; i++) {\n",
       "        inline_js[i].call(root, root.Bokeh);\n",
       "      }if (force === true) {\n",
       "        display_loaded();\n",
       "      }} else if (Date.now() < root._bokeh_timeout) {\n",
       "      setTimeout(run_inline_js, 100);\n",
       "    } else if (!root._bokeh_failed_load) {\n",
       "      console.log(\"Bokeh: BokehJS failed to load within specified timeout.\");\n",
       "      root._bokeh_failed_load = true;\n",
       "    } else if (force !== true) {\n",
       "      var cell = $(document.getElementById(\"96493913-bf13-48b9-8a8e-8477c29c22f5\")).parents('.cell').data().cell;\n",
       "      cell.output_area.append_execute_result(NB_LOAD_WARNING)\n",
       "    }\n",
       "\n",
       "  }\n",
       "\n",
       "  if (root._bokeh_is_loading === 0) {\n",
       "    console.log(\"Bokeh: BokehJS loaded, going straight to plotting\");\n",
       "    run_inline_js();\n",
       "  } else {\n",
       "    load_libs(js_urls, function() {\n",
       "      console.log(\"Bokeh: BokehJS plotting callback run at\", now());\n",
       "      run_inline_js();\n",
       "    });\n",
       "  }\n",
       "}(window));"
      ],
      "application/vnd.bokehjs_load.v0+json": "\n(function(root) {\n  function now() {\n    return new Date();\n  }\n\n  var force = true;\n\n  if (typeof (root._bokeh_onload_callbacks) === \"undefined\" || force === true) {\n    root._bokeh_onload_callbacks = [];\n    root._bokeh_is_loading = undefined;\n  }\n\n  \n\n  \n  if (typeof (root._bokeh_timeout) === \"undefined\" || force === true) {\n    root._bokeh_timeout = Date.now() + 5000;\n    root._bokeh_failed_load = false;\n  }\n\n  var NB_LOAD_WARNING = {'data': {'text/html':\n     \"<div style='background-color: #fdd'>\\n\"+\n     \"<p>\\n\"+\n     \"BokehJS does not appear to have successfully loaded. If loading BokehJS from CDN, this \\n\"+\n     \"may be due to a slow or bad network connection. Possible fixes:\\n\"+\n     \"</p>\\n\"+\n     \"<ul>\\n\"+\n     \"<li>re-rerun `output_notebook()` to attempt to load from CDN again, or</li>\\n\"+\n     \"<li>use INLINE resources instead, as so:</li>\\n\"+\n     \"</ul>\\n\"+\n     \"<code>\\n\"+\n     \"from bokeh.resources import INLINE\\n\"+\n     \"output_notebook(resources=INLINE)\\n\"+\n     \"</code>\\n\"+\n     \"</div>\"}};\n\n  function display_loaded() {\n    var el = document.getElementById(\"96493913-bf13-48b9-8a8e-8477c29c22f5\");\n    if (el != null) {\n      el.textContent = \"BokehJS is loading...\";\n    }\n    if (root.Bokeh !== undefined) {\n      if (el != null) {\n        el.textContent = \"BokehJS \" + root.Bokeh.version + \" successfully loaded.\";\n      }\n    } else if (Date.now() < root._bokeh_timeout) {\n      setTimeout(display_loaded, 100)\n    }\n  }\n\n\n  function run_callbacks() {\n    try {\n      root._bokeh_onload_callbacks.forEach(function(callback) { callback() });\n    }\n    finally {\n      delete root._bokeh_onload_callbacks\n    }\n    console.info(\"Bokeh: all callbacks have finished\");\n  }\n\n  function load_libs(js_urls, callback) {\n    root._bokeh_onload_callbacks.push(callback);\n    if (root._bokeh_is_loading > 0) {\n      console.log(\"Bokeh: BokehJS is being loaded, scheduling callback at\", now());\n      return null;\n    }\n    if (js_urls == null || js_urls.length === 0) {\n      run_callbacks();\n      return null;\n    }\n    console.log(\"Bokeh: BokehJS not loaded, scheduling load and callback at\", now());\n    root._bokeh_is_loading = js_urls.length;\n    for (var i = 0; i < js_urls.length; i++) {\n      var url = js_urls[i];\n      var s = document.createElement('script');\n      s.src = url;\n      s.async = false;\n      s.onreadystatechange = s.onload = function() {\n        root._bokeh_is_loading--;\n        if (root._bokeh_is_loading === 0) {\n          console.log(\"Bokeh: all BokehJS libraries loaded\");\n          run_callbacks()\n        }\n      };\n      s.onerror = function() {\n        console.warn(\"failed to load library \" + url);\n      };\n      console.log(\"Bokeh: injecting script tag for BokehJS library: \", url);\n      document.getElementsByTagName(\"head\")[0].appendChild(s);\n    }\n  };var element = document.getElementById(\"96493913-bf13-48b9-8a8e-8477c29c22f5\");\n  if (element == null) {\n    console.log(\"Bokeh: ERROR: autoload.js configured with elementid '96493913-bf13-48b9-8a8e-8477c29c22f5' but no matching script tag was found. \")\n    return false;\n  }\n\n  var js_urls = [\"https://cdn.pydata.org/bokeh/release/bokeh-0.12.13.min.js\", \"https://cdn.pydata.org/bokeh/release/bokeh-widgets-0.12.13.min.js\", \"https://cdn.pydata.org/bokeh/release/bokeh-tables-0.12.13.min.js\", \"https://cdn.pydata.org/bokeh/release/bokeh-gl-0.12.13.min.js\"];\n\n  var inline_js = [\n    function(Bokeh) {\n      Bokeh.set_log_level(\"info\");\n    },\n    \n    function(Bokeh) {\n      \n    },\n    function(Bokeh) {\n      console.log(\"Bokeh: injecting CSS: https://cdn.pydata.org/bokeh/release/bokeh-0.12.13.min.css\");\n      Bokeh.embed.inject_css(\"https://cdn.pydata.org/bokeh/release/bokeh-0.12.13.min.css\");\n      console.log(\"Bokeh: injecting CSS: https://cdn.pydata.org/bokeh/release/bokeh-widgets-0.12.13.min.css\");\n      Bokeh.embed.inject_css(\"https://cdn.pydata.org/bokeh/release/bokeh-widgets-0.12.13.min.css\");\n      console.log(\"Bokeh: injecting CSS: https://cdn.pydata.org/bokeh/release/bokeh-tables-0.12.13.min.css\");\n      Bokeh.embed.inject_css(\"https://cdn.pydata.org/bokeh/release/bokeh-tables-0.12.13.min.css\");\n    }\n  ];\n\n  function run_inline_js() {\n    \n    if ((root.Bokeh !== undefined) || (force === true)) {\n      for (var i = 0; i < inline_js.length; i++) {\n        inline_js[i].call(root, root.Bokeh);\n      }if (force === true) {\n        display_loaded();\n      }} else if (Date.now() < root._bokeh_timeout) {\n      setTimeout(run_inline_js, 100);\n    } else if (!root._bokeh_failed_load) {\n      console.log(\"Bokeh: BokehJS failed to load within specified timeout.\");\n      root._bokeh_failed_load = true;\n    } else if (force !== true) {\n      var cell = $(document.getElementById(\"96493913-bf13-48b9-8a8e-8477c29c22f5\")).parents('.cell').data().cell;\n      cell.output_area.append_execute_result(NB_LOAD_WARNING)\n    }\n\n  }\n\n  if (root._bokeh_is_loading === 0) {\n    console.log(\"Bokeh: BokehJS loaded, going straight to plotting\");\n    run_inline_js();\n  } else {\n    load_libs(js_urls, function() {\n      console.log(\"Bokeh: BokehJS plotting callback run at\", now());\n      run_inline_js();\n    });\n  }\n}(window));"
     },
     "metadata": {},
     "output_type": "display_data"
    }
   ],
   "source": [
    "# Example of optimization by bisection line search\n",
    "import math\n",
    "import bisect\n",
    "import numpy as np\n",
    "\n",
    "from bokeh.plotting import figure, show\n",
    "from bokeh.io import output_notebook\n",
    "output_notebook()"
   ]
  },
  {
   "cell_type": "code",
   "execution_count": 122,
   "metadata": {
    "ExecuteTime": {
     "end_time": "2018-11-01T23:33:30.089973Z",
     "start_time": "2018-11-01T23:33:30.086473Z"
    }
   },
   "outputs": [],
   "source": [
    "# Initialization \n",
    "range_min, range_max = (-1,1)\n",
    "# initial_guess = 0.5\n",
    "# initial_step_size = 0.1\n",
    "# epsilon = 1.0e-6\n",
    "\n",
    "# tuples of (x, f(x)), ordered by x.\n",
    "search_grid = []"
   ]
  },
  {
   "cell_type": "code",
   "execution_count": 123,
   "metadata": {
    "ExecuteTime": {
     "end_time": "2018-11-01T23:54:51.503882Z",
     "start_time": "2018-11-01T23:54:51.499059Z"
    }
   },
   "outputs": [],
   "source": [
    "def f(x):\n",
    "    'Function over the range to minimize in one dim'\n",
    "    sc = 6.0\n",
    "    return sc*sc*math.exp((x-1.5)*sc) + sc*sc*math.exp(-(1.9 + x)*sc) + 0.1*np.random.random_sample()\n",
    "\n",
    "def add_f_to_grid(x):\n",
    "    'memoization of the points searched'\n",
    "    global search_grid\n",
    "    # Binary search would be better\n",
    "    found_k = [k for k in range(len(search_grid)) if abs(x-search_grid[k][0]) <= epsilon]\n",
    "    if found_k == []:\n",
    "        new_pt = (x, f(x))\n",
    "        bisect.insort_left(search_grid, new_pt)\n",
    "        return new_pt\n",
    "    else:\n",
    "        return search_grid[found_k[0]]\n",
    "    \n",
    "def init_grid(no_pts=3, shrinkage=3.0):\n",
    "    global search_grid\n",
    "    half_range = (range_max - range_min)/2\n",
    "    grid_x = np.linspace(range_min + half_range/shrinkage, range_max - half_range/shrinkage, no_pts)\n",
    "    search_grid = list(zip(grid_x, map(f, grid_x)))"
   ]
  },
  {
   "cell_type": "code",
   "execution_count": 124,
   "metadata": {},
   "outputs": [],
   "source": [
    "# Create some starting points. \n",
    "init_grid(6)"
   ]
  },
  {
   "cell_type": "code",
   "execution_count": 125,
   "metadata": {},
   "outputs": [
    {
     "data": {
      "text/plain": [
       "[(-0.6666666666666667, 0.10687945479928289),\n",
       " (-0.4, 0.1025807485630554),\n",
       " (-0.3, 0.05596342826479847),\n",
       " (-0.13999999999999999, 0.03924077073025912),\n",
       " (-0.1333333333333333, 0.006715753357591219),\n",
       " (0.020000000000000018, 0.030809368131613536),\n",
       " (0.13333333333333341, 0.10449945683506305),\n",
       " (0.18, 0.020163492101513653),\n",
       " (0.34, 0.13133211791690075),\n",
       " (0.40000000000000013, 0.11648912850308621),\n",
       " (0.5, 0.1891739115391955),\n",
       " (0.6666666666666667, 0.2695427304539337)]"
      ]
     },
     "execution_count": 125,
     "metadata": {},
     "output_type": "execute_result"
    }
   ],
   "source": [
    "# This is how to create more points\n",
    "for pt in np.linspace(-0.3, 0.5, 6):\n",
    "   add_f_to_grid(pt)\n",
    "search_grid"
   ]
  },
  {
   "cell_type": "code",
   "execution_count": 126,
   "metadata": {},
   "outputs": [],
   "source": [
    "# Use a quadratic regression to estimate the minimum of the function\n",
    "# By centering the data around 0 the columns of the design matrix form an orthogonal basis function\n",
    "def dm_sample(the_pt):\n",
    "    'From an x,y tuple build a design matrix row'\n",
    "    x = the_pt[0]\n",
    "    return (1, x, x*x)\n",
    "\n",
    "def points_design_matrix():\n",
    "    'The quadratic regression design matrix'\n",
    "    dm = np.empty((0,3),dtype='float')\n",
    "    for row in search_grid:\n",
    "        dm = np.vstack((dm, np.array(dm_sample(row), dtype='float')))\n",
    "    return dm"
   ]
  },
  {
   "cell_type": "code",
   "execution_count": 127,
   "metadata": {},
   "outputs": [
    {
     "data": {
      "text/plain": [
       "(array([0.04173243, 0.09934442, 0.34979398]),\n",
       " array([0.00897678]),\n",
       " 3,\n",
       " array([3.50679241, 1.31088128, 0.51839461]))"
      ]
     },
     "execution_count": 127,
     "metadata": {},
     "output_type": "execute_result"
    }
   ],
   "source": [
    "X = points_design_matrix()\n",
    "y = [z[1] for z in search_grid]\n",
    "\n",
    "# The fit to the search grid points\n",
    "# For outputs, see https://docs.scipy.org/doc/numpy-1.13.0/reference/generated/numpy.linalg.lstsq.html\n",
    "parabola_fit = np.linalg.lstsq(X,y, rcond=-1)\n",
    "parabola_fit"
   ]
  },
  {
   "cell_type": "code",
   "execution_count": 128,
   "metadata": {},
   "outputs": [
    {
     "name": "stdout",
     "output_type": "stream",
     "text": [
      "Estimated min at: -0.14200419281627252\n"
     ]
    }
   ],
   "source": [
    "def quadratic(pts, coeffs):\n",
    "    'Compute the fitted values for the parabola fit'\n",
    "    c = coeffs[0]\n",
    "    b = coeffs[1]\n",
    "    a = coeffs[2]\n",
    "    y = [a * x * x + b * x + c for x in pts]\n",
    "    # Compute estimated minimum\n",
    "    print('Estimated min at: {}'.format(-0.5*b/a))\n",
    "    return y\n",
    "\n",
    "x = [z[0] for z in search_grid]\n",
    "parabola_pts = (x, quadratic(x, parabola_fit[0]))"
   ]
  },
  {
   "cell_type": "code",
   "execution_count": 129,
   "metadata": {},
   "outputs": [
    {
     "name": "stdout",
     "output_type": "stream",
     "text": [
      "Regression residual errors: 0.022809818454043115\n"
     ]
    }
   ],
   "source": [
    "def residual_errors(p_pts, y):\n",
    "    errs = [abs(pt[1] - pt[0]) for pt in zip(y, p_pts[1])]\n",
    "    return errs\n",
    "    \n",
    "print('Regression residual errors: {}'.format(sum(residual_errors(parabola_pts, y))/len(y)))"
   ]
  },
  {
   "cell_type": "code",
   "execution_count": 130,
   "metadata": {
    "ExecuteTime": {
     "end_time": "2018-11-02T00:07:53.184576Z",
     "start_time": "2018-11-02T00:07:53.180246Z"
    }
   },
   "outputs": [
    {
     "data": {
      "text/html": [
       "\n",
       "<div class=\"bk-root\">\n",
       "    <div class=\"bk-plotdiv\" id=\"9f88e143-47e5-4e97-9007-da415151177e\"></div>\n",
       "</div>"
      ]
     },
     "metadata": {},
     "output_type": "display_data"
    },
    {
     "data": {
      "application/javascript": [
       "(function(root) {\n",
       "  function embed_document(root) {\n",
       "    \n",
       "  var docs_json = {\"12437e58-4aa3-40e4-b26a-2ceed2c27289\":{\"roots\":{\"references\":[{\"attributes\":{\"source\":{\"id\":\"4b2575a8-ba50-4365-a601-58502b853083\",\"type\":\"ColumnDataSource\"}},\"id\":\"168b6d6e-ced8-4dae-af11-a067f28bc69f\",\"type\":\"CDSView\"},{\"attributes\":{},\"id\":\"e0dc1663-d1bb-4aa6-9da6-3728f642de43\",\"type\":\"BasicTickFormatter\"},{\"attributes\":{\"fill_color\":{\"value\":\"darkred\"},\"line_color\":{\"value\":\"darkred\"},\"size\":{\"units\":\"screen\",\"value\":6},\"x\":{\"field\":\"x\"},\"y\":{\"field\":\"y\"}},\"id\":\"a5044233-e260-4a42-b294-e76b59385912\",\"type\":\"Circle\"},{\"attributes\":{\"below\":[{\"id\":\"296293a6-ba92-4134-b4f8-26cb10e8b178\",\"type\":\"LinearAxis\"}],\"left\":[{\"id\":\"6bcef6e3-49d2-4175-892a-f331ec7ac043\",\"type\":\"LinearAxis\"}],\"renderers\":[{\"id\":\"296293a6-ba92-4134-b4f8-26cb10e8b178\",\"type\":\"LinearAxis\"},{\"id\":\"2b57417c-7842-42da-9d24-633997d120a0\",\"type\":\"Grid\"},{\"id\":\"6bcef6e3-49d2-4175-892a-f331ec7ac043\",\"type\":\"LinearAxis\"},{\"id\":\"3f9a1764-7153-4afa-bb39-238a4182321e\",\"type\":\"Grid\"},{\"id\":\"53fcc626-ea4c-4957-8b19-54d02de78105\",\"type\":\"BoxAnnotation\"},{\"id\":\"0bb5d3fc-3c3c-4db6-9f12-e52604fe5b37\",\"type\":\"GlyphRenderer\"},{\"id\":\"63429b21-fe8e-4445-945c-c1fc65cedb07\",\"type\":\"GlyphRenderer\"}],\"title\":{\"id\":\"0fe3250b-3123-4f85-b14c-65a4879a11e8\",\"type\":\"Title\"},\"toolbar\":{\"id\":\"4ad995a7-96b7-4296-9fcb-8a1aa1057d4c\",\"type\":\"Toolbar\"},\"x_range\":{\"id\":\"71227d69-7b38-49fa-a8e1-fc66520d9a6d\",\"type\":\"DataRange1d\"},\"x_scale\":{\"id\":\"3d2b13b9-59fb-436e-91d3-fefddb111c57\",\"type\":\"LinearScale\"},\"y_range\":{\"id\":\"818848ce-8999-447d-800e-0280704a4505\",\"type\":\"DataRange1d\"},\"y_scale\":{\"id\":\"cf85f30e-e765-41e5-9934-b2e6b91d8938\",\"type\":\"LinearScale\"}},\"id\":\"aebf12e0-714a-454b-b279-37cbfc8f5264\",\"subtype\":\"Figure\",\"type\":\"Plot\"},{\"attributes\":{\"overlay\":{\"id\":\"53fcc626-ea4c-4957-8b19-54d02de78105\",\"type\":\"BoxAnnotation\"}},\"id\":\"6ad1cccd-d6e0-45db-94bb-12708e5aef82\",\"type\":\"BoxZoomTool\"},{\"attributes\":{\"plot\":null,\"text\":\"Current points\"},\"id\":\"0fe3250b-3123-4f85-b14c-65a4879a11e8\",\"type\":\"Title\"},{\"attributes\":{\"callback\":null},\"id\":\"71227d69-7b38-49fa-a8e1-fc66520d9a6d\",\"type\":\"DataRange1d\"},{\"attributes\":{\"axis_label\":\"x\",\"formatter\":{\"id\":\"a7766120-c963-4c76-8520-72433d3a7126\",\"type\":\"BasicTickFormatter\"},\"plot\":{\"id\":\"aebf12e0-714a-454b-b279-37cbfc8f5264\",\"subtype\":\"Figure\",\"type\":\"Plot\"},\"ticker\":{\"id\":\"016cda69-d8cd-41c9-b212-711156a203ec\",\"type\":\"BasicTicker\"}},\"id\":\"296293a6-ba92-4134-b4f8-26cb10e8b178\",\"type\":\"LinearAxis\"},{\"attributes\":{\"dimension\":1,\"plot\":{\"id\":\"aebf12e0-714a-454b-b279-37cbfc8f5264\",\"subtype\":\"Figure\",\"type\":\"Plot\"},\"ticker\":{\"id\":\"fe6f3d37-d4a1-40a2-9749-d268eea33f17\",\"type\":\"BasicTicker\"}},\"id\":\"3f9a1764-7153-4afa-bb39-238a4182321e\",\"type\":\"Grid\"},{\"attributes\":{\"active_drag\":\"auto\",\"active_inspect\":\"auto\",\"active_scroll\":\"auto\",\"active_tap\":\"auto\",\"tools\":[{\"id\":\"ff5ecaef-27e6-4b97-8c74-0ea5a813e6fd\",\"type\":\"PanTool\"},{\"id\":\"97f26ac3-c1ce-4736-8526-646e4f3a503f\",\"type\":\"WheelZoomTool\"},{\"id\":\"6ad1cccd-d6e0-45db-94bb-12708e5aef82\",\"type\":\"BoxZoomTool\"},{\"id\":\"abf25bdc-dbf4-49d5-9337-11f421d95068\",\"type\":\"SaveTool\"},{\"id\":\"3cc0f50e-3d6b-4e55-8391-5db9b4fcaaaf\",\"type\":\"ResetTool\"},{\"id\":\"97cedffc-af25-4de0-902a-8171d23086d9\",\"type\":\"HelpTool\"}]},\"id\":\"4ad995a7-96b7-4296-9fcb-8a1aa1057d4c\",\"type\":\"Toolbar\"},{\"attributes\":{},\"id\":\"3d2b13b9-59fb-436e-91d3-fefddb111c57\",\"type\":\"LinearScale\"},{\"attributes\":{\"source\":{\"id\":\"187ba2b5-bd7b-42bb-9fac-29b0f89382df\",\"type\":\"ColumnDataSource\"}},\"id\":\"6e5a7664-deff-444f-af5b-d46816336958\",\"type\":\"CDSView\"},{\"attributes\":{\"callback\":null},\"id\":\"818848ce-8999-447d-800e-0280704a4505\",\"type\":\"DataRange1d\"},{\"attributes\":{},\"id\":\"abf25bdc-dbf4-49d5-9337-11f421d95068\",\"type\":\"SaveTool\"},{\"attributes\":{},\"id\":\"cf85f30e-e765-41e5-9934-b2e6b91d8938\",\"type\":\"LinearScale\"},{\"attributes\":{\"plot\":{\"id\":\"aebf12e0-714a-454b-b279-37cbfc8f5264\",\"subtype\":\"Figure\",\"type\":\"Plot\"},\"ticker\":{\"id\":\"016cda69-d8cd-41c9-b212-711156a203ec\",\"type\":\"BasicTicker\"}},\"id\":\"2b57417c-7842-42da-9d24-633997d120a0\",\"type\":\"Grid\"},{\"attributes\":{},\"id\":\"016cda69-d8cd-41c9-b212-711156a203ec\",\"type\":\"BasicTicker\"},{\"attributes\":{},\"id\":\"97f26ac3-c1ce-4736-8526-646e4f3a503f\",\"type\":\"WheelZoomTool\"},{\"attributes\":{\"data_source\":{\"id\":\"187ba2b5-bd7b-42bb-9fac-29b0f89382df\",\"type\":\"ColumnDataSource\"},\"glyph\":{\"id\":\"adcda4f3-c31c-4ec4-b468-4b19c6ea415f\",\"type\":\"Line\"},\"hover_glyph\":null,\"muted_glyph\":null,\"nonselection_glyph\":{\"id\":\"6a1b5107-4c94-4fc8-b981-37c881bb3e0a\",\"type\":\"Line\"},\"selection_glyph\":null,\"view\":{\"id\":\"6e5a7664-deff-444f-af5b-d46816336958\",\"type\":\"CDSView\"}},\"id\":\"63429b21-fe8e-4445-945c-c1fc65cedb07\",\"type\":\"GlyphRenderer\"},{\"attributes\":{\"fill_alpha\":{\"value\":0.1},\"fill_color\":{\"value\":\"#1f77b4\"},\"line_alpha\":{\"value\":0.1},\"line_color\":{\"value\":\"#1f77b4\"},\"size\":{\"units\":\"screen\",\"value\":6},\"x\":{\"field\":\"x\"},\"y\":{\"field\":\"y\"}},\"id\":\"2427ae4e-8917-4d03-affb-c72605c415b1\",\"type\":\"Circle\"},{\"attributes\":{\"line_color\":\"lightblue\",\"x\":{\"field\":\"x\"},\"y\":{\"field\":\"y\"}},\"id\":\"adcda4f3-c31c-4ec4-b468-4b19c6ea415f\",\"type\":\"Line\"},{\"attributes\":{},\"id\":\"ff5ecaef-27e6-4b97-8c74-0ea5a813e6fd\",\"type\":\"PanTool\"},{\"attributes\":{\"line_alpha\":0.1,\"line_color\":\"#1f77b4\",\"x\":{\"field\":\"x\"},\"y\":{\"field\":\"y\"}},\"id\":\"6a1b5107-4c94-4fc8-b981-37c881bb3e0a\",\"type\":\"Line\"},{\"attributes\":{\"callback\":null,\"column_names\":[\"x\",\"y\"],\"data\":{\"x\":[-0.6666666666666667,-0.4,-0.3,-0.13999999999999999,-0.1333333333333333,0.020000000000000018,0.13333333333333341,0.18,0.34,0.40000000000000013,0.5,0.6666666666666667],\"y\":[0.1309668080575977,0.057961699707278776,0.04341056339930105,0.03468017493889398,0.03470506873254041,0.0438592383336959,0.06119691513338257,0.07094775358370681,0.11594572068892672,0.13743723890980528,0.1788531396493556,0.2634260400618085]}},\"id\":\"187ba2b5-bd7b-42bb-9fac-29b0f89382df\",\"type\":\"ColumnDataSource\"},{\"attributes\":{},\"id\":\"97cedffc-af25-4de0-902a-8171d23086d9\",\"type\":\"HelpTool\"},{\"attributes\":{\"bottom_units\":\"screen\",\"fill_alpha\":{\"value\":0.5},\"fill_color\":{\"value\":\"lightgrey\"},\"left_units\":\"screen\",\"level\":\"overlay\",\"line_alpha\":{\"value\":1.0},\"line_color\":{\"value\":\"black\"},\"line_dash\":[4,4],\"line_width\":{\"value\":2},\"plot\":null,\"render_mode\":\"css\",\"right_units\":\"screen\",\"top_units\":\"screen\"},\"id\":\"53fcc626-ea4c-4957-8b19-54d02de78105\",\"type\":\"BoxAnnotation\"},{\"attributes\":{\"callback\":null,\"column_names\":[\"x\",\"y\"],\"data\":{\"x\":[-0.6666666666666667,-0.4,-0.3,-0.13999999999999999,-0.1333333333333333,0.020000000000000018,0.13333333333333341,0.18,0.34,0.40000000000000013,0.5,0.6666666666666667],\"y\":[0.10687945479928289,0.1025807485630554,0.05596342826479847,0.03924077073025912,0.006715753357591219,0.030809368131613536,0.10449945683506305,0.020163492101513653,0.13133211791690075,0.11648912850308621,0.1891739115391955,0.2695427304539337]}},\"id\":\"4b2575a8-ba50-4365-a601-58502b853083\",\"type\":\"ColumnDataSource\"},{\"attributes\":{},\"id\":\"a7766120-c963-4c76-8520-72433d3a7126\",\"type\":\"BasicTickFormatter\"},{\"attributes\":{},\"id\":\"3cc0f50e-3d6b-4e55-8391-5db9b4fcaaaf\",\"type\":\"ResetTool\"},{\"attributes\":{\"axis_label\":\"f(x)\",\"formatter\":{\"id\":\"e0dc1663-d1bb-4aa6-9da6-3728f642de43\",\"type\":\"BasicTickFormatter\"},\"plot\":{\"id\":\"aebf12e0-714a-454b-b279-37cbfc8f5264\",\"subtype\":\"Figure\",\"type\":\"Plot\"},\"ticker\":{\"id\":\"fe6f3d37-d4a1-40a2-9749-d268eea33f17\",\"type\":\"BasicTicker\"}},\"id\":\"6bcef6e3-49d2-4175-892a-f331ec7ac043\",\"type\":\"LinearAxis\"},{\"attributes\":{},\"id\":\"fe6f3d37-d4a1-40a2-9749-d268eea33f17\",\"type\":\"BasicTicker\"},{\"attributes\":{\"data_source\":{\"id\":\"4b2575a8-ba50-4365-a601-58502b853083\",\"type\":\"ColumnDataSource\"},\"glyph\":{\"id\":\"a5044233-e260-4a42-b294-e76b59385912\",\"type\":\"Circle\"},\"hover_glyph\":null,\"muted_glyph\":null,\"nonselection_glyph\":{\"id\":\"2427ae4e-8917-4d03-affb-c72605c415b1\",\"type\":\"Circle\"},\"selection_glyph\":null,\"view\":{\"id\":\"168b6d6e-ced8-4dae-af11-a067f28bc69f\",\"type\":\"CDSView\"}},\"id\":\"0bb5d3fc-3c3c-4db6-9f12-e52604fe5b37\",\"type\":\"GlyphRenderer\"}],\"root_ids\":[\"aebf12e0-714a-454b-b279-37cbfc8f5264\"]},\"title\":\"Bokeh Application\",\"version\":\"0.12.13\"}};\n",
       "  var render_items = [{\"docid\":\"12437e58-4aa3-40e4-b26a-2ceed2c27289\",\"elementid\":\"9f88e143-47e5-4e97-9007-da415151177e\",\"modelid\":\"aebf12e0-714a-454b-b279-37cbfc8f5264\"}];\n",
       "  root.Bokeh.embed.embed_items_notebook(docs_json, render_items);\n",
       "\n",
       "  }\n",
       "  if (root.Bokeh !== undefined) {\n",
       "    embed_document(root);\n",
       "  } else {\n",
       "    var attempts = 0;\n",
       "    var timer = setInterval(function(root) {\n",
       "      if (root.Bokeh !== undefined) {\n",
       "        embed_document(root);\n",
       "        clearInterval(timer);\n",
       "      }\n",
       "      attempts++;\n",
       "      if (attempts > 100) {\n",
       "        console.log(\"Bokeh: ERROR: Unable to run BokehJS code because BokehJS library is missing\")\n",
       "        clearInterval(timer);\n",
       "      }\n",
       "    }, 10, root)\n",
       "  }\n",
       "})(window);"
      ],
      "application/vnd.bokehjs_exec.v0+json": ""
     },
     "metadata": {
      "application/vnd.bokehjs_exec.v0+json": {
       "id": "aebf12e0-714a-454b-b279-37cbfc8f5264"
      }
     },
     "output_type": "display_data"
    }
   ],
   "source": [
    "def plot_search_grid(parabola_pts):\n",
    "    p = figure(plot_width = 600, plot_height = 600, \n",
    "           title = 'Current points',\n",
    "           x_axis_label = 'x', y_axis_label = 'f(x)')\n",
    "    pts = list(zip(*search_grid))\n",
    "    p.circle(pts[0], pts[1],  color = 'darkred', size=6)\n",
    "    # Add a parabola approx.\n",
    "    p.line(parabola_pts[0], parabola_pts[1], color = 'lightblue')\n",
    "    show(p)\n",
    "    \n",
    "# Show both the search points and the best parabolic fit\n",
    "plot_search_grid(parabola_pts)"
   ]
  }
 ],
 "metadata": {
  "kernelspec": {
   "display_name": "Python 3",
   "language": "python",
   "name": "python3"
  },
  "language_info": {
   "codemirror_mode": {
    "name": "ipython",
    "version": 3
   },
   "file_extension": ".py",
   "mimetype": "text/x-python",
   "name": "python",
   "nbconvert_exporter": "python",
   "pygments_lexer": "ipython3",
   "version": "3.6.4"
  }
 },
 "nbformat": 4,
 "nbformat_minor": 2
}
