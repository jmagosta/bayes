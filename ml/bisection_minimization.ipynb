{
 "cells": [
  {
   "cell_type": "code",
   "execution_count": 1,
   "metadata": {
    "ExecuteTime": {
     "end_time": "2018-11-01T23:56:51.427503Z",
     "start_time": "2018-11-01T23:56:50.414472Z"
    }
   },
   "outputs": [
    {
     "data": {
      "text/html": [
       "\n",
       "    <div class=\"bk-root\">\n",
       "        <a href=\"https://bokeh.pydata.org\" target=\"_blank\" class=\"bk-logo bk-logo-small bk-logo-notebook\"></a>\n",
       "        <span id=\"2c6b20f5-579f-4011-934f-29136ee557a1\">Loading BokehJS ...</span>\n",
       "    </div>"
      ]
     },
     "metadata": {},
     "output_type": "display_data"
    },
    {
     "data": {
      "application/javascript": [
       "\n",
       "(function(root) {\n",
       "  function now() {\n",
       "    return new Date();\n",
       "  }\n",
       "\n",
       "  var force = true;\n",
       "\n",
       "  if (typeof (root._bokeh_onload_callbacks) === \"undefined\" || force === true) {\n",
       "    root._bokeh_onload_callbacks = [];\n",
       "    root._bokeh_is_loading = undefined;\n",
       "  }\n",
       "\n",
       "  var JS_MIME_TYPE = 'application/javascript';\n",
       "  var HTML_MIME_TYPE = 'text/html';\n",
       "  var EXEC_MIME_TYPE = 'application/vnd.bokehjs_exec.v0+json';\n",
       "  var CLASS_NAME = 'output_bokeh rendered_html';\n",
       "\n",
       "  /**\n",
       "   * Render data to the DOM node\n",
       "   */\n",
       "  function render(props, node) {\n",
       "    var script = document.createElement(\"script\");\n",
       "    node.appendChild(script);\n",
       "  }\n",
       "\n",
       "  /**\n",
       "   * Handle when an output is cleared or removed\n",
       "   */\n",
       "  function handleClearOutput(event, handle) {\n",
       "    var cell = handle.cell;\n",
       "\n",
       "    var id = cell.output_area._bokeh_element_id;\n",
       "    var server_id = cell.output_area._bokeh_server_id;\n",
       "    // Clean up Bokeh references\n",
       "    if (id != null && id in Bokeh.index) {\n",
       "      Bokeh.index[id].model.document.clear();\n",
       "      delete Bokeh.index[id];\n",
       "    }\n",
       "\n",
       "    if (server_id !== undefined) {\n",
       "      // Clean up Bokeh references\n",
       "      var cmd = \"from bokeh.io.state import curstate; print(curstate().uuid_to_server['\" + server_id + \"'].get_sessions()[0].document.roots[0]._id)\";\n",
       "      cell.notebook.kernel.execute(cmd, {\n",
       "        iopub: {\n",
       "          output: function(msg) {\n",
       "            var id = msg.content.text.trim();\n",
       "            if (id in Bokeh.index) {\n",
       "              Bokeh.index[id].model.document.clear();\n",
       "              delete Bokeh.index[id];\n",
       "            }\n",
       "          }\n",
       "        }\n",
       "      });\n",
       "      // Destroy server and session\n",
       "      var cmd = \"import bokeh.io.notebook as ion; ion.destroy_server('\" + server_id + \"')\";\n",
       "      cell.notebook.kernel.execute(cmd);\n",
       "    }\n",
       "  }\n",
       "\n",
       "  /**\n",
       "   * Handle when a new output is added\n",
       "   */\n",
       "  function handleAddOutput(event, handle) {\n",
       "    var output_area = handle.output_area;\n",
       "    var output = handle.output;\n",
       "\n",
       "    // limit handleAddOutput to display_data with EXEC_MIME_TYPE content only\n",
       "    if ((output.output_type != \"display_data\") || (!output.data.hasOwnProperty(EXEC_MIME_TYPE))) {\n",
       "      return\n",
       "    }\n",
       "\n",
       "    var toinsert = output_area.element.find(\".\" + CLASS_NAME.split(' ')[0]);\n",
       "\n",
       "    if (output.metadata[EXEC_MIME_TYPE][\"id\"] !== undefined) {\n",
       "      toinsert[toinsert.length - 1].firstChild.textContent = output.data[JS_MIME_TYPE];\n",
       "      // store reference to embed id on output_area\n",
       "      output_area._bokeh_element_id = output.metadata[EXEC_MIME_TYPE][\"id\"];\n",
       "    }\n",
       "    if (output.metadata[EXEC_MIME_TYPE][\"server_id\"] !== undefined) {\n",
       "      var bk_div = document.createElement(\"div\");\n",
       "      bk_div.innerHTML = output.data[HTML_MIME_TYPE];\n",
       "      var script_attrs = bk_div.children[0].attributes;\n",
       "      for (var i = 0; i < script_attrs.length; i++) {\n",
       "        toinsert[toinsert.length - 1].firstChild.setAttribute(script_attrs[i].name, script_attrs[i].value);\n",
       "      }\n",
       "      // store reference to server id on output_area\n",
       "      output_area._bokeh_server_id = output.metadata[EXEC_MIME_TYPE][\"server_id\"];\n",
       "    }\n",
       "  }\n",
       "\n",
       "  function register_renderer(events, OutputArea) {\n",
       "\n",
       "    function append_mime(data, metadata, element) {\n",
       "      // create a DOM node to render to\n",
       "      var toinsert = this.create_output_subarea(\n",
       "        metadata,\n",
       "        CLASS_NAME,\n",
       "        EXEC_MIME_TYPE\n",
       "      );\n",
       "      this.keyboard_manager.register_events(toinsert);\n",
       "      // Render to node\n",
       "      var props = {data: data, metadata: metadata[EXEC_MIME_TYPE]};\n",
       "      render(props, toinsert[toinsert.length - 1]);\n",
       "      element.append(toinsert);\n",
       "      return toinsert\n",
       "    }\n",
       "\n",
       "    /* Handle when an output is cleared or removed */\n",
       "    events.on('clear_output.CodeCell', handleClearOutput);\n",
       "    events.on('delete.Cell', handleClearOutput);\n",
       "\n",
       "    /* Handle when a new output is added */\n",
       "    events.on('output_added.OutputArea', handleAddOutput);\n",
       "\n",
       "    /**\n",
       "     * Register the mime type and append_mime function with output_area\n",
       "     */\n",
       "    OutputArea.prototype.register_mime_type(EXEC_MIME_TYPE, append_mime, {\n",
       "      /* Is output safe? */\n",
       "      safe: true,\n",
       "      /* Index of renderer in `output_area.display_order` */\n",
       "      index: 0\n",
       "    });\n",
       "  }\n",
       "\n",
       "  // register the mime type if in Jupyter Notebook environment and previously unregistered\n",
       "  if (root.Jupyter !== undefined) {\n",
       "    var events = require('base/js/events');\n",
       "    var OutputArea = require('notebook/js/outputarea').OutputArea;\n",
       "\n",
       "    if (OutputArea.prototype.mime_types().indexOf(EXEC_MIME_TYPE) == -1) {\n",
       "      register_renderer(events, OutputArea);\n",
       "    }\n",
       "  }\n",
       "\n",
       "  \n",
       "  if (typeof (root._bokeh_timeout) === \"undefined\" || force === true) {\n",
       "    root._bokeh_timeout = Date.now() + 5000;\n",
       "    root._bokeh_failed_load = false;\n",
       "  }\n",
       "\n",
       "  var NB_LOAD_WARNING = {'data': {'text/html':\n",
       "     \"<div style='background-color: #fdd'>\\n\"+\n",
       "     \"<p>\\n\"+\n",
       "     \"BokehJS does not appear to have successfully loaded. If loading BokehJS from CDN, this \\n\"+\n",
       "     \"may be due to a slow or bad network connection. Possible fixes:\\n\"+\n",
       "     \"</p>\\n\"+\n",
       "     \"<ul>\\n\"+\n",
       "     \"<li>re-rerun `output_notebook()` to attempt to load from CDN again, or</li>\\n\"+\n",
       "     \"<li>use INLINE resources instead, as so:</li>\\n\"+\n",
       "     \"</ul>\\n\"+\n",
       "     \"<code>\\n\"+\n",
       "     \"from bokeh.resources import INLINE\\n\"+\n",
       "     \"output_notebook(resources=INLINE)\\n\"+\n",
       "     \"</code>\\n\"+\n",
       "     \"</div>\"}};\n",
       "\n",
       "  function display_loaded() {\n",
       "    var el = document.getElementById(\"2c6b20f5-579f-4011-934f-29136ee557a1\");\n",
       "    if (el != null) {\n",
       "      el.textContent = \"BokehJS is loading...\";\n",
       "    }\n",
       "    if (root.Bokeh !== undefined) {\n",
       "      if (el != null) {\n",
       "        el.textContent = \"BokehJS \" + root.Bokeh.version + \" successfully loaded.\";\n",
       "      }\n",
       "    } else if (Date.now() < root._bokeh_timeout) {\n",
       "      setTimeout(display_loaded, 100)\n",
       "    }\n",
       "  }\n",
       "\n",
       "\n",
       "  function run_callbacks() {\n",
       "    try {\n",
       "      root._bokeh_onload_callbacks.forEach(function(callback) { callback() });\n",
       "    }\n",
       "    finally {\n",
       "      delete root._bokeh_onload_callbacks\n",
       "    }\n",
       "    console.info(\"Bokeh: all callbacks have finished\");\n",
       "  }\n",
       "\n",
       "  function load_libs(js_urls, callback) {\n",
       "    root._bokeh_onload_callbacks.push(callback);\n",
       "    if (root._bokeh_is_loading > 0) {\n",
       "      console.log(\"Bokeh: BokehJS is being loaded, scheduling callback at\", now());\n",
       "      return null;\n",
       "    }\n",
       "    if (js_urls == null || js_urls.length === 0) {\n",
       "      run_callbacks();\n",
       "      return null;\n",
       "    }\n",
       "    console.log(\"Bokeh: BokehJS not loaded, scheduling load and callback at\", now());\n",
       "    root._bokeh_is_loading = js_urls.length;\n",
       "    for (var i = 0; i < js_urls.length; i++) {\n",
       "      var url = js_urls[i];\n",
       "      var s = document.createElement('script');\n",
       "      s.src = url;\n",
       "      s.async = false;\n",
       "      s.onreadystatechange = s.onload = function() {\n",
       "        root._bokeh_is_loading--;\n",
       "        if (root._bokeh_is_loading === 0) {\n",
       "          console.log(\"Bokeh: all BokehJS libraries loaded\");\n",
       "          run_callbacks()\n",
       "        }\n",
       "      };\n",
       "      s.onerror = function() {\n",
       "        console.warn(\"failed to load library \" + url);\n",
       "      };\n",
       "      console.log(\"Bokeh: injecting script tag for BokehJS library: \", url);\n",
       "      document.getElementsByTagName(\"head\")[0].appendChild(s);\n",
       "    }\n",
       "  };var element = document.getElementById(\"2c6b20f5-579f-4011-934f-29136ee557a1\");\n",
       "  if (element == null) {\n",
       "    console.log(\"Bokeh: ERROR: autoload.js configured with elementid '2c6b20f5-579f-4011-934f-29136ee557a1' but no matching script tag was found. \")\n",
       "    return false;\n",
       "  }\n",
       "\n",
       "  var js_urls = [\"https://cdn.pydata.org/bokeh/release/bokeh-0.13.0.min.js\", \"https://cdn.pydata.org/bokeh/release/bokeh-widgets-0.13.0.min.js\", \"https://cdn.pydata.org/bokeh/release/bokeh-tables-0.13.0.min.js\", \"https://cdn.pydata.org/bokeh/release/bokeh-gl-0.13.0.min.js\"];\n",
       "\n",
       "  var inline_js = [\n",
       "    function(Bokeh) {\n",
       "      Bokeh.set_log_level(\"info\");\n",
       "    },\n",
       "    \n",
       "    function(Bokeh) {\n",
       "      \n",
       "    },\n",
       "    function(Bokeh) {\n",
       "      console.log(\"Bokeh: injecting CSS: https://cdn.pydata.org/bokeh/release/bokeh-0.13.0.min.css\");\n",
       "      Bokeh.embed.inject_css(\"https://cdn.pydata.org/bokeh/release/bokeh-0.13.0.min.css\");\n",
       "      console.log(\"Bokeh: injecting CSS: https://cdn.pydata.org/bokeh/release/bokeh-widgets-0.13.0.min.css\");\n",
       "      Bokeh.embed.inject_css(\"https://cdn.pydata.org/bokeh/release/bokeh-widgets-0.13.0.min.css\");\n",
       "      console.log(\"Bokeh: injecting CSS: https://cdn.pydata.org/bokeh/release/bokeh-tables-0.13.0.min.css\");\n",
       "      Bokeh.embed.inject_css(\"https://cdn.pydata.org/bokeh/release/bokeh-tables-0.13.0.min.css\");\n",
       "    }\n",
       "  ];\n",
       "\n",
       "  function run_inline_js() {\n",
       "    \n",
       "    if ((root.Bokeh !== undefined) || (force === true)) {\n",
       "      for (var i = 0; i < inline_js.length; i++) {\n",
       "        inline_js[i].call(root, root.Bokeh);\n",
       "      }if (force === true) {\n",
       "        display_loaded();\n",
       "      }} else if (Date.now() < root._bokeh_timeout) {\n",
       "      setTimeout(run_inline_js, 100);\n",
       "    } else if (!root._bokeh_failed_load) {\n",
       "      console.log(\"Bokeh: BokehJS failed to load within specified timeout.\");\n",
       "      root._bokeh_failed_load = true;\n",
       "    } else if (force !== true) {\n",
       "      var cell = $(document.getElementById(\"2c6b20f5-579f-4011-934f-29136ee557a1\")).parents('.cell').data().cell;\n",
       "      cell.output_area.append_execute_result(NB_LOAD_WARNING)\n",
       "    }\n",
       "\n",
       "  }\n",
       "\n",
       "  if (root._bokeh_is_loading === 0) {\n",
       "    console.log(\"Bokeh: BokehJS loaded, going straight to plotting\");\n",
       "    run_inline_js();\n",
       "  } else {\n",
       "    load_libs(js_urls, function() {\n",
       "      console.log(\"Bokeh: BokehJS plotting callback run at\", now());\n",
       "      run_inline_js();\n",
       "    });\n",
       "  }\n",
       "}(window));"
      ],
      "application/vnd.bokehjs_load.v0+json": "\n(function(root) {\n  function now() {\n    return new Date();\n  }\n\n  var force = true;\n\n  if (typeof (root._bokeh_onload_callbacks) === \"undefined\" || force === true) {\n    root._bokeh_onload_callbacks = [];\n    root._bokeh_is_loading = undefined;\n  }\n\n  \n\n  \n  if (typeof (root._bokeh_timeout) === \"undefined\" || force === true) {\n    root._bokeh_timeout = Date.now() + 5000;\n    root._bokeh_failed_load = false;\n  }\n\n  var NB_LOAD_WARNING = {'data': {'text/html':\n     \"<div style='background-color: #fdd'>\\n\"+\n     \"<p>\\n\"+\n     \"BokehJS does not appear to have successfully loaded. If loading BokehJS from CDN, this \\n\"+\n     \"may be due to a slow or bad network connection. Possible fixes:\\n\"+\n     \"</p>\\n\"+\n     \"<ul>\\n\"+\n     \"<li>re-rerun `output_notebook()` to attempt to load from CDN again, or</li>\\n\"+\n     \"<li>use INLINE resources instead, as so:</li>\\n\"+\n     \"</ul>\\n\"+\n     \"<code>\\n\"+\n     \"from bokeh.resources import INLINE\\n\"+\n     \"output_notebook(resources=INLINE)\\n\"+\n     \"</code>\\n\"+\n     \"</div>\"}};\n\n  function display_loaded() {\n    var el = document.getElementById(\"2c6b20f5-579f-4011-934f-29136ee557a1\");\n    if (el != null) {\n      el.textContent = \"BokehJS is loading...\";\n    }\n    if (root.Bokeh !== undefined) {\n      if (el != null) {\n        el.textContent = \"BokehJS \" + root.Bokeh.version + \" successfully loaded.\";\n      }\n    } else if (Date.now() < root._bokeh_timeout) {\n      setTimeout(display_loaded, 100)\n    }\n  }\n\n\n  function run_callbacks() {\n    try {\n      root._bokeh_onload_callbacks.forEach(function(callback) { callback() });\n    }\n    finally {\n      delete root._bokeh_onload_callbacks\n    }\n    console.info(\"Bokeh: all callbacks have finished\");\n  }\n\n  function load_libs(js_urls, callback) {\n    root._bokeh_onload_callbacks.push(callback);\n    if (root._bokeh_is_loading > 0) {\n      console.log(\"Bokeh: BokehJS is being loaded, scheduling callback at\", now());\n      return null;\n    }\n    if (js_urls == null || js_urls.length === 0) {\n      run_callbacks();\n      return null;\n    }\n    console.log(\"Bokeh: BokehJS not loaded, scheduling load and callback at\", now());\n    root._bokeh_is_loading = js_urls.length;\n    for (var i = 0; i < js_urls.length; i++) {\n      var url = js_urls[i];\n      var s = document.createElement('script');\n      s.src = url;\n      s.async = false;\n      s.onreadystatechange = s.onload = function() {\n        root._bokeh_is_loading--;\n        if (root._bokeh_is_loading === 0) {\n          console.log(\"Bokeh: all BokehJS libraries loaded\");\n          run_callbacks()\n        }\n      };\n      s.onerror = function() {\n        console.warn(\"failed to load library \" + url);\n      };\n      console.log(\"Bokeh: injecting script tag for BokehJS library: \", url);\n      document.getElementsByTagName(\"head\")[0].appendChild(s);\n    }\n  };var element = document.getElementById(\"2c6b20f5-579f-4011-934f-29136ee557a1\");\n  if (element == null) {\n    console.log(\"Bokeh: ERROR: autoload.js configured with elementid '2c6b20f5-579f-4011-934f-29136ee557a1' but no matching script tag was found. \")\n    return false;\n  }\n\n  var js_urls = [\"https://cdn.pydata.org/bokeh/release/bokeh-0.13.0.min.js\", \"https://cdn.pydata.org/bokeh/release/bokeh-widgets-0.13.0.min.js\", \"https://cdn.pydata.org/bokeh/release/bokeh-tables-0.13.0.min.js\", \"https://cdn.pydata.org/bokeh/release/bokeh-gl-0.13.0.min.js\"];\n\n  var inline_js = [\n    function(Bokeh) {\n      Bokeh.set_log_level(\"info\");\n    },\n    \n    function(Bokeh) {\n      \n    },\n    function(Bokeh) {\n      console.log(\"Bokeh: injecting CSS: https://cdn.pydata.org/bokeh/release/bokeh-0.13.0.min.css\");\n      Bokeh.embed.inject_css(\"https://cdn.pydata.org/bokeh/release/bokeh-0.13.0.min.css\");\n      console.log(\"Bokeh: injecting CSS: https://cdn.pydata.org/bokeh/release/bokeh-widgets-0.13.0.min.css\");\n      Bokeh.embed.inject_css(\"https://cdn.pydata.org/bokeh/release/bokeh-widgets-0.13.0.min.css\");\n      console.log(\"Bokeh: injecting CSS: https://cdn.pydata.org/bokeh/release/bokeh-tables-0.13.0.min.css\");\n      Bokeh.embed.inject_css(\"https://cdn.pydata.org/bokeh/release/bokeh-tables-0.13.0.min.css\");\n    }\n  ];\n\n  function run_inline_js() {\n    \n    if ((root.Bokeh !== undefined) || (force === true)) {\n      for (var i = 0; i < inline_js.length; i++) {\n        inline_js[i].call(root, root.Bokeh);\n      }if (force === true) {\n        display_loaded();\n      }} else if (Date.now() < root._bokeh_timeout) {\n      setTimeout(run_inline_js, 100);\n    } else if (!root._bokeh_failed_load) {\n      console.log(\"Bokeh: BokehJS failed to load within specified timeout.\");\n      root._bokeh_failed_load = true;\n    } else if (force !== true) {\n      var cell = $(document.getElementById(\"2c6b20f5-579f-4011-934f-29136ee557a1\")).parents('.cell').data().cell;\n      cell.output_area.append_execute_result(NB_LOAD_WARNING)\n    }\n\n  }\n\n  if (root._bokeh_is_loading === 0) {\n    console.log(\"Bokeh: BokehJS loaded, going straight to plotting\");\n    run_inline_js();\n  } else {\n    load_libs(js_urls, function() {\n      console.log(\"Bokeh: BokehJS plotting callback run at\", now());\n      run_inline_js();\n    });\n  }\n}(window));"
     },
     "metadata": {},
     "output_type": "display_data"
    }
   ],
   "source": [
    "# Example of optimization by bisection line search\n",
    "import math\n",
    "import numpy as np\n",
    "\n",
    "from bokeh.models import Band, ColumnDataSource\n",
    "from bokeh.plotting import figure, show\n",
    "from bokeh.io import output_notebook\n",
    "output_notebook()"
   ]
  },
  {
   "cell_type": "code",
   "execution_count": 2,
   "metadata": {
    "ExecuteTime": {
     "end_time": "2018-11-01T23:33:30.089973Z",
     "start_time": "2018-11-01T23:33:30.086473Z"
    }
   },
   "outputs": [],
   "source": [
    "# Initialization \n",
    "range_min, range_max = (-1,1)\n",
    "initial_guess = 0.5\n",
    "initial_step_size = 0.1\n",
    "epsilon = 1.0e-6\n",
    "\n",
    "# tuples of (x, f(x)) in order.\n",
    "search_grid = []"
   ]
  },
  {
   "cell_type": "code",
   "execution_count": 51,
   "metadata": {
    "ExecuteTime": {
     "end_time": "2018-11-01T23:54:51.503882Z",
     "start_time": "2018-11-01T23:54:51.499059Z"
    }
   },
   "outputs": [],
   "source": [
    "def f(x):\n",
    "    'Function over the range to minimize in one dim'\n",
    "    return math.exp(x-0.2) + 3*math.exp(0.1 - x)\n",
    "\n",
    "def add_f_to_grid(x):\n",
    "    'memoization of the points searched'\n",
    "    global search_grid\n",
    "    # Binary search would be better\n",
    "    found_k = [k for k in len(search_grid) if abs(x-search_grid[k][0]) <= epsilon]\n",
    "    if found_x == []:\n",
    "        new_pt = (x, f(x))\n",
    "        insort_left(search_grid, new_pt)\n",
    "        return new_pt\n",
    "    else:\n",
    "        return search[found_k]\n",
    "    \n",
    "def init_grid(no_pts=3, shrinkage=3.0):\n",
    "    global search_grid\n",
    "    half_range = (range_max - range_min)/2\n",
    "    grid_x = np.linspace(range_min + half_range/shrinkage, range_max - half_range/shrinkage, no_pts)\n",
    "    search_grid = list(zip(grid_x, map(f, grid_x)))"
   ]
  },
  {
   "cell_type": "code",
   "execution_count": 52,
   "metadata": {},
   "outputs": [
    {
     "data": {
      "text/plain": [
       "[(-0.6666666666666667, 6.8780874394674445),\n",
       " (0.0, 4.134243507304925),\n",
       " (0.6666666666666667, 3.296910764619327)]"
      ]
     },
     "execution_count": 52,
     "metadata": {},
     "output_type": "execute_result"
    }
   ],
   "source": [
    "# Create some starting points. \n",
    "init_grid()\n",
    "search_grid"
   ]
  },
  {
   "cell_type": "code",
   "execution_count": 55,
   "metadata": {},
   "outputs": [
    {
     "ename": "TypeError",
     "evalue": "'int' object is not iterable",
     "output_type": "error",
     "traceback": [
      "\u001b[0;31m---------------------------------------------------------------------------\u001b[0m",
      "\u001b[0;31mTypeError\u001b[0m                                 Traceback (most recent call last)",
      "\u001b[0;32m<ipython-input-55-9a3ab96d6fbd>\u001b[0m in \u001b[0;36m<module>\u001b[0;34m()\u001b[0m\n\u001b[1;32m      1\u001b[0m \u001b[0;31m#add_f_to_grid(0.1)\u001b[0m\u001b[0;34m\u001b[0m\u001b[0;34m\u001b[0m\u001b[0m\n\u001b[0;32m----> 2\u001b[0;31m \u001b[0;34m[\u001b[0m\u001b[0mk\u001b[0m \u001b[0;32mfor\u001b[0m \u001b[0mk\u001b[0m \u001b[0;32min\u001b[0m \u001b[0mlen\u001b[0m\u001b[0;34m(\u001b[0m\u001b[0msearch_grid\u001b[0m\u001b[0;34m)\u001b[0m\u001b[0;34m]\u001b[0m\u001b[0;34m\u001b[0m\u001b[0m\n\u001b[0m",
      "\u001b[0;31mTypeError\u001b[0m: 'int' object is not iterable"
     ]
    }
   ],
   "source": [
    "#add_f_to_grid(0.1)\n",
    "[k for k in len(search_grid)]"
   ]
  },
  {
   "cell_type": "code",
   "execution_count": 6,
   "metadata": {
    "ExecuteTime": {
     "end_time": "2018-11-01T23:51:19.642471Z",
     "start_time": "2018-11-01T23:51:19.639154Z"
    }
   },
   "outputs": [],
   "source": [
    "def descent_direction(x, step=initial_step_size):\n",
    "    pass"
   ]
  },
  {
   "cell_type": "code",
   "execution_count": 32,
   "metadata": {
    "ExecuteTime": {
     "end_time": "2018-11-02T00:07:53.184576Z",
     "start_time": "2018-11-02T00:07:53.180246Z"
    }
   },
   "outputs": [],
   "source": [
    "def plot_search_grid():\n",
    "    p = figure(plot_width = 600, plot_height = 600, \n",
    "           title = 'Current points',\n",
    "           x_axis_label = 'x', y_axis_label = 'f(x)')\n",
    "    pts = list(zip(*search_grid))\n",
    "    p.circle(pts[0], pts[1], size=6, color = 'darkred')\n",
    "    # Add a parabola approx. \n",
    "    show(p)"
   ]
  },
  {
   "cell_type": "code",
   "execution_count": 33,
   "metadata": {
    "ExecuteTime": {
     "end_time": "2018-11-02T00:07:59.444460Z",
     "start_time": "2018-11-02T00:07:59.390434Z"
    }
   },
   "outputs": [
    {
     "data": {
      "text/html": [
       "\n",
       "\n",
       "\n",
       "\n",
       "\n",
       "\n",
       "  <div class=\"bk-root\" id=\"f4e15a85-0c7e-4c12-aefc-25c5bb3681f1\"></div>\n"
      ]
     },
     "metadata": {},
     "output_type": "display_data"
    },
    {
     "data": {
      "application/javascript": [
       "(function(root) {\n",
       "  function embed_document(root) {\n",
       "    \n",
       "  var docs_json = {\"e882c638-008b-4aa7-94f6-5940e8672a0a\":{\"roots\":{\"references\":[{\"attributes\":{},\"id\":\"46f5a844-a97e-4ab8-b034-e72a166fdc43\",\"type\":\"BasicTickFormatter\"},{\"attributes\":{\"plot\":{\"id\":\"5343f1de-0c50-4cc9-8441-82509d2c7202\",\"subtype\":\"Figure\",\"type\":\"Plot\"},\"ticker\":{\"id\":\"426a0e09-d770-473b-ace5-2ebd20bd08d5\",\"type\":\"BasicTicker\"}},\"id\":\"9b8826d4-c4af-4a7e-af6b-4e2b1e9ff3fd\",\"type\":\"Grid\"},{\"attributes\":{\"callback\":null},\"id\":\"384f26aa-a727-4546-bc30-527582814fc4\",\"type\":\"DataRange1d\"},{\"attributes\":{\"source\":{\"id\":\"dca3df7e-67fe-4f46-bb31-0f370844f3fa\",\"type\":\"ColumnDataSource\"}},\"id\":\"5e5966b3-0107-4a19-ab53-36b5367e1f18\",\"type\":\"CDSView\"},{\"attributes\":{},\"id\":\"1e2a0ae3-5e14-472f-8b96-8e122860566a\",\"type\":\"WheelZoomTool\"},{\"attributes\":{},\"id\":\"6b1996f9-8baf-44fe-8e22-7e9be7896f63\",\"type\":\"SaveTool\"},{\"attributes\":{},\"id\":\"b6744d1d-0872-405c-9ab7-def633505f92\",\"type\":\"PanTool\"},{\"attributes\":{},\"id\":\"5c7445e3-816e-4bb4-9824-0c0956b0d377\",\"type\":\"HelpTool\"},{\"attributes\":{},\"id\":\"bc629ca1-b90b-4967-a388-b3157119eb90\",\"type\":\"BasicTicker\"},{\"attributes\":{\"plot\":null,\"text\":\"Current points\"},\"id\":\"58f5f042-2f82-429f-ac11-b9de2e4136f8\",\"type\":\"Title\"},{\"attributes\":{},\"id\":\"f8358bda-12ed-4869-be12-9367df2a1560\",\"type\":\"LinearScale\"},{\"attributes\":{},\"id\":\"31edcf93-10b7-4a1c-b5eb-34b7e42dac36\",\"type\":\"Selection\"},{\"attributes\":{\"bottom_units\":\"screen\",\"fill_alpha\":{\"value\":0.5},\"fill_color\":{\"value\":\"lightgrey\"},\"left_units\":\"screen\",\"level\":\"overlay\",\"line_alpha\":{\"value\":1.0},\"line_color\":{\"value\":\"black\"},\"line_dash\":[4,4],\"line_width\":{\"value\":2},\"plot\":null,\"render_mode\":\"css\",\"right_units\":\"screen\",\"top_units\":\"screen\"},\"id\":\"d74d05d1-fc26-45b5-add3-c742814d2eba\",\"type\":\"BoxAnnotation\"},{\"attributes\":{\"callback\":null},\"id\":\"7f7697c7-906e-4ee2-bfac-2508e8eddebd\",\"type\":\"DataRange1d\"},{\"attributes\":{\"below\":[{\"id\":\"cc9d5401-89f1-4afc-adc6-c3ac310c7ffc\",\"type\":\"LinearAxis\"}],\"left\":[{\"id\":\"a00a042d-b374-4456-b56d-ef43476fbb9e\",\"type\":\"LinearAxis\"}],\"renderers\":[{\"id\":\"cc9d5401-89f1-4afc-adc6-c3ac310c7ffc\",\"type\":\"LinearAxis\"},{\"id\":\"9b8826d4-c4af-4a7e-af6b-4e2b1e9ff3fd\",\"type\":\"Grid\"},{\"id\":\"a00a042d-b374-4456-b56d-ef43476fbb9e\",\"type\":\"LinearAxis\"},{\"id\":\"7ce33f48-dff1-4b28-80ea-1454c407a752\",\"type\":\"Grid\"},{\"id\":\"d74d05d1-fc26-45b5-add3-c742814d2eba\",\"type\":\"BoxAnnotation\"},{\"id\":\"2bf712e2-ac39-4779-a8b8-ae6a55510f1d\",\"type\":\"GlyphRenderer\"}],\"title\":{\"id\":\"58f5f042-2f82-429f-ac11-b9de2e4136f8\",\"type\":\"Title\"},\"toolbar\":{\"id\":\"a25a5968-0c88-43a3-8c25-37cb0debeb8f\",\"type\":\"Toolbar\"},\"x_range\":{\"id\":\"7f7697c7-906e-4ee2-bfac-2508e8eddebd\",\"type\":\"DataRange1d\"},\"x_scale\":{\"id\":\"f8358bda-12ed-4869-be12-9367df2a1560\",\"type\":\"LinearScale\"},\"y_range\":{\"id\":\"384f26aa-a727-4546-bc30-527582814fc4\",\"type\":\"DataRange1d\"},\"y_scale\":{\"id\":\"ba4a5565-beb6-4b5c-a1f3-5fbcbcff463a\",\"type\":\"LinearScale\"}},\"id\":\"5343f1de-0c50-4cc9-8441-82509d2c7202\",\"subtype\":\"Figure\",\"type\":\"Plot\"},{\"attributes\":{},\"id\":\"426a0e09-d770-473b-ace5-2ebd20bd08d5\",\"type\":\"BasicTicker\"},{\"attributes\":{\"axis_label\":\"f(x)\",\"formatter\":{\"id\":\"68ecd761-2297-4f2d-a90a-4650a91f8d3b\",\"type\":\"BasicTickFormatter\"},\"plot\":{\"id\":\"5343f1de-0c50-4cc9-8441-82509d2c7202\",\"subtype\":\"Figure\",\"type\":\"Plot\"},\"ticker\":{\"id\":\"bc629ca1-b90b-4967-a388-b3157119eb90\",\"type\":\"BasicTicker\"}},\"id\":\"a00a042d-b374-4456-b56d-ef43476fbb9e\",\"type\":\"LinearAxis\"},{\"attributes\":{\"fill_alpha\":{\"value\":0.1},\"fill_color\":{\"value\":\"#1f77b4\"},\"line_alpha\":{\"value\":0.1},\"line_color\":{\"value\":\"#1f77b4\"},\"size\":{\"units\":\"screen\",\"value\":6},\"x\":{\"field\":\"x\"},\"y\":{\"field\":\"y\"}},\"id\":\"ed019fde-60c1-4862-9594-75e45040767c\",\"type\":\"Circle\"},{\"attributes\":{\"active_drag\":\"auto\",\"active_inspect\":\"auto\",\"active_multi\":null,\"active_scroll\":\"auto\",\"active_tap\":\"auto\",\"tools\":[{\"id\":\"b6744d1d-0872-405c-9ab7-def633505f92\",\"type\":\"PanTool\"},{\"id\":\"1e2a0ae3-5e14-472f-8b96-8e122860566a\",\"type\":\"WheelZoomTool\"},{\"id\":\"e0d30994-722a-461d-89a1-89f93f41c9e6\",\"type\":\"BoxZoomTool\"},{\"id\":\"6b1996f9-8baf-44fe-8e22-7e9be7896f63\",\"type\":\"SaveTool\"},{\"id\":\"7edbf9eb-07e2-44e0-8efe-8a77637d15ee\",\"type\":\"ResetTool\"},{\"id\":\"5c7445e3-816e-4bb4-9824-0c0956b0d377\",\"type\":\"HelpTool\"}]},\"id\":\"a25a5968-0c88-43a3-8c25-37cb0debeb8f\",\"type\":\"Toolbar\"},{\"attributes\":{\"overlay\":{\"id\":\"d74d05d1-fc26-45b5-add3-c742814d2eba\",\"type\":\"BoxAnnotation\"}},\"id\":\"e0d30994-722a-461d-89a1-89f93f41c9e6\",\"type\":\"BoxZoomTool\"},{\"attributes\":{},\"id\":\"29629e49-4523-435f-a6bc-e3404af8cea6\",\"type\":\"UnionRenderers\"},{\"attributes\":{\"data_source\":{\"id\":\"dca3df7e-67fe-4f46-bb31-0f370844f3fa\",\"type\":\"ColumnDataSource\"},\"glyph\":{\"id\":\"ae24d0bb-aa7d-40f6-980b-7df6a955f912\",\"type\":\"Circle\"},\"hover_glyph\":null,\"muted_glyph\":null,\"nonselection_glyph\":{\"id\":\"ed019fde-60c1-4862-9594-75e45040767c\",\"type\":\"Circle\"},\"selection_glyph\":null,\"view\":{\"id\":\"5e5966b3-0107-4a19-ab53-36b5367e1f18\",\"type\":\"CDSView\"}},\"id\":\"2bf712e2-ac39-4779-a8b8-ae6a55510f1d\",\"type\":\"GlyphRenderer\"},{\"attributes\":{\"dimension\":1,\"plot\":{\"id\":\"5343f1de-0c50-4cc9-8441-82509d2c7202\",\"subtype\":\"Figure\",\"type\":\"Plot\"},\"ticker\":{\"id\":\"bc629ca1-b90b-4967-a388-b3157119eb90\",\"type\":\"BasicTicker\"}},\"id\":\"7ce33f48-dff1-4b28-80ea-1454c407a752\",\"type\":\"Grid\"},{\"attributes\":{\"fill_color\":{\"value\":\"darkred\"},\"line_color\":{\"value\":\"darkred\"},\"size\":{\"units\":\"screen\",\"value\":6},\"x\":{\"field\":\"x\"},\"y\":{\"field\":\"y\"}},\"id\":\"ae24d0bb-aa7d-40f6-980b-7df6a955f912\",\"type\":\"Circle\"},{\"attributes\":{},\"id\":\"7edbf9eb-07e2-44e0-8efe-8a77637d15ee\",\"type\":\"ResetTool\"},{\"attributes\":{\"callback\":null,\"data\":{\"x\":[0.0,0.012658227848101266,0.02531645569620253,0.0379746835443038,0.05063291139240506,0.06329113924050633,0.0759493670886076,0.08860759493670886,0.10126582278481013,0.11392405063291139,0.12658227848101267,0.13924050632911392,0.1518987341772152,0.16455696202531644,0.17721518987341772,0.18987341772151897,0.20253164556962025,0.21518987341772153,0.22784810126582278,0.24050632911392406,0.25316455696202533,0.26582278481012656,0.27848101265822783,0.2911392405063291,0.3037974683544304,0.31645569620253167,0.3291139240506329,0.34177215189873417,0.35443037974683544,0.3670886075949367,0.37974683544303794,0.3924050632911392,0.4050632911392405,0.4177215189873418,0.43037974683544306,0.4430379746835443,0.45569620253164556,0.46835443037974683,0.4810126582278481,0.49367088607594933,0.5063291139240507,0.5189873417721519,0.5316455696202531,0.5443037974683544,0.5569620253164557,0.569620253164557,0.5822784810126582,0.5949367088607594,0.6075949367088608,0.620253164556962,0.6329113924050633,0.6455696202531646,0.6582278481012658,0.6708860759493671,0.6835443037974683,0.6962025316455696,0.7088607594936709,0.7215189873417721,0.7341772151898734,0.7468354430379747,0.7594936708860759,0.7721518987341772,0.7848101265822784,0.7974683544303798,0.810126582278481,0.8227848101265822,0.8354430379746836,0.8481012658227848,0.8607594936708861,0.8734177215189873,0.8860759493670886,0.8987341772151899,0.9113924050632911,0.9240506329113924,0.9367088607594937,0.9493670886075949,0.9620253164556962,0.9746835443037974,0.9873417721518987,1.0],\"y\":[4.134243507304925,4.102969048684452,4.072352020577377,4.042387517129361,4.01307073704197,3.9843969828033363,3.9563616599354745,3.9289602762580924,3.902188441168792,3.876041864939555,3.8505163580293855,3.825607830413009,3.8013122909255133,3.7776258466228363,3.7545447021579843,3.7320651591728984,3.7101836157058488,3.6888965656142876,3.6682005980130477,3.6480923967278063,3.628568739763725,3.6096264987891824,3.5912626386345092,3.573474216805656,3.5562583830127097,3.5396123787131817,3.5235335366699996,3.5080192805241284,3.493067124381753,3.4786746724159556,3.464839618482826,3.4515597457519407,3.4388329263511577,3.426657121025654,3.4150303788111773,3.4039508367214335,3.393416719449575,3.3834263390837407,3.3739780948365947,3.365070472788827,3.3567020456465784,3.3488714725127338,3.3415774986720734,3.3348189553902228,3.328594759726382,3.322903914359806,3.3177455074299984,3.3131187123906036,3.3090227878769656,3.305457077587337,3.302421010177718,3.2999140991703086,3.297935942875559,3.296486224327805,3.2955647112344812,3.2951712559388984,3.295305795396583,3.2959683511651807,3.297159029407904,3.2988780209105473,3.301125601112055,3.303902130148658,3.3072080529115775,3.311043899118311,3.3154102833975125,3.320307905387473,3.3257375498482302,3.3317000867873077,3.3381964715991232,3.34522774521807,3.352795034285312,3.360899551329309,3.3695425949601012,3.378725550077389,3.3884498880924427,3.398717167163869,3.409529032447278,3.4208872163588926,3.43279353885314,3.445249907714265]},\"selected\":{\"id\":\"31edcf93-10b7-4a1c-b5eb-34b7e42dac36\",\"type\":\"Selection\"},\"selection_policy\":{\"id\":\"29629e49-4523-435f-a6bc-e3404af8cea6\",\"type\":\"UnionRenderers\"}},\"id\":\"dca3df7e-67fe-4f46-bb31-0f370844f3fa\",\"type\":\"ColumnDataSource\"},{\"attributes\":{},\"id\":\"68ecd761-2297-4f2d-a90a-4650a91f8d3b\",\"type\":\"BasicTickFormatter\"},{\"attributes\":{\"axis_label\":\"x\",\"formatter\":{\"id\":\"46f5a844-a97e-4ab8-b034-e72a166fdc43\",\"type\":\"BasicTickFormatter\"},\"plot\":{\"id\":\"5343f1de-0c50-4cc9-8441-82509d2c7202\",\"subtype\":\"Figure\",\"type\":\"Plot\"},\"ticker\":{\"id\":\"426a0e09-d770-473b-ace5-2ebd20bd08d5\",\"type\":\"BasicTicker\"}},\"id\":\"cc9d5401-89f1-4afc-adc6-c3ac310c7ffc\",\"type\":\"LinearAxis\"},{\"attributes\":{},\"id\":\"ba4a5565-beb6-4b5c-a1f3-5fbcbcff463a\",\"type\":\"LinearScale\"}],\"root_ids\":[\"5343f1de-0c50-4cc9-8441-82509d2c7202\"]},\"title\":\"Bokeh Application\",\"version\":\"0.13.0\"}};\n",
       "  var render_items = [{\"docid\":\"e882c638-008b-4aa7-94f6-5940e8672a0a\",\"roots\":{\"5343f1de-0c50-4cc9-8441-82509d2c7202\":\"f4e15a85-0c7e-4c12-aefc-25c5bb3681f1\"}}];\n",
       "  root.Bokeh.embed.embed_items_notebook(docs_json, render_items);\n",
       "\n",
       "  }\n",
       "  if (root.Bokeh !== undefined) {\n",
       "    embed_document(root);\n",
       "  } else {\n",
       "    var attempts = 0;\n",
       "    var timer = setInterval(function(root) {\n",
       "      if (root.Bokeh !== undefined) {\n",
       "        embed_document(root);\n",
       "        clearInterval(timer);\n",
       "      }\n",
       "      attempts++;\n",
       "      if (attempts > 100) {\n",
       "        console.log(\"Bokeh: ERROR: Unable to run BokehJS code because BokehJS library is missing\")\n",
       "        clearInterval(timer);\n",
       "      }\n",
       "    }, 10, root)\n",
       "  }\n",
       "})(window);"
      ],
      "application/vnd.bokehjs_exec.v0+json": ""
     },
     "metadata": {
      "application/vnd.bokehjs_exec.v0+json": {
       "id": "5343f1de-0c50-4cc9-8441-82509d2c7202"
      }
     },
     "output_type": "display_data"
    }
   ],
   "source": [
    "search_grid = [(x, f(x)) for x in np.linspace(range_min, range_max, 80)]\n",
    "plot_search_grid()"
   ]
  }
 ],
 "metadata": {
  "kernelspec": {
   "display_name": "py35",
   "language": "python",
   "name": "py35"
  },
  "language_info": {
   "codemirror_mode": {
    "name": "ipython",
    "version": 3
   },
   "file_extension": ".py",
   "mimetype": "text/x-python",
   "name": "python",
   "nbconvert_exporter": "python",
   "pygments_lexer": "ipython3",
   "version": "3.5.2"
  }
 },
 "nbformat": 4,
 "nbformat_minor": 2
}
