{
 "cells": [
  {
   "cell_type": "code",
   "execution_count": 175,
   "metadata": {
    "ExecuteTime": {
     "end_time": "2018-11-01T23:56:51.427503Z",
     "start_time": "2018-11-01T23:56:50.414472Z"
    }
   },
   "outputs": [
    {
     "data": {
      "text/html": [
       "\n",
       "    <div class=\"bk-root\">\n",
       "        <a href=\"https://bokeh.pydata.org\" target=\"_blank\" class=\"bk-logo bk-logo-small bk-logo-notebook\"></a>\n",
       "        <span id=\"7e396c0b-e8b3-4584-9233-6b5618417c36\">Loading BokehJS ...</span>\n",
       "    </div>"
      ]
     },
     "metadata": {},
     "output_type": "display_data"
    },
    {
     "data": {
      "application/javascript": [
       "\n",
       "(function(root) {\n",
       "  function now() {\n",
       "    return new Date();\n",
       "  }\n",
       "\n",
       "  var force = true;\n",
       "\n",
       "  if (typeof (root._bokeh_onload_callbacks) === \"undefined\" || force === true) {\n",
       "    root._bokeh_onload_callbacks = [];\n",
       "    root._bokeh_is_loading = undefined;\n",
       "  }\n",
       "\n",
       "  var JS_MIME_TYPE = 'application/javascript';\n",
       "  var HTML_MIME_TYPE = 'text/html';\n",
       "  var EXEC_MIME_TYPE = 'application/vnd.bokehjs_exec.v0+json';\n",
       "  var CLASS_NAME = 'output_bokeh rendered_html';\n",
       "\n",
       "  /**\n",
       "   * Render data to the DOM node\n",
       "   */\n",
       "  function render(props, node) {\n",
       "    var script = document.createElement(\"script\");\n",
       "    node.appendChild(script);\n",
       "  }\n",
       "\n",
       "  /**\n",
       "   * Handle when an output is cleared or removed\n",
       "   */\n",
       "  function handleClearOutput(event, handle) {\n",
       "    var cell = handle.cell;\n",
       "\n",
       "    var id = cell.output_area._bokeh_element_id;\n",
       "    var server_id = cell.output_area._bokeh_server_id;\n",
       "    // Clean up Bokeh references\n",
       "    if (id != null && id in Bokeh.index) {\n",
       "      Bokeh.index[id].model.document.clear();\n",
       "      delete Bokeh.index[id];\n",
       "    }\n",
       "\n",
       "    if (server_id !== undefined) {\n",
       "      // Clean up Bokeh references\n",
       "      var cmd = \"from bokeh.io.state import curstate; print(curstate().uuid_to_server['\" + server_id + \"'].get_sessions()[0].document.roots[0]._id)\";\n",
       "      cell.notebook.kernel.execute(cmd, {\n",
       "        iopub: {\n",
       "          output: function(msg) {\n",
       "            var id = msg.content.text.trim();\n",
       "            if (id in Bokeh.index) {\n",
       "              Bokeh.index[id].model.document.clear();\n",
       "              delete Bokeh.index[id];\n",
       "            }\n",
       "          }\n",
       "        }\n",
       "      });\n",
       "      // Destroy server and session\n",
       "      var cmd = \"import bokeh.io.notebook as ion; ion.destroy_server('\" + server_id + \"')\";\n",
       "      cell.notebook.kernel.execute(cmd);\n",
       "    }\n",
       "  }\n",
       "\n",
       "  /**\n",
       "   * Handle when a new output is added\n",
       "   */\n",
       "  function handleAddOutput(event, handle) {\n",
       "    var output_area = handle.output_area;\n",
       "    var output = handle.output;\n",
       "\n",
       "    // limit handleAddOutput to display_data with EXEC_MIME_TYPE content only\n",
       "    if ((output.output_type != \"display_data\") || (!output.data.hasOwnProperty(EXEC_MIME_TYPE))) {\n",
       "      return\n",
       "    }\n",
       "\n",
       "    var toinsert = output_area.element.find(\".\" + CLASS_NAME.split(' ')[0]);\n",
       "\n",
       "    if (output.metadata[EXEC_MIME_TYPE][\"id\"] !== undefined) {\n",
       "      toinsert[toinsert.length - 1].firstChild.textContent = output.data[JS_MIME_TYPE];\n",
       "      // store reference to embed id on output_area\n",
       "      output_area._bokeh_element_id = output.metadata[EXEC_MIME_TYPE][\"id\"];\n",
       "    }\n",
       "    if (output.metadata[EXEC_MIME_TYPE][\"server_id\"] !== undefined) {\n",
       "      var bk_div = document.createElement(\"div\");\n",
       "      bk_div.innerHTML = output.data[HTML_MIME_TYPE];\n",
       "      var script_attrs = bk_div.children[0].attributes;\n",
       "      for (var i = 0; i < script_attrs.length; i++) {\n",
       "        toinsert[toinsert.length - 1].firstChild.setAttribute(script_attrs[i].name, script_attrs[i].value);\n",
       "      }\n",
       "      // store reference to server id on output_area\n",
       "      output_area._bokeh_server_id = output.metadata[EXEC_MIME_TYPE][\"server_id\"];\n",
       "    }\n",
       "  }\n",
       "\n",
       "  function register_renderer(events, OutputArea) {\n",
       "\n",
       "    function append_mime(data, metadata, element) {\n",
       "      // create a DOM node to render to\n",
       "      var toinsert = this.create_output_subarea(\n",
       "        metadata,\n",
       "        CLASS_NAME,\n",
       "        EXEC_MIME_TYPE\n",
       "      );\n",
       "      this.keyboard_manager.register_events(toinsert);\n",
       "      // Render to node\n",
       "      var props = {data: data, metadata: metadata[EXEC_MIME_TYPE]};\n",
       "      render(props, toinsert[toinsert.length - 1]);\n",
       "      element.append(toinsert);\n",
       "      return toinsert\n",
       "    }\n",
       "\n",
       "    /* Handle when an output is cleared or removed */\n",
       "    events.on('clear_output.CodeCell', handleClearOutput);\n",
       "    events.on('delete.Cell', handleClearOutput);\n",
       "\n",
       "    /* Handle when a new output is added */\n",
       "    events.on('output_added.OutputArea', handleAddOutput);\n",
       "\n",
       "    /**\n",
       "     * Register the mime type and append_mime function with output_area\n",
       "     */\n",
       "    OutputArea.prototype.register_mime_type(EXEC_MIME_TYPE, append_mime, {\n",
       "      /* Is output safe? */\n",
       "      safe: true,\n",
       "      /* Index of renderer in `output_area.display_order` */\n",
       "      index: 0\n",
       "    });\n",
       "  }\n",
       "\n",
       "  // register the mime type if in Jupyter Notebook environment and previously unregistered\n",
       "  if (root.Jupyter !== undefined) {\n",
       "    var events = require('base/js/events');\n",
       "    var OutputArea = require('notebook/js/outputarea').OutputArea;\n",
       "\n",
       "    if (OutputArea.prototype.mime_types().indexOf(EXEC_MIME_TYPE) == -1) {\n",
       "      register_renderer(events, OutputArea);\n",
       "    }\n",
       "  }\n",
       "\n",
       "  \n",
       "  if (typeof (root._bokeh_timeout) === \"undefined\" || force === true) {\n",
       "    root._bokeh_timeout = Date.now() + 5000;\n",
       "    root._bokeh_failed_load = false;\n",
       "  }\n",
       "\n",
       "  var NB_LOAD_WARNING = {'data': {'text/html':\n",
       "     \"<div style='background-color: #fdd'>\\n\"+\n",
       "     \"<p>\\n\"+\n",
       "     \"BokehJS does not appear to have successfully loaded. If loading BokehJS from CDN, this \\n\"+\n",
       "     \"may be due to a slow or bad network connection. Possible fixes:\\n\"+\n",
       "     \"</p>\\n\"+\n",
       "     \"<ul>\\n\"+\n",
       "     \"<li>re-rerun `output_notebook()` to attempt to load from CDN again, or</li>\\n\"+\n",
       "     \"<li>use INLINE resources instead, as so:</li>\\n\"+\n",
       "     \"</ul>\\n\"+\n",
       "     \"<code>\\n\"+\n",
       "     \"from bokeh.resources import INLINE\\n\"+\n",
       "     \"output_notebook(resources=INLINE)\\n\"+\n",
       "     \"</code>\\n\"+\n",
       "     \"</div>\"}};\n",
       "\n",
       "  function display_loaded() {\n",
       "    var el = document.getElementById(\"7e396c0b-e8b3-4584-9233-6b5618417c36\");\n",
       "    if (el != null) {\n",
       "      el.textContent = \"BokehJS is loading...\";\n",
       "    }\n",
       "    if (root.Bokeh !== undefined) {\n",
       "      if (el != null) {\n",
       "        el.textContent = \"BokehJS \" + root.Bokeh.version + \" successfully loaded.\";\n",
       "      }\n",
       "    } else if (Date.now() < root._bokeh_timeout) {\n",
       "      setTimeout(display_loaded, 100)\n",
       "    }\n",
       "  }\n",
       "\n",
       "\n",
       "  function run_callbacks() {\n",
       "    try {\n",
       "      root._bokeh_onload_callbacks.forEach(function(callback) { callback() });\n",
       "    }\n",
       "    finally {\n",
       "      delete root._bokeh_onload_callbacks\n",
       "    }\n",
       "    console.info(\"Bokeh: all callbacks have finished\");\n",
       "  }\n",
       "\n",
       "  function load_libs(js_urls, callback) {\n",
       "    root._bokeh_onload_callbacks.push(callback);\n",
       "    if (root._bokeh_is_loading > 0) {\n",
       "      console.log(\"Bokeh: BokehJS is being loaded, scheduling callback at\", now());\n",
       "      return null;\n",
       "    }\n",
       "    if (js_urls == null || js_urls.length === 0) {\n",
       "      run_callbacks();\n",
       "      return null;\n",
       "    }\n",
       "    console.log(\"Bokeh: BokehJS not loaded, scheduling load and callback at\", now());\n",
       "    root._bokeh_is_loading = js_urls.length;\n",
       "    for (var i = 0; i < js_urls.length; i++) {\n",
       "      var url = js_urls[i];\n",
       "      var s = document.createElement('script');\n",
       "      s.src = url;\n",
       "      s.async = false;\n",
       "      s.onreadystatechange = s.onload = function() {\n",
       "        root._bokeh_is_loading--;\n",
       "        if (root._bokeh_is_loading === 0) {\n",
       "          console.log(\"Bokeh: all BokehJS libraries loaded\");\n",
       "          run_callbacks()\n",
       "        }\n",
       "      };\n",
       "      s.onerror = function() {\n",
       "        console.warn(\"failed to load library \" + url);\n",
       "      };\n",
       "      console.log(\"Bokeh: injecting script tag for BokehJS library: \", url);\n",
       "      document.getElementsByTagName(\"head\")[0].appendChild(s);\n",
       "    }\n",
       "  };var element = document.getElementById(\"7e396c0b-e8b3-4584-9233-6b5618417c36\");\n",
       "  if (element == null) {\n",
       "    console.log(\"Bokeh: ERROR: autoload.js configured with elementid '7e396c0b-e8b3-4584-9233-6b5618417c36' but no matching script tag was found. \")\n",
       "    return false;\n",
       "  }\n",
       "\n",
       "  var js_urls = [\"https://cdn.pydata.org/bokeh/release/bokeh-0.13.0.min.js\", \"https://cdn.pydata.org/bokeh/release/bokeh-widgets-0.13.0.min.js\", \"https://cdn.pydata.org/bokeh/release/bokeh-tables-0.13.0.min.js\", \"https://cdn.pydata.org/bokeh/release/bokeh-gl-0.13.0.min.js\"];\n",
       "\n",
       "  var inline_js = [\n",
       "    function(Bokeh) {\n",
       "      Bokeh.set_log_level(\"info\");\n",
       "    },\n",
       "    \n",
       "    function(Bokeh) {\n",
       "      \n",
       "    },\n",
       "    function(Bokeh) {\n",
       "      console.log(\"Bokeh: injecting CSS: https://cdn.pydata.org/bokeh/release/bokeh-0.13.0.min.css\");\n",
       "      Bokeh.embed.inject_css(\"https://cdn.pydata.org/bokeh/release/bokeh-0.13.0.min.css\");\n",
       "      console.log(\"Bokeh: injecting CSS: https://cdn.pydata.org/bokeh/release/bokeh-widgets-0.13.0.min.css\");\n",
       "      Bokeh.embed.inject_css(\"https://cdn.pydata.org/bokeh/release/bokeh-widgets-0.13.0.min.css\");\n",
       "      console.log(\"Bokeh: injecting CSS: https://cdn.pydata.org/bokeh/release/bokeh-tables-0.13.0.min.css\");\n",
       "      Bokeh.embed.inject_css(\"https://cdn.pydata.org/bokeh/release/bokeh-tables-0.13.0.min.css\");\n",
       "    }\n",
       "  ];\n",
       "\n",
       "  function run_inline_js() {\n",
       "    \n",
       "    if ((root.Bokeh !== undefined) || (force === true)) {\n",
       "      for (var i = 0; i < inline_js.length; i++) {\n",
       "        inline_js[i].call(root, root.Bokeh);\n",
       "      }if (force === true) {\n",
       "        display_loaded();\n",
       "      }} else if (Date.now() < root._bokeh_timeout) {\n",
       "      setTimeout(run_inline_js, 100);\n",
       "    } else if (!root._bokeh_failed_load) {\n",
       "      console.log(\"Bokeh: BokehJS failed to load within specified timeout.\");\n",
       "      root._bokeh_failed_load = true;\n",
       "    } else if (force !== true) {\n",
       "      var cell = $(document.getElementById(\"7e396c0b-e8b3-4584-9233-6b5618417c36\")).parents('.cell').data().cell;\n",
       "      cell.output_area.append_execute_result(NB_LOAD_WARNING)\n",
       "    }\n",
       "\n",
       "  }\n",
       "\n",
       "  if (root._bokeh_is_loading === 0) {\n",
       "    console.log(\"Bokeh: BokehJS loaded, going straight to plotting\");\n",
       "    run_inline_js();\n",
       "  } else {\n",
       "    load_libs(js_urls, function() {\n",
       "      console.log(\"Bokeh: BokehJS plotting callback run at\", now());\n",
       "      run_inline_js();\n",
       "    });\n",
       "  }\n",
       "}(window));"
      ],
      "application/vnd.bokehjs_load.v0+json": "\n(function(root) {\n  function now() {\n    return new Date();\n  }\n\n  var force = true;\n\n  if (typeof (root._bokeh_onload_callbacks) === \"undefined\" || force === true) {\n    root._bokeh_onload_callbacks = [];\n    root._bokeh_is_loading = undefined;\n  }\n\n  \n\n  \n  if (typeof (root._bokeh_timeout) === \"undefined\" || force === true) {\n    root._bokeh_timeout = Date.now() + 5000;\n    root._bokeh_failed_load = false;\n  }\n\n  var NB_LOAD_WARNING = {'data': {'text/html':\n     \"<div style='background-color: #fdd'>\\n\"+\n     \"<p>\\n\"+\n     \"BokehJS does not appear to have successfully loaded. If loading BokehJS from CDN, this \\n\"+\n     \"may be due to a slow or bad network connection. Possible fixes:\\n\"+\n     \"</p>\\n\"+\n     \"<ul>\\n\"+\n     \"<li>re-rerun `output_notebook()` to attempt to load from CDN again, or</li>\\n\"+\n     \"<li>use INLINE resources instead, as so:</li>\\n\"+\n     \"</ul>\\n\"+\n     \"<code>\\n\"+\n     \"from bokeh.resources import INLINE\\n\"+\n     \"output_notebook(resources=INLINE)\\n\"+\n     \"</code>\\n\"+\n     \"</div>\"}};\n\n  function display_loaded() {\n    var el = document.getElementById(\"7e396c0b-e8b3-4584-9233-6b5618417c36\");\n    if (el != null) {\n      el.textContent = \"BokehJS is loading...\";\n    }\n    if (root.Bokeh !== undefined) {\n      if (el != null) {\n        el.textContent = \"BokehJS \" + root.Bokeh.version + \" successfully loaded.\";\n      }\n    } else if (Date.now() < root._bokeh_timeout) {\n      setTimeout(display_loaded, 100)\n    }\n  }\n\n\n  function run_callbacks() {\n    try {\n      root._bokeh_onload_callbacks.forEach(function(callback) { callback() });\n    }\n    finally {\n      delete root._bokeh_onload_callbacks\n    }\n    console.info(\"Bokeh: all callbacks have finished\");\n  }\n\n  function load_libs(js_urls, callback) {\n    root._bokeh_onload_callbacks.push(callback);\n    if (root._bokeh_is_loading > 0) {\n      console.log(\"Bokeh: BokehJS is being loaded, scheduling callback at\", now());\n      return null;\n    }\n    if (js_urls == null || js_urls.length === 0) {\n      run_callbacks();\n      return null;\n    }\n    console.log(\"Bokeh: BokehJS not loaded, scheduling load and callback at\", now());\n    root._bokeh_is_loading = js_urls.length;\n    for (var i = 0; i < js_urls.length; i++) {\n      var url = js_urls[i];\n      var s = document.createElement('script');\n      s.src = url;\n      s.async = false;\n      s.onreadystatechange = s.onload = function() {\n        root._bokeh_is_loading--;\n        if (root._bokeh_is_loading === 0) {\n          console.log(\"Bokeh: all BokehJS libraries loaded\");\n          run_callbacks()\n        }\n      };\n      s.onerror = function() {\n        console.warn(\"failed to load library \" + url);\n      };\n      console.log(\"Bokeh: injecting script tag for BokehJS library: \", url);\n      document.getElementsByTagName(\"head\")[0].appendChild(s);\n    }\n  };var element = document.getElementById(\"7e396c0b-e8b3-4584-9233-6b5618417c36\");\n  if (element == null) {\n    console.log(\"Bokeh: ERROR: autoload.js configured with elementid '7e396c0b-e8b3-4584-9233-6b5618417c36' but no matching script tag was found. \")\n    return false;\n  }\n\n  var js_urls = [\"https://cdn.pydata.org/bokeh/release/bokeh-0.13.0.min.js\", \"https://cdn.pydata.org/bokeh/release/bokeh-widgets-0.13.0.min.js\", \"https://cdn.pydata.org/bokeh/release/bokeh-tables-0.13.0.min.js\", \"https://cdn.pydata.org/bokeh/release/bokeh-gl-0.13.0.min.js\"];\n\n  var inline_js = [\n    function(Bokeh) {\n      Bokeh.set_log_level(\"info\");\n    },\n    \n    function(Bokeh) {\n      \n    },\n    function(Bokeh) {\n      console.log(\"Bokeh: injecting CSS: https://cdn.pydata.org/bokeh/release/bokeh-0.13.0.min.css\");\n      Bokeh.embed.inject_css(\"https://cdn.pydata.org/bokeh/release/bokeh-0.13.0.min.css\");\n      console.log(\"Bokeh: injecting CSS: https://cdn.pydata.org/bokeh/release/bokeh-widgets-0.13.0.min.css\");\n      Bokeh.embed.inject_css(\"https://cdn.pydata.org/bokeh/release/bokeh-widgets-0.13.0.min.css\");\n      console.log(\"Bokeh: injecting CSS: https://cdn.pydata.org/bokeh/release/bokeh-tables-0.13.0.min.css\");\n      Bokeh.embed.inject_css(\"https://cdn.pydata.org/bokeh/release/bokeh-tables-0.13.0.min.css\");\n    }\n  ];\n\n  function run_inline_js() {\n    \n    if ((root.Bokeh !== undefined) || (force === true)) {\n      for (var i = 0; i < inline_js.length; i++) {\n        inline_js[i].call(root, root.Bokeh);\n      }if (force === true) {\n        display_loaded();\n      }} else if (Date.now() < root._bokeh_timeout) {\n      setTimeout(run_inline_js, 100);\n    } else if (!root._bokeh_failed_load) {\n      console.log(\"Bokeh: BokehJS failed to load within specified timeout.\");\n      root._bokeh_failed_load = true;\n    } else if (force !== true) {\n      var cell = $(document.getElementById(\"7e396c0b-e8b3-4584-9233-6b5618417c36\")).parents('.cell').data().cell;\n      cell.output_area.append_execute_result(NB_LOAD_WARNING)\n    }\n\n  }\n\n  if (root._bokeh_is_loading === 0) {\n    console.log(\"Bokeh: BokehJS loaded, going straight to plotting\");\n    run_inline_js();\n  } else {\n    load_libs(js_urls, function() {\n      console.log(\"Bokeh: BokehJS plotting callback run at\", now());\n      run_inline_js();\n    });\n  }\n}(window));"
     },
     "metadata": {},
     "output_type": "display_data"
    }
   ],
   "source": [
    "# Example of optimization by bisection line search\n",
    "import math\n",
    "import bisect\n",
    "import numpy as np\n",
    "\n",
    "from bokeh.models import Band, ColumnDataSource\n",
    "from bokeh.plotting import figure, show\n",
    "from bokeh.io import output_notebook\n",
    "output_notebook()"
   ]
  },
  {
   "cell_type": "code",
   "execution_count": 176,
   "metadata": {
    "ExecuteTime": {
     "end_time": "2018-11-01T23:33:30.089973Z",
     "start_time": "2018-11-01T23:33:30.086473Z"
    }
   },
   "outputs": [],
   "source": [
    "# Initialization \n",
    "range_min, range_max = (-1,1)\n",
    "initial_guess = 0.5\n",
    "initial_step_size = 0.1\n",
    "epsilon = 1.0e-6\n",
    "\n",
    "# tuples of (x, f(x)) in order.\n",
    "search_grid = []"
   ]
  },
  {
   "cell_type": "code",
   "execution_count": 177,
   "metadata": {
    "ExecuteTime": {
     "end_time": "2018-11-01T23:54:51.503882Z",
     "start_time": "2018-11-01T23:54:51.499059Z"
    }
   },
   "outputs": [],
   "source": [
    "def f(x):\n",
    "    'Function over the range to minimize in one dim'\n",
    "    return 1.1*math.exp(x-0.2) + 0.8*math.exp(0.8 - x) + 2.1*np.random.random_sample()\n",
    "\n",
    "def add_f_to_grid(x):\n",
    "    'memoization of the points searched'\n",
    "    global search_grid\n",
    "    # Binary search would be better\n",
    "    found_k = [k for k in range(len(search_grid)) if abs(x-search_grid[k][0]) <= epsilon]\n",
    "    if found_k == []:\n",
    "        new_pt = (x, f(x))\n",
    "        bisect.insort_left(search_grid, new_pt)\n",
    "        return new_pt\n",
    "    else:\n",
    "        return search_grid[found_k[0]]\n",
    "    \n",
    "def init_grid(no_pts=3, shrinkage=3.0):\n",
    "    global search_grid\n",
    "    half_range = (range_max - range_min)/2\n",
    "    grid_x = np.linspace(range_min + half_range/shrinkage, range_max - half_range/shrinkage, no_pts)\n",
    "    search_grid = list(zip(grid_x, map(f, grid_x)))"
   ]
  },
  {
   "cell_type": "code",
   "execution_count": 178,
   "metadata": {},
   "outputs": [],
   "source": [
    "# Create some starting points. \n",
    "init_grid(5)"
   ]
  },
  {
   "cell_type": "code",
   "execution_count": 179,
   "metadata": {},
   "outputs": [
    {
     "data": {
      "text/plain": [
       "[(-0.6666666666666667, 4.50901752161131),\n",
       " (-0.33333333333333337, 4.523214535750286),\n",
       " (-0.3, 4.681335427635561),\n",
       " (-0.25789473684210523, 4.481196229265457),\n",
       " (-0.21578947368421053, 3.696613029749444),\n",
       " (-0.17368421052631577, 3.704303403021852),\n",
       " (-0.13157894736842105, 4.1190921264050475),\n",
       " (-0.08947368421052632, 2.814502884300033),\n",
       " (-0.04736842105263156, 2.9366640976140803),\n",
       " (-0.0052631578947368585, 3.451029858439506),\n",
       " (0.0, 3.2691774856241156),\n",
       " (0.0368421052631579, 3.5340767953663574),\n",
       " (0.07894736842105265, 3.1515650673237987),\n",
       " (0.12105263157894736, 4.57255144028973),\n",
       " (0.1631578947368421, 2.999505202549221),\n",
       " (0.20526315789473687, 4.302570036755283),\n",
       " (0.24736842105263163, 2.7943074532466508),\n",
       " (0.28947368421052627, 4.093019889026531),\n",
       " (0.33157894736842103, 3.553654027862362),\n",
       " (0.33333333333333326, 2.9082860603678045),\n",
       " (0.3736842105263158, 3.3180933039067573),\n",
       " (0.41578947368421054, 4.236860000966445),\n",
       " (0.4578947368421053, 4.607964643819162),\n",
       " (0.5, 3.5318683678427494),\n",
       " (0.6666666666666667, 2.8300279155159065)]"
      ]
     },
     "execution_count": 179,
     "metadata": {},
     "output_type": "execute_result"
    }
   ],
   "source": [
    "# Create another point\n",
    "for pt in np.linspace(-0.3, 0.5, 20):\n",
    "    add_f_to_grid(pt)\n",
    "search_grid"
   ]
  },
  {
   "cell_type": "code",
   "execution_count": 180,
   "metadata": {},
   "outputs": [],
   "source": [
    "def dm_sample(the_pt):\n",
    "    'From an x,y tuple build a design matrix row'\n",
    "    x = the_pt[0]\n",
    "    return (1, x, x*x)\n",
    "\n",
    "def points_design_matrix():\n",
    "    'The quadratic regression design matrix'\n",
    "    dm = np.empty((0,3),dtype='float')\n",
    "    for row in search_grid:\n",
    "        dm = np.vstack((dm, np.array(dm_sample(row), dtype='float')))\n",
    "    return dm\n",
    "\n",
    "# points_design_matrix()"
   ]
  },
  {
   "cell_type": "code",
   "execution_count": 181,
   "metadata": {},
   "outputs": [
    {
     "data": {
      "text/plain": [
       "(array([ 3.66041519, -0.84952298,  1.12815141]),\n",
       " array([8.48798602]),\n",
       " 3,\n",
       " array([5.04290425, 1.52499888, 0.59221449]))"
      ]
     },
     "execution_count": 181,
     "metadata": {},
     "output_type": "execute_result"
    }
   ],
   "source": [
    "X = points_design_matrix()\n",
    "y = [z[1] for z in search_grid]\n",
    "\n",
    "parabola_fit = np.linalg.lstsq(X,y, rcond=-1)\n",
    "parabola_fit"
   ]
  },
  {
   "cell_type": "code",
   "execution_count": 182,
   "metadata": {},
   "outputs": [],
   "source": [
    "def quadratic(pts, coeffs):\n",
    "    c = coeffs[0]\n",
    "    b = coeffs[1]\n",
    "    a = coeffs[2]\n",
    "    y = [a * x * x + b * x + c for x in pts]\n",
    "    # print(y, a, b, c)\n",
    "    return y\n",
    "\n",
    "x = [z[0] for z in search_grid]\n",
    "parabola_pts = (x, quadratic(x, parabola_fit[0]))\n",
    "# parabola_pts"
   ]
  },
  {
   "cell_type": "code",
   "execution_count": 183,
   "metadata": {
    "ExecuteTime": {
     "end_time": "2018-11-02T00:07:53.184576Z",
     "start_time": "2018-11-02T00:07:53.180246Z"
    }
   },
   "outputs": [],
   "source": [
    "def plot_search_grid(parabola_pts):\n",
    "    p = figure(plot_width = 600, plot_height = 600, \n",
    "           title = 'Current points',\n",
    "           x_axis_label = 'x', y_axis_label = 'f(x)')\n",
    "    pts = list(zip(*search_grid))\n",
    "    p.circle(pts[0], pts[1],  color = 'darkred', size=6)\n",
    "    # Add a parabola approx.\n",
    "    p.line(parabola_pts[0], parabola_pts[1], color = 'lightblue')\n",
    "    show(p)"
   ]
  },
  {
   "cell_type": "code",
   "execution_count": 184,
   "metadata": {
    "ExecuteTime": {
     "end_time": "2018-11-01T23:51:19.642471Z",
     "start_time": "2018-11-01T23:51:19.639154Z"
    }
   },
   "outputs": [],
   "source": [
    "def descent_direction(x, step=initial_step_size):\n",
    "    pass"
   ]
  },
  {
   "cell_type": "code",
   "execution_count": 185,
   "metadata": {
    "ExecuteTime": {
     "end_time": "2018-11-02T00:07:59.444460Z",
     "start_time": "2018-11-02T00:07:59.390434Z"
    }
   },
   "outputs": [
    {
     "data": {
      "text/html": [
       "\n",
       "\n",
       "\n",
       "\n",
       "\n",
       "\n",
       "  <div class=\"bk-root\" id=\"608b6741-e4ad-4246-abcc-249be2b2b57f\"></div>\n"
      ]
     },
     "metadata": {},
     "output_type": "display_data"
    },
    {
     "data": {
      "application/javascript": [
       "(function(root) {\n",
       "  function embed_document(root) {\n",
       "    \n",
       "  var docs_json = {\"664bcb42-28bd-4559-9d61-082369fd5095\":{\"roots\":{\"references\":[{\"attributes\":{},\"id\":\"c44c4507-4fbd-4991-9f69-669ff2960806\",\"type\":\"PanTool\"},{\"attributes\":{},\"id\":\"be2986d8-63c2-4b24-8689-15bfef1e85e5\",\"type\":\"Selection\"},{\"attributes\":{},\"id\":\"9b1925f5-4fd5-43ab-9282-2c5a1cc34dbc\",\"type\":\"UnionRenderers\"},{\"attributes\":{\"dimension\":1,\"plot\":{\"id\":\"6938db35-9649-49cc-a8a4-8a7131d44a28\",\"subtype\":\"Figure\",\"type\":\"Plot\"},\"ticker\":{\"id\":\"56bf5aab-1888-48f1-9941-623ab154409c\",\"type\":\"BasicTicker\"}},\"id\":\"02a998f3-f694-48d6-857a-a1dc8e7dd557\",\"type\":\"Grid\"},{\"attributes\":{\"callback\":null,\"data\":{\"x\":[-0.6666666666666667,-0.33333333333333337,-0.3,-0.25789473684210523,-0.21578947368421053,-0.17368421052631577,-0.13157894736842105,-0.08947368421052632,-0.04736842105263156,-0.0052631578947368585,0.0,0.0368421052631579,0.07894736842105265,0.12105263157894736,0.1631578947368421,0.20526315789473687,0.24736842105263163,0.28947368421052627,0.33157894736842103,0.33333333333333326,0.3736842105263158,0.41578947368421054,0.4578947368421053,0.5,0.6666666666666667],\"y\":[4.72816447387719,4.068939675608087,4.016805713041758,3.9545357038703184,3.8962657883488885,3.841995966477469,3.7917262382560595,3.74545660368466,3.7031870627632704,3.6649176154918908,3.6604151911677345,3.630648261870521,3.6003790018991615,3.574109835577812,3.551840762906472,3.5335717838851424,3.5193028985138226,3.509034106792513,3.502765408721213,3.502591020556133,3.5004968042999236,3.5022282935286437,3.507959876407374,3.517691552936114,3.5954671637732827]},\"selected\":{\"id\":\"8955eccb-263b-430e-a25b-ab58ae2cb313\",\"type\":\"Selection\"},\"selection_policy\":{\"id\":\"358b2d92-eb6a-4fc8-a962-f1c466381952\",\"type\":\"UnionRenderers\"}},\"id\":\"9d13bde7-45d8-407e-96de-92a1e41fb62d\",\"type\":\"ColumnDataSource\"},{\"attributes\":{\"below\":[{\"id\":\"e30c19aa-b930-4e61-9ea7-7de6437d27b9\",\"type\":\"LinearAxis\"}],\"left\":[{\"id\":\"ec7e3734-37b8-4eb2-a1f7-ed412e48a1dd\",\"type\":\"LinearAxis\"}],\"renderers\":[{\"id\":\"e30c19aa-b930-4e61-9ea7-7de6437d27b9\",\"type\":\"LinearAxis\"},{\"id\":\"7c96527b-8664-4d17-b43e-6bd2ee5cb7a9\",\"type\":\"Grid\"},{\"id\":\"ec7e3734-37b8-4eb2-a1f7-ed412e48a1dd\",\"type\":\"LinearAxis\"},{\"id\":\"02a998f3-f694-48d6-857a-a1dc8e7dd557\",\"type\":\"Grid\"},{\"id\":\"5cd7fd39-da61-4507-b6b8-49584f3bd563\",\"type\":\"BoxAnnotation\"},{\"id\":\"4a660d52-7e40-42a9-b1c9-12e13157fa48\",\"type\":\"GlyphRenderer\"},{\"id\":\"c82f2717-ff4d-4db5-aa93-2f63544b1123\",\"type\":\"GlyphRenderer\"}],\"title\":{\"id\":\"76807f0e-9bde-449e-8f92-29430fb008dd\",\"type\":\"Title\"},\"toolbar\":{\"id\":\"f664fd7c-d4d8-4f83-af6f-cc9fc213ac76\",\"type\":\"Toolbar\"},\"x_range\":{\"id\":\"d1e1256d-a031-458d-a1f1-08e4039e0637\",\"type\":\"DataRange1d\"},\"x_scale\":{\"id\":\"31891f05-0e57-4933-ae81-bd210ae3e187\",\"type\":\"LinearScale\"},\"y_range\":{\"id\":\"a8988b49-45d7-40cf-ad5d-1403be1d9ed4\",\"type\":\"DataRange1d\"},\"y_scale\":{\"id\":\"c314de25-4399-4903-9d77-9b1d0336ce08\",\"type\":\"LinearScale\"}},\"id\":\"6938db35-9649-49cc-a8a4-8a7131d44a28\",\"subtype\":\"Figure\",\"type\":\"Plot\"},{\"attributes\":{\"callback\":null,\"data\":{\"x\":[-0.6666666666666667,-0.33333333333333337,-0.3,-0.25789473684210523,-0.21578947368421053,-0.17368421052631577,-0.13157894736842105,-0.08947368421052632,-0.04736842105263156,-0.0052631578947368585,0.0,0.0368421052631579,0.07894736842105265,0.12105263157894736,0.1631578947368421,0.20526315789473687,0.24736842105263163,0.28947368421052627,0.33157894736842103,0.33333333333333326,0.3736842105263158,0.41578947368421054,0.4578947368421053,0.5,0.6666666666666667],\"y\":[4.50901752161131,4.523214535750286,4.681335427635561,4.481196229265457,3.696613029749444,3.704303403021852,4.1190921264050475,2.814502884300033,2.9366640976140803,3.451029858439506,3.2691774856241156,3.5340767953663574,3.1515650673237987,4.57255144028973,2.999505202549221,4.302570036755283,2.7943074532466508,4.093019889026531,3.553654027862362,2.9082860603678045,3.3180933039067573,4.236860000966445,4.607964643819162,3.5318683678427494,2.8300279155159065]},\"selected\":{\"id\":\"be2986d8-63c2-4b24-8689-15bfef1e85e5\",\"type\":\"Selection\"},\"selection_policy\":{\"id\":\"9b1925f5-4fd5-43ab-9282-2c5a1cc34dbc\",\"type\":\"UnionRenderers\"}},\"id\":\"365fa52c-7f12-4d34-af2d-bf704d7b66f4\",\"type\":\"ColumnDataSource\"},{\"attributes\":{\"data_source\":{\"id\":\"365fa52c-7f12-4d34-af2d-bf704d7b66f4\",\"type\":\"ColumnDataSource\"},\"glyph\":{\"id\":\"1a2fb3d9-2bc5-45f2-af1d-d1384c9e00dc\",\"type\":\"Circle\"},\"hover_glyph\":null,\"muted_glyph\":null,\"nonselection_glyph\":{\"id\":\"b0f3ed42-612f-4831-8731-1b4ef25dd7cd\",\"type\":\"Circle\"},\"selection_glyph\":null,\"view\":{\"id\":\"2e781eb6-cb69-46e4-9f4e-ff51a3dbbfc0\",\"type\":\"CDSView\"}},\"id\":\"4a660d52-7e40-42a9-b1c9-12e13157fa48\",\"type\":\"GlyphRenderer\"},{\"attributes\":{},\"id\":\"87190b19-3cfd-4f0b-9dda-2592b12607e7\",\"type\":\"BasicTicker\"},{\"attributes\":{\"source\":{\"id\":\"9d13bde7-45d8-407e-96de-92a1e41fb62d\",\"type\":\"ColumnDataSource\"}},\"id\":\"dd792484-3dc6-4285-9276-6e924c3fc2a1\",\"type\":\"CDSView\"},{\"attributes\":{\"data_source\":{\"id\":\"9d13bde7-45d8-407e-96de-92a1e41fb62d\",\"type\":\"ColumnDataSource\"},\"glyph\":{\"id\":\"cdd3c8f2-9e7c-4c7c-bc16-9a19e5e6b24f\",\"type\":\"Line\"},\"hover_glyph\":null,\"muted_glyph\":null,\"nonselection_glyph\":{\"id\":\"fae68a04-f73f-4256-a4ec-405a4ee5d918\",\"type\":\"Line\"},\"selection_glyph\":null,\"view\":{\"id\":\"dd792484-3dc6-4285-9276-6e924c3fc2a1\",\"type\":\"CDSView\"}},\"id\":\"c82f2717-ff4d-4db5-aa93-2f63544b1123\",\"type\":\"GlyphRenderer\"},{\"attributes\":{},\"id\":\"31891f05-0e57-4933-ae81-bd210ae3e187\",\"type\":\"LinearScale\"},{\"attributes\":{\"overlay\":{\"id\":\"5cd7fd39-da61-4507-b6b8-49584f3bd563\",\"type\":\"BoxAnnotation\"}},\"id\":\"24441beb-2973-4579-9a3c-f2ca999fa4a1\",\"type\":\"BoxZoomTool\"},{\"attributes\":{\"callback\":null},\"id\":\"d1e1256d-a031-458d-a1f1-08e4039e0637\",\"type\":\"DataRange1d\"},{\"attributes\":{},\"id\":\"c314de25-4399-4903-9d77-9b1d0336ce08\",\"type\":\"LinearScale\"},{\"attributes\":{},\"id\":\"27838663-5b60-40a8-9a34-27fb22fa009b\",\"type\":\"ResetTool\"},{\"attributes\":{},\"id\":\"05d872ea-46e4-483f-a0bd-c3fc0c4b4c49\",\"type\":\"WheelZoomTool\"},{\"attributes\":{},\"id\":\"f0063fde-7adc-4f2e-8aad-79867471aca8\",\"type\":\"BasicTickFormatter\"},{\"attributes\":{\"axis_label\":\"f(x)\",\"formatter\":{\"id\":\"0f32658d-5ae6-427d-8a2d-532654d57c24\",\"type\":\"BasicTickFormatter\"},\"plot\":{\"id\":\"6938db35-9649-49cc-a8a4-8a7131d44a28\",\"subtype\":\"Figure\",\"type\":\"Plot\"},\"ticker\":{\"id\":\"56bf5aab-1888-48f1-9941-623ab154409c\",\"type\":\"BasicTicker\"}},\"id\":\"ec7e3734-37b8-4eb2-a1f7-ed412e48a1dd\",\"type\":\"LinearAxis\"},{\"attributes\":{\"line_alpha\":0.1,\"line_color\":\"#1f77b4\",\"x\":{\"field\":\"x\"},\"y\":{\"field\":\"y\"}},\"id\":\"fae68a04-f73f-4256-a4ec-405a4ee5d918\",\"type\":\"Line\"},{\"attributes\":{\"plot\":null,\"text\":\"Current points\"},\"id\":\"76807f0e-9bde-449e-8f92-29430fb008dd\",\"type\":\"Title\"},{\"attributes\":{\"fill_alpha\":{\"value\":0.1},\"fill_color\":{\"value\":\"#1f77b4\"},\"line_alpha\":{\"value\":0.1},\"line_color\":{\"value\":\"#1f77b4\"},\"size\":{\"units\":\"screen\",\"value\":6},\"x\":{\"field\":\"x\"},\"y\":{\"field\":\"y\"}},\"id\":\"b0f3ed42-612f-4831-8731-1b4ef25dd7cd\",\"type\":\"Circle\"},{\"attributes\":{\"callback\":null},\"id\":\"a8988b49-45d7-40cf-ad5d-1403be1d9ed4\",\"type\":\"DataRange1d\"},{\"attributes\":{\"source\":{\"id\":\"365fa52c-7f12-4d34-af2d-bf704d7b66f4\",\"type\":\"ColumnDataSource\"}},\"id\":\"2e781eb6-cb69-46e4-9f4e-ff51a3dbbfc0\",\"type\":\"CDSView\"},{\"attributes\":{},\"id\":\"0f32658d-5ae6-427d-8a2d-532654d57c24\",\"type\":\"BasicTickFormatter\"},{\"attributes\":{},\"id\":\"358b2d92-eb6a-4fc8-a962-f1c466381952\",\"type\":\"UnionRenderers\"},{\"attributes\":{\"active_drag\":\"auto\",\"active_inspect\":\"auto\",\"active_multi\":null,\"active_scroll\":\"auto\",\"active_tap\":\"auto\",\"tools\":[{\"id\":\"c44c4507-4fbd-4991-9f69-669ff2960806\",\"type\":\"PanTool\"},{\"id\":\"05d872ea-46e4-483f-a0bd-c3fc0c4b4c49\",\"type\":\"WheelZoomTool\"},{\"id\":\"24441beb-2973-4579-9a3c-f2ca999fa4a1\",\"type\":\"BoxZoomTool\"},{\"id\":\"52adf24e-cc3b-4a41-a7ef-f96bfd0f1aaa\",\"type\":\"SaveTool\"},{\"id\":\"27838663-5b60-40a8-9a34-27fb22fa009b\",\"type\":\"ResetTool\"},{\"id\":\"69c52fa9-8932-44a2-99dc-32340d5001f6\",\"type\":\"HelpTool\"}]},\"id\":\"f664fd7c-d4d8-4f83-af6f-cc9fc213ac76\",\"type\":\"Toolbar\"},{\"attributes\":{\"axis_label\":\"x\",\"formatter\":{\"id\":\"f0063fde-7adc-4f2e-8aad-79867471aca8\",\"type\":\"BasicTickFormatter\"},\"plot\":{\"id\":\"6938db35-9649-49cc-a8a4-8a7131d44a28\",\"subtype\":\"Figure\",\"type\":\"Plot\"},\"ticker\":{\"id\":\"87190b19-3cfd-4f0b-9dda-2592b12607e7\",\"type\":\"BasicTicker\"}},\"id\":\"e30c19aa-b930-4e61-9ea7-7de6437d27b9\",\"type\":\"LinearAxis\"},{\"attributes\":{\"fill_color\":{\"value\":\"darkred\"},\"line_color\":{\"value\":\"darkred\"},\"size\":{\"units\":\"screen\",\"value\":6},\"x\":{\"field\":\"x\"},\"y\":{\"field\":\"y\"}},\"id\":\"1a2fb3d9-2bc5-45f2-af1d-d1384c9e00dc\",\"type\":\"Circle\"},{\"attributes\":{\"line_color\":\"lightblue\",\"x\":{\"field\":\"x\"},\"y\":{\"field\":\"y\"}},\"id\":\"cdd3c8f2-9e7c-4c7c-bc16-9a19e5e6b24f\",\"type\":\"Line\"},{\"attributes\":{},\"id\":\"56bf5aab-1888-48f1-9941-623ab154409c\",\"type\":\"BasicTicker\"},{\"attributes\":{\"plot\":{\"id\":\"6938db35-9649-49cc-a8a4-8a7131d44a28\",\"subtype\":\"Figure\",\"type\":\"Plot\"},\"ticker\":{\"id\":\"87190b19-3cfd-4f0b-9dda-2592b12607e7\",\"type\":\"BasicTicker\"}},\"id\":\"7c96527b-8664-4d17-b43e-6bd2ee5cb7a9\",\"type\":\"Grid\"},{\"attributes\":{\"bottom_units\":\"screen\",\"fill_alpha\":{\"value\":0.5},\"fill_color\":{\"value\":\"lightgrey\"},\"left_units\":\"screen\",\"level\":\"overlay\",\"line_alpha\":{\"value\":1.0},\"line_color\":{\"value\":\"black\"},\"line_dash\":[4,4],\"line_width\":{\"value\":2},\"plot\":null,\"render_mode\":\"css\",\"right_units\":\"screen\",\"top_units\":\"screen\"},\"id\":\"5cd7fd39-da61-4507-b6b8-49584f3bd563\",\"type\":\"BoxAnnotation\"},{\"attributes\":{},\"id\":\"8955eccb-263b-430e-a25b-ab58ae2cb313\",\"type\":\"Selection\"},{\"attributes\":{},\"id\":\"69c52fa9-8932-44a2-99dc-32340d5001f6\",\"type\":\"HelpTool\"},{\"attributes\":{},\"id\":\"52adf24e-cc3b-4a41-a7ef-f96bfd0f1aaa\",\"type\":\"SaveTool\"}],\"root_ids\":[\"6938db35-9649-49cc-a8a4-8a7131d44a28\"]},\"title\":\"Bokeh Application\",\"version\":\"0.13.0\"}};\n",
       "  var render_items = [{\"docid\":\"664bcb42-28bd-4559-9d61-082369fd5095\",\"roots\":{\"6938db35-9649-49cc-a8a4-8a7131d44a28\":\"608b6741-e4ad-4246-abcc-249be2b2b57f\"}}];\n",
       "  root.Bokeh.embed.embed_items_notebook(docs_json, render_items);\n",
       "\n",
       "  }\n",
       "  if (root.Bokeh !== undefined) {\n",
       "    embed_document(root);\n",
       "  } else {\n",
       "    var attempts = 0;\n",
       "    var timer = setInterval(function(root) {\n",
       "      if (root.Bokeh !== undefined) {\n",
       "        embed_document(root);\n",
       "        clearInterval(timer);\n",
       "      }\n",
       "      attempts++;\n",
       "      if (attempts > 100) {\n",
       "        console.log(\"Bokeh: ERROR: Unable to run BokehJS code because BokehJS library is missing\")\n",
       "        clearInterval(timer);\n",
       "      }\n",
       "    }, 10, root)\n",
       "  }\n",
       "})(window);"
      ],
      "application/vnd.bokehjs_exec.v0+json": ""
     },
     "metadata": {
      "application/vnd.bokehjs_exec.v0+json": {
       "id": "6938db35-9649-49cc-a8a4-8a7131d44a28"
      }
     },
     "output_type": "display_data"
    }
   ],
   "source": [
    "# search_grid = [(x, f(x)) for x in np.linspace(range_min, range_max, 80)]\n",
    "plot_search_grid(parabola_pts)"
   ]
  }
 ],
 "metadata": {
  "kernelspec": {
   "display_name": "py35",
   "language": "python",
   "name": "py35"
  },
  "language_info": {
   "codemirror_mode": {
    "name": "ipython",
    "version": 3
   },
   "file_extension": ".py",
   "mimetype": "text/x-python",
   "name": "python",
   "nbconvert_exporter": "python",
   "pygments_lexer": "ipython3",
   "version": "3.5.2"
  }
 },
 "nbformat": 4,
 "nbformat_minor": 2
}
