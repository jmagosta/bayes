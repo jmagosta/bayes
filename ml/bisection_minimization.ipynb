{
 "cells": [
  {
   "cell_type": "markdown",
   "metadata": {},
   "source": [
    "# One dimensional line search via estimation\n",
    "\n",
    "A robust optimization technique that assumes the function to be optimized is continuous, but not differentiable, and noisy. The function is approximated by a parabola over the set of points that have been computed, assuming that the function is convex withn the range of points"
   ]
  },
  {
   "cell_type": "markdown",
   "metadata": {},
   "source": [
    "Since JavaScript output is disabled in JupyterLab you will either need to run this in Jupyter notebooks (JupyterHub) to get plots, or check out the JupyterLab extensions at https://github.com/bokeh/jupyterlab_bokeh\n"
   ]
  },
  {
   "cell_type": "code",
   "execution_count": 369,
   "metadata": {
    "ExecuteTime": {
     "end_time": "2018-11-01T23:56:51.427503Z",
     "start_time": "2018-11-01T23:56:50.414472Z"
    }
   },
   "outputs": [
    {
     "data": {
      "text/html": [
       "\n",
       "    <div class=\"bk-root\">\n",
       "        <a href=\"https://bokeh.pydata.org\" target=\"_blank\" class=\"bk-logo bk-logo-small bk-logo-notebook\"></a>\n",
       "        <span id=\"05892fd6-ebe8-4e29-b224-8e0f72f8a575\">Loading BokehJS ...</span>\n",
       "    </div>"
      ]
     },
     "metadata": {},
     "output_type": "display_data"
    },
    {
     "data": {
      "application/javascript": [
       "\n",
       "(function(root) {\n",
       "  function now() {\n",
       "    return new Date();\n",
       "  }\n",
       "\n",
       "  var force = true;\n",
       "\n",
       "  if (typeof (root._bokeh_onload_callbacks) === \"undefined\" || force === true) {\n",
       "    root._bokeh_onload_callbacks = [];\n",
       "    root._bokeh_is_loading = undefined;\n",
       "  }\n",
       "\n",
       "  var JS_MIME_TYPE = 'application/javascript';\n",
       "  var HTML_MIME_TYPE = 'text/html';\n",
       "  var EXEC_MIME_TYPE = 'application/vnd.bokehjs_exec.v0+json';\n",
       "  var CLASS_NAME = 'output_bokeh rendered_html';\n",
       "\n",
       "  /**\n",
       "   * Render data to the DOM node\n",
       "   */\n",
       "  function render(props, node) {\n",
       "    var script = document.createElement(\"script\");\n",
       "    node.appendChild(script);\n",
       "  }\n",
       "\n",
       "  /**\n",
       "   * Handle when an output is cleared or removed\n",
       "   */\n",
       "  function handleClearOutput(event, handle) {\n",
       "    var cell = handle.cell;\n",
       "\n",
       "    var id = cell.output_area._bokeh_element_id;\n",
       "    var server_id = cell.output_area._bokeh_server_id;\n",
       "    // Clean up Bokeh references\n",
       "    if (id !== undefined) {\n",
       "      Bokeh.index[id].model.document.clear();\n",
       "      delete Bokeh.index[id];\n",
       "    }\n",
       "\n",
       "    if (server_id !== undefined) {\n",
       "      // Clean up Bokeh references\n",
       "      var cmd = \"from bokeh.io.state import curstate; print(curstate().uuid_to_server['\" + server_id + \"'].get_sessions()[0].document.roots[0]._id)\";\n",
       "      cell.notebook.kernel.execute(cmd, {\n",
       "        iopub: {\n",
       "          output: function(msg) {\n",
       "            var element_id = msg.content.text.trim();\n",
       "            Bokeh.index[element_id].model.document.clear();\n",
       "            delete Bokeh.index[element_id];\n",
       "          }\n",
       "        }\n",
       "      });\n",
       "      // Destroy server and session\n",
       "      var cmd = \"import bokeh.io.notebook as ion; ion.destroy_server('\" + server_id + \"')\";\n",
       "      cell.notebook.kernel.execute(cmd);\n",
       "    }\n",
       "  }\n",
       "\n",
       "  /**\n",
       "   * Handle when a new output is added\n",
       "   */\n",
       "  function handleAddOutput(event, handle) {\n",
       "    var output_area = handle.output_area;\n",
       "    var output = handle.output;\n",
       "\n",
       "    // limit handleAddOutput to display_data with EXEC_MIME_TYPE content only\n",
       "    if ((output.output_type != \"display_data\") || (!output.data.hasOwnProperty(EXEC_MIME_TYPE))) {\n",
       "      return\n",
       "    }\n",
       "\n",
       "    var toinsert = output_area.element.find(\".\" + CLASS_NAME.split(' ')[0]);\n",
       "\n",
       "    if (output.metadata[EXEC_MIME_TYPE][\"id\"] !== undefined) {\n",
       "      toinsert[0].firstChild.textContent = output.data[JS_MIME_TYPE];\n",
       "      // store reference to embed id on output_area\n",
       "      output_area._bokeh_element_id = output.metadata[EXEC_MIME_TYPE][\"id\"];\n",
       "    }\n",
       "    if (output.metadata[EXEC_MIME_TYPE][\"server_id\"] !== undefined) {\n",
       "      var bk_div = document.createElement(\"div\");\n",
       "      bk_div.innerHTML = output.data[HTML_MIME_TYPE];\n",
       "      var script_attrs = bk_div.children[0].attributes;\n",
       "      for (var i = 0; i < script_attrs.length; i++) {\n",
       "        toinsert[0].firstChild.setAttribute(script_attrs[i].name, script_attrs[i].value);\n",
       "      }\n",
       "      // store reference to server id on output_area\n",
       "      output_area._bokeh_server_id = output.metadata[EXEC_MIME_TYPE][\"server_id\"];\n",
       "    }\n",
       "  }\n",
       "\n",
       "  function register_renderer(events, OutputArea) {\n",
       "\n",
       "    function append_mime(data, metadata, element) {\n",
       "      // create a DOM node to render to\n",
       "      var toinsert = this.create_output_subarea(\n",
       "        metadata,\n",
       "        CLASS_NAME,\n",
       "        EXEC_MIME_TYPE\n",
       "      );\n",
       "      this.keyboard_manager.register_events(toinsert);\n",
       "      // Render to node\n",
       "      var props = {data: data, metadata: metadata[EXEC_MIME_TYPE]};\n",
       "      render(props, toinsert[0]);\n",
       "      element.append(toinsert);\n",
       "      return toinsert\n",
       "    }\n",
       "\n",
       "    /* Handle when an output is cleared or removed */\n",
       "    events.on('clear_output.CodeCell', handleClearOutput);\n",
       "    events.on('delete.Cell', handleClearOutput);\n",
       "\n",
       "    /* Handle when a new output is added */\n",
       "    events.on('output_added.OutputArea', handleAddOutput);\n",
       "\n",
       "    /**\n",
       "     * Register the mime type and append_mime function with output_area\n",
       "     */\n",
       "    OutputArea.prototype.register_mime_type(EXEC_MIME_TYPE, append_mime, {\n",
       "      /* Is output safe? */\n",
       "      safe: true,\n",
       "      /* Index of renderer in `output_area.display_order` */\n",
       "      index: 0\n",
       "    });\n",
       "  }\n",
       "\n",
       "  // register the mime type if in Jupyter Notebook environment and previously unregistered\n",
       "  if (root.Jupyter !== undefined) {\n",
       "    var events = require('base/js/events');\n",
       "    var OutputArea = require('notebook/js/outputarea').OutputArea;\n",
       "\n",
       "    if (OutputArea.prototype.mime_types().indexOf(EXEC_MIME_TYPE) == -1) {\n",
       "      register_renderer(events, OutputArea);\n",
       "    }\n",
       "  }\n",
       "\n",
       "  \n",
       "  if (typeof (root._bokeh_timeout) === \"undefined\" || force === true) {\n",
       "    root._bokeh_timeout = Date.now() + 5000;\n",
       "    root._bokeh_failed_load = false;\n",
       "  }\n",
       "\n",
       "  var NB_LOAD_WARNING = {'data': {'text/html':\n",
       "     \"<div style='background-color: #fdd'>\\n\"+\n",
       "     \"<p>\\n\"+\n",
       "     \"BokehJS does not appear to have successfully loaded. If loading BokehJS from CDN, this \\n\"+\n",
       "     \"may be due to a slow or bad network connection. Possible fixes:\\n\"+\n",
       "     \"</p>\\n\"+\n",
       "     \"<ul>\\n\"+\n",
       "     \"<li>re-rerun `output_notebook()` to attempt to load from CDN again, or</li>\\n\"+\n",
       "     \"<li>use INLINE resources instead, as so:</li>\\n\"+\n",
       "     \"</ul>\\n\"+\n",
       "     \"<code>\\n\"+\n",
       "     \"from bokeh.resources import INLINE\\n\"+\n",
       "     \"output_notebook(resources=INLINE)\\n\"+\n",
       "     \"</code>\\n\"+\n",
       "     \"</div>\"}};\n",
       "\n",
       "  function display_loaded() {\n",
       "    var el = document.getElementById(\"05892fd6-ebe8-4e29-b224-8e0f72f8a575\");\n",
       "    if (el != null) {\n",
       "      el.textContent = \"BokehJS is loading...\";\n",
       "    }\n",
       "    if (root.Bokeh !== undefined) {\n",
       "      if (el != null) {\n",
       "        el.textContent = \"BokehJS \" + root.Bokeh.version + \" successfully loaded.\";\n",
       "      }\n",
       "    } else if (Date.now() < root._bokeh_timeout) {\n",
       "      setTimeout(display_loaded, 100)\n",
       "    }\n",
       "  }\n",
       "\n",
       "\n",
       "  function run_callbacks() {\n",
       "    try {\n",
       "      root._bokeh_onload_callbacks.forEach(function(callback) { callback() });\n",
       "    }\n",
       "    finally {\n",
       "      delete root._bokeh_onload_callbacks\n",
       "    }\n",
       "    console.info(\"Bokeh: all callbacks have finished\");\n",
       "  }\n",
       "\n",
       "  function load_libs(js_urls, callback) {\n",
       "    root._bokeh_onload_callbacks.push(callback);\n",
       "    if (root._bokeh_is_loading > 0) {\n",
       "      console.log(\"Bokeh: BokehJS is being loaded, scheduling callback at\", now());\n",
       "      return null;\n",
       "    }\n",
       "    if (js_urls == null || js_urls.length === 0) {\n",
       "      run_callbacks();\n",
       "      return null;\n",
       "    }\n",
       "    console.log(\"Bokeh: BokehJS not loaded, scheduling load and callback at\", now());\n",
       "    root._bokeh_is_loading = js_urls.length;\n",
       "    for (var i = 0; i < js_urls.length; i++) {\n",
       "      var url = js_urls[i];\n",
       "      var s = document.createElement('script');\n",
       "      s.src = url;\n",
       "      s.async = false;\n",
       "      s.onreadystatechange = s.onload = function() {\n",
       "        root._bokeh_is_loading--;\n",
       "        if (root._bokeh_is_loading === 0) {\n",
       "          console.log(\"Bokeh: all BokehJS libraries loaded\");\n",
       "          run_callbacks()\n",
       "        }\n",
       "      };\n",
       "      s.onerror = function() {\n",
       "        console.warn(\"failed to load library \" + url);\n",
       "      };\n",
       "      console.log(\"Bokeh: injecting script tag for BokehJS library: \", url);\n",
       "      document.getElementsByTagName(\"head\")[0].appendChild(s);\n",
       "    }\n",
       "  };var element = document.getElementById(\"05892fd6-ebe8-4e29-b224-8e0f72f8a575\");\n",
       "  if (element == null) {\n",
       "    console.log(\"Bokeh: ERROR: autoload.js configured with elementid '05892fd6-ebe8-4e29-b224-8e0f72f8a575' but no matching script tag was found. \")\n",
       "    return false;\n",
       "  }\n",
       "\n",
       "  var js_urls = [\"https://cdn.pydata.org/bokeh/release/bokeh-0.12.13.min.js\", \"https://cdn.pydata.org/bokeh/release/bokeh-widgets-0.12.13.min.js\", \"https://cdn.pydata.org/bokeh/release/bokeh-tables-0.12.13.min.js\", \"https://cdn.pydata.org/bokeh/release/bokeh-gl-0.12.13.min.js\"];\n",
       "\n",
       "  var inline_js = [\n",
       "    function(Bokeh) {\n",
       "      Bokeh.set_log_level(\"info\");\n",
       "    },\n",
       "    \n",
       "    function(Bokeh) {\n",
       "      \n",
       "    },\n",
       "    function(Bokeh) {\n",
       "      console.log(\"Bokeh: injecting CSS: https://cdn.pydata.org/bokeh/release/bokeh-0.12.13.min.css\");\n",
       "      Bokeh.embed.inject_css(\"https://cdn.pydata.org/bokeh/release/bokeh-0.12.13.min.css\");\n",
       "      console.log(\"Bokeh: injecting CSS: https://cdn.pydata.org/bokeh/release/bokeh-widgets-0.12.13.min.css\");\n",
       "      Bokeh.embed.inject_css(\"https://cdn.pydata.org/bokeh/release/bokeh-widgets-0.12.13.min.css\");\n",
       "      console.log(\"Bokeh: injecting CSS: https://cdn.pydata.org/bokeh/release/bokeh-tables-0.12.13.min.css\");\n",
       "      Bokeh.embed.inject_css(\"https://cdn.pydata.org/bokeh/release/bokeh-tables-0.12.13.min.css\");\n",
       "    }\n",
       "  ];\n",
       "\n",
       "  function run_inline_js() {\n",
       "    \n",
       "    if ((root.Bokeh !== undefined) || (force === true)) {\n",
       "      for (var i = 0; i < inline_js.length; i++) {\n",
       "        inline_js[i].call(root, root.Bokeh);\n",
       "      }if (force === true) {\n",
       "        display_loaded();\n",
       "      }} else if (Date.now() < root._bokeh_timeout) {\n",
       "      setTimeout(run_inline_js, 100);\n",
       "    } else if (!root._bokeh_failed_load) {\n",
       "      console.log(\"Bokeh: BokehJS failed to load within specified timeout.\");\n",
       "      root._bokeh_failed_load = true;\n",
       "    } else if (force !== true) {\n",
       "      var cell = $(document.getElementById(\"05892fd6-ebe8-4e29-b224-8e0f72f8a575\")).parents('.cell').data().cell;\n",
       "      cell.output_area.append_execute_result(NB_LOAD_WARNING)\n",
       "    }\n",
       "\n",
       "  }\n",
       "\n",
       "  if (root._bokeh_is_loading === 0) {\n",
       "    console.log(\"Bokeh: BokehJS loaded, going straight to plotting\");\n",
       "    run_inline_js();\n",
       "  } else {\n",
       "    load_libs(js_urls, function() {\n",
       "      console.log(\"Bokeh: BokehJS plotting callback run at\", now());\n",
       "      run_inline_js();\n",
       "    });\n",
       "  }\n",
       "}(window));"
      ],
      "application/vnd.bokehjs_load.v0+json": "\n(function(root) {\n  function now() {\n    return new Date();\n  }\n\n  var force = true;\n\n  if (typeof (root._bokeh_onload_callbacks) === \"undefined\" || force === true) {\n    root._bokeh_onload_callbacks = [];\n    root._bokeh_is_loading = undefined;\n  }\n\n  \n\n  \n  if (typeof (root._bokeh_timeout) === \"undefined\" || force === true) {\n    root._bokeh_timeout = Date.now() + 5000;\n    root._bokeh_failed_load = false;\n  }\n\n  var NB_LOAD_WARNING = {'data': {'text/html':\n     \"<div style='background-color: #fdd'>\\n\"+\n     \"<p>\\n\"+\n     \"BokehJS does not appear to have successfully loaded. If loading BokehJS from CDN, this \\n\"+\n     \"may be due to a slow or bad network connection. Possible fixes:\\n\"+\n     \"</p>\\n\"+\n     \"<ul>\\n\"+\n     \"<li>re-rerun `output_notebook()` to attempt to load from CDN again, or</li>\\n\"+\n     \"<li>use INLINE resources instead, as so:</li>\\n\"+\n     \"</ul>\\n\"+\n     \"<code>\\n\"+\n     \"from bokeh.resources import INLINE\\n\"+\n     \"output_notebook(resources=INLINE)\\n\"+\n     \"</code>\\n\"+\n     \"</div>\"}};\n\n  function display_loaded() {\n    var el = document.getElementById(\"05892fd6-ebe8-4e29-b224-8e0f72f8a575\");\n    if (el != null) {\n      el.textContent = \"BokehJS is loading...\";\n    }\n    if (root.Bokeh !== undefined) {\n      if (el != null) {\n        el.textContent = \"BokehJS \" + root.Bokeh.version + \" successfully loaded.\";\n      }\n    } else if (Date.now() < root._bokeh_timeout) {\n      setTimeout(display_loaded, 100)\n    }\n  }\n\n\n  function run_callbacks() {\n    try {\n      root._bokeh_onload_callbacks.forEach(function(callback) { callback() });\n    }\n    finally {\n      delete root._bokeh_onload_callbacks\n    }\n    console.info(\"Bokeh: all callbacks have finished\");\n  }\n\n  function load_libs(js_urls, callback) {\n    root._bokeh_onload_callbacks.push(callback);\n    if (root._bokeh_is_loading > 0) {\n      console.log(\"Bokeh: BokehJS is being loaded, scheduling callback at\", now());\n      return null;\n    }\n    if (js_urls == null || js_urls.length === 0) {\n      run_callbacks();\n      return null;\n    }\n    console.log(\"Bokeh: BokehJS not loaded, scheduling load and callback at\", now());\n    root._bokeh_is_loading = js_urls.length;\n    for (var i = 0; i < js_urls.length; i++) {\n      var url = js_urls[i];\n      var s = document.createElement('script');\n      s.src = url;\n      s.async = false;\n      s.onreadystatechange = s.onload = function() {\n        root._bokeh_is_loading--;\n        if (root._bokeh_is_loading === 0) {\n          console.log(\"Bokeh: all BokehJS libraries loaded\");\n          run_callbacks()\n        }\n      };\n      s.onerror = function() {\n        console.warn(\"failed to load library \" + url);\n      };\n      console.log(\"Bokeh: injecting script tag for BokehJS library: \", url);\n      document.getElementsByTagName(\"head\")[0].appendChild(s);\n    }\n  };var element = document.getElementById(\"05892fd6-ebe8-4e29-b224-8e0f72f8a575\");\n  if (element == null) {\n    console.log(\"Bokeh: ERROR: autoload.js configured with elementid '05892fd6-ebe8-4e29-b224-8e0f72f8a575' but no matching script tag was found. \")\n    return false;\n  }\n\n  var js_urls = [\"https://cdn.pydata.org/bokeh/release/bokeh-0.12.13.min.js\", \"https://cdn.pydata.org/bokeh/release/bokeh-widgets-0.12.13.min.js\", \"https://cdn.pydata.org/bokeh/release/bokeh-tables-0.12.13.min.js\", \"https://cdn.pydata.org/bokeh/release/bokeh-gl-0.12.13.min.js\"];\n\n  var inline_js = [\n    function(Bokeh) {\n      Bokeh.set_log_level(\"info\");\n    },\n    \n    function(Bokeh) {\n      \n    },\n    function(Bokeh) {\n      console.log(\"Bokeh: injecting CSS: https://cdn.pydata.org/bokeh/release/bokeh-0.12.13.min.css\");\n      Bokeh.embed.inject_css(\"https://cdn.pydata.org/bokeh/release/bokeh-0.12.13.min.css\");\n      console.log(\"Bokeh: injecting CSS: https://cdn.pydata.org/bokeh/release/bokeh-widgets-0.12.13.min.css\");\n      Bokeh.embed.inject_css(\"https://cdn.pydata.org/bokeh/release/bokeh-widgets-0.12.13.min.css\");\n      console.log(\"Bokeh: injecting CSS: https://cdn.pydata.org/bokeh/release/bokeh-tables-0.12.13.min.css\");\n      Bokeh.embed.inject_css(\"https://cdn.pydata.org/bokeh/release/bokeh-tables-0.12.13.min.css\");\n    }\n  ];\n\n  function run_inline_js() {\n    \n    if ((root.Bokeh !== undefined) || (force === true)) {\n      for (var i = 0; i < inline_js.length; i++) {\n        inline_js[i].call(root, root.Bokeh);\n      }if (force === true) {\n        display_loaded();\n      }} else if (Date.now() < root._bokeh_timeout) {\n      setTimeout(run_inline_js, 100);\n    } else if (!root._bokeh_failed_load) {\n      console.log(\"Bokeh: BokehJS failed to load within specified timeout.\");\n      root._bokeh_failed_load = true;\n    } else if (force !== true) {\n      var cell = $(document.getElementById(\"05892fd6-ebe8-4e29-b224-8e0f72f8a575\")).parents('.cell').data().cell;\n      cell.output_area.append_execute_result(NB_LOAD_WARNING)\n    }\n\n  }\n\n  if (root._bokeh_is_loading === 0) {\n    console.log(\"Bokeh: BokehJS loaded, going straight to plotting\");\n    run_inline_js();\n  } else {\n    load_libs(js_urls, function() {\n      console.log(\"Bokeh: BokehJS plotting callback run at\", now());\n      run_inline_js();\n    });\n  }\n}(window));"
     },
     "metadata": {},
     "output_type": "display_data"
    }
   ],
   "source": [
    "# Example of optimization by bisection line search\n",
    "import os, sys\n",
    "import math\n",
    "import bisect\n",
    "import numpy as np\n",
    "\n",
    "from bokeh.plotting import figure, show\n",
    "from bokeh.io import output_notebook\n",
    "output_notebook()"
   ]
  },
  {
   "cell_type": "code",
   "execution_count": 370,
   "metadata": {
    "ExecuteTime": {
     "end_time": "2018-11-01T23:33:30.089973Z",
     "start_time": "2018-11-01T23:33:30.086473Z"
    }
   },
   "outputs": [],
   "source": [
    "# Initialization \n",
    "range_min, range_max = (-6,6)\n",
    "# initial_guess = 0.5\n",
    "# initial_step_size = 0.1\n",
    "epsilon = 1.0e-6\n",
    "\n",
    "# tuples of (x, f(x)), ordered by x.\n",
    "search_grid = []"
   ]
  },
  {
   "cell_type": "code",
   "execution_count": 371,
   "metadata": {
    "ExecuteTime": {
     "end_time": "2018-11-01T23:54:51.503882Z",
     "start_time": "2018-11-01T23:54:51.499059Z"
    }
   },
   "outputs": [],
   "source": [
    "# A decidedly non-parabolic function with a global min \n",
    "def example_f(x):\n",
    "    'Function over the range to minimize in one dim'\n",
    "    sc = 2.60\n",
    "    return sc*sc*math.exp((x-1.5)*sc) + sc*sc*math.exp(-(1.9 + x)*sc) +\\\n",
    "            10.0* math.sin(20* x) +\\\n",
    "            200000000.5*np.random.random_sample()\n",
    "\n",
    "def add_f_to_grid(x, f=example_f):\n",
    "    'Add points in sorted order to the sample'\n",
    "    global search_grid\n",
    "    # Binary search would be better\n",
    "    found_k = [k for k in range(len(search_grid)) if abs(x-search_grid[k][0]) <= epsilon]\n",
    "    if found_k == []:\n",
    "        new_pt = (x, f(x))\n",
    "        bisect.insort_left(search_grid, new_pt)\n",
    "        return new_pt\n",
    "    else:\n",
    "        return search_grid[found_k[0]]\n",
    "    \n",
    "def init_grid(no_pts=3, shrinkage=9, f = example_f):\n",
    "    global search_grid\n",
    "    half_range = (range_max - range_min)/2\n",
    "    grid_x = np.linspace(range_min + half_range/shrinkage, range_max - half_range/shrinkage, no_pts)\n",
    "    search_grid = list(zip(grid_x, map(f, grid_x)))"
   ]
  },
  {
   "cell_type": "code",
   "execution_count": 372,
   "metadata": {},
   "outputs": [],
   "source": [
    "# Use a quadratic regression to estimate the minimum of the function\n",
    "# By centering the data around 0 the columns of the design matrix form an orthogonal basis function\n",
    "def dm_sample(the_pt):\n",
    "    'From an x,y tuple build a design matrix row'\n",
    "    x = the_pt[0]\n",
    "    return (1, x, x*x)\n",
    "\n",
    "def points_design_matrix():\n",
    "    'The quadratic regression design matrix'\n",
    "    dm = np.empty((0,3),dtype='float')\n",
    "    for row in search_grid:\n",
    "        dm = np.vstack((dm, np.array(dm_sample(row), dtype='float')))\n",
    "    return dm"
   ]
  },
  {
   "cell_type": "code",
   "execution_count": 373,
   "metadata": {},
   "outputs": [],
   "source": [
    "def fit_parabola_to_sample():\n",
    "    'Use conventional least squares to fit to the design matrix.'\n",
    "    X = points_design_matrix()\n",
    "    print('Design matrix:\\n', X)\n",
    "    y = [z[1] for z in search_grid]\n",
    "\n",
    "    # The fit to the search grid points\n",
    "    # For outputs, see https://docs.scipy.org/doc/numpy-1.13.0/reference/generated/numpy.linalg.lstsq.html\n",
    "    parabola_fit = np.linalg.lstsq(X,y, rcond=-1)\n",
    "    # Return the coefficients (c, b a)\n",
    "    return parabola_fit[0]\n",
    "\n",
    "def fit_line_to_sample():\n",
    "    'Use conventional least squares to fit to the design matrix.'\n",
    "    X = points_design_matrix()\n",
    "    X = X[:, (0,1)]\n",
    "    print('Design matrix:\\n', X)\n",
    "    y = [z[1] for z in search_grid]\n",
    "    # The fit to the search grid points\n",
    "    # For outputs, see https://docs.scipy.org/doc/numpy-1.13.0/reference/generated/numpy.linalg.lstsq.html\n",
    "    linear_fit = np.linalg.lstsq(X,y, rcond=-1)\n",
    "    # Return the coefficients (c, b a)\n",
    "    return (linear_fit[0][0], linear_fit[0][1], 0)\n",
    "\n",
    "# When the parabola fails, a linear or constant fit may show, by fitting better. \n",
    "def fit_constant():\n",
    "    y = [z[1] for z in search_grid]\n",
    "    if len(y) == 0:\n",
    "        print(\"No samples found.\", file=sys.stderr )\n",
    "    y_est = np.mean(y)\n",
    "    return  (y_est, 0, 0)\n",
    "\n",
    "def eval_fit(pts, coeffs):\n",
    "    'Compute the fitted values for the parabola fit'\n",
    "    # pts - same format as search_grid\n",
    "    c = coeffs[0]\n",
    "    b = coeffs[1]\n",
    "    a = coeffs[2]\n",
    "    x_s = [z[0] for z in pts]\n",
    "    y_s = [z[1] for z in pts]\n",
    "    y_est = [a * x * x + b * x + c for x in x_s]\n",
    "    # Compute estimated minimum\n",
    "    if a != 0:\n",
    "        print('Estimated min at: {}'.format(-0.5*b/a))\n",
    "    # List the absolute value (L1) errors for the fit.\n",
    "    errs = sum([abs(pt[1] - pt[0]) for pt in zip(y_est, y_s)])/len(y_s)\n",
    "    print('residual mean abs error: {}'.format(errs))\n",
    "    return [x_s, y_est]\n",
    "    \n",
    "def plot_search_grid(parabola_pts):\n",
    "    p = figure(plot_width = 600, plot_height = 600, \n",
    "           title = 'Current points',\n",
    "           x_axis_label = 'x', y_axis_label = 'f(x)')\n",
    "    pts = list(zip(*search_grid))\n",
    "    p.circle(pts[0], pts[1],  color = 'darkred', size=6)\n",
    "    # Add a parabola approx.\n",
    "    p.line(parabola_pts[0], parabola_pts[1], color = 'lightblue')\n",
    "    show(p)"
   ]
  },
  {
   "cell_type": "code",
   "execution_count": 374,
   "metadata": {},
   "outputs": [
    {
     "data": {
      "text/plain": [
       "[(-5.333333333333333, 131737434.90638149),\n",
       " (-4.148148148148148, 44314839.95642581),\n",
       " (-2.962962962962963, 64333359.62799138),\n",
       " (-1.7777777777777777, 160372837.5816083),\n",
       " (-0.5925925925925926, 168323874.43679845),\n",
       " (0.5925925925925926, 91140850.07326846),\n",
       " (1.7777777777777777, 172456393.34754202),\n",
       " (2.962962962962963, 157671637.52763328),\n",
       " (4.148148148148148, 126637596.4626044),\n",
       " (5.333333333333333, 176641605.61763752)]"
      ]
     },
     "execution_count": 374,
     "metadata": {},
     "output_type": "execute_result"
    }
   ],
   "source": [
    "# Create some widely-spaced starting points, to broaden search over possible local optima. \n",
    "init_grid(10)\n",
    "# Note that accuracy will improve if points distant from the estimated optimum are pruned \n",
    "#as more nearby points are added. \n",
    "search_grid"
   ]
  },
  {
   "cell_type": "code",
   "execution_count": 375,
   "metadata": {},
   "outputs": [
    {
     "data": {
      "text/plain": [
       "[(-5.75, 124599558.44984187),\n",
       " (-5.333333333333333, 131737434.90638149),\n",
       " (-4.148148148148148, 44314839.95642581),\n",
       " (-2.962962962962963, 64333359.62799138),\n",
       " (-1.7777777777777777, 160372837.5816083),\n",
       " (-0.5925925925925926, 168323874.43679845),\n",
       " (0.5925925925925926, 91140850.07326846),\n",
       " (1.7777777777777777, 172456393.34754202),\n",
       " (2.962962962962963, 157671637.52763328),\n",
       " (4.148148148148148, 126637596.4626044),\n",
       " (5.333333333333333, 176641605.61763752)]"
      ]
     },
     "execution_count": 375,
     "metadata": {},
     "output_type": "execute_result"
    }
   ],
   "source": [
    "# This is how to create more points\n",
    "for pt in np.linspace(0.25+range_min, range_max, 1):\n",
    "   add_f_to_grid(pt)\n",
    "search_grid"
   ]
  },
  {
   "cell_type": "code",
   "execution_count": 376,
   "metadata": {},
   "outputs": [
    {
     "name": "stdout",
     "output_type": "stream",
     "text": [
      "Design matrix:\n",
      " [[ 1.         -5.75       33.0625    ]\n",
      " [ 1.         -5.33333333 28.44444444]\n",
      " [ 1.         -4.14814815 17.20713306]\n",
      " [ 1.         -2.96296296  8.77914952]\n",
      " [ 1.         -1.77777778  3.16049383]\n",
      " [ 1.         -0.59259259  0.35116598]\n",
      " [ 1.          0.59259259  0.35116598]\n",
      " [ 1.          1.77777778  3.16049383]\n",
      " [ 1.          2.96296296  8.77914952]\n",
      " [ 1.          4.14814815 17.20713306]\n",
      " [ 1.          5.33333333 28.44444444]]\n",
      "Regression coefficients: [1.28360647e+08 6.09355389e+06 2.77284762e+05]\n",
      ">> Parabolic Estimated min at: -10.987898941096308\n",
      "residual mean abs error: 33572038.176518366\n"
     ]
    }
   ],
   "source": [
    "# Return the coefficients of a quadratic regression\n",
    "parabolic_fit = fit_parabola_to_sample()\n",
    "print('Regression coefficients: {}'.format(parabolic_fit))\n",
    "# Evaluate the fit at the sample points\n",
    "print('>> Parabolic ', end='')\n",
    "est_quadratic_pts = eval_fit(search_grid, parabolic_fit)"
   ]
  },
  {
   "cell_type": "code",
   "execution_count": 377,
   "metadata": {},
   "outputs": [
    {
     "name": "stdout",
     "output_type": "stream",
     "text": [
      "Design matrix:\n",
      " [[ 1.         -5.75      ]\n",
      " [ 1.         -5.33333333]\n",
      " [ 1.         -4.14814815]\n",
      " [ 1.         -2.96296296]\n",
      " [ 1.         -1.77777778]\n",
      " [ 1.         -0.59259259]\n",
      " [ 1.          0.59259259]\n",
      " [ 1.          1.77777778]\n",
      " [ 1.          2.96296296]\n",
      " [ 1.          4.14814815]\n",
      " [ 1.          5.33333333]]\n",
      "Regression coefficients: (132003782.20189707, 5880281.0840235725, 0)\n",
      ">> Linear residual mean abs error: 34118188.842959955\n"
     ]
    }
   ],
   "source": [
    "# Also run a linear regression, and compare errors. \n",
    "linear_fit = fit_line_to_sample()\n",
    "print('Regression coefficients: {}'.format(linear_fit))\n",
    "# Evaluate the fit at the sample points\n",
    "print('>> Linear ', end='')\n",
    "est_linear_pts = eval_fit(search_grid, linear_fit)"
   ]
  },
  {
   "cell_type": "code",
   "execution_count": 378,
   "metadata": {},
   "outputs": [
    {
     "name": "stdout",
     "output_type": "stream",
     "text": [
      "Regression coefficients: (128929998.90797572, 0, 0)\n",
      ">> Constant residual mean abs error: 35204325.44904485\n"
     ]
    }
   ],
   "source": [
    "# OK also try a constant regression\n",
    "coeff_const = fit_constant()\n",
    "print('Regression coefficients: {}'.format(coeff_const))\n",
    "print('>> Constant ', end='')\n",
    "# Evaluate the fit at the sample points\n",
    "est_const_pts = eval_fit(search_grid, coeff_const)"
   ]
  },
  {
   "cell_type": "code",
   "execution_count": 379,
   "metadata": {
    "ExecuteTime": {
     "end_time": "2018-11-02T00:07:53.184576Z",
     "start_time": "2018-11-02T00:07:53.180246Z"
    }
   },
   "outputs": [
    {
     "data": {
      "text/html": [
       "\n",
       "<div class=\"bk-root\">\n",
       "    <div class=\"bk-plotdiv\" id=\"2f0a88cb-220d-4cbb-8efc-de0a4fddcbe7\"></div>\n",
       "</div>"
      ]
     },
     "metadata": {},
     "output_type": "display_data"
    },
    {
     "data": {
      "application/javascript": [
       "(function(root) {\n",
       "  function embed_document(root) {\n",
       "    \n",
       "  var docs_json = {\"dd83afdc-3796-4898-853f-fc672bf09593\":{\"roots\":{\"references\":[{\"attributes\":{},\"id\":\"3875c9cb-4fa7-45a9-917f-bb9097799bfe\",\"type\":\"SaveTool\"},{\"attributes\":{},\"id\":\"2eecf61e-67ac-4f42-b856-7239ecd64937\",\"type\":\"HelpTool\"},{\"attributes\":{},\"id\":\"f0f400b7-db18-461c-b28a-57be2228ad54\",\"type\":\"BasicTickFormatter\"},{\"attributes\":{},\"id\":\"a52eebe5-8b7e-44a7-9617-8c67450ae67e\",\"type\":\"BasicTicker\"},{\"attributes\":{\"fill_color\":{\"value\":\"darkred\"},\"line_color\":{\"value\":\"darkred\"},\"size\":{\"units\":\"screen\",\"value\":6},\"x\":{\"field\":\"x\"},\"y\":{\"field\":\"y\"}},\"id\":\"ec33cd49-06db-40a6-aca3-f9d2bb4888ed\",\"type\":\"Circle\"},{\"attributes\":{},\"id\":\"0a98df7c-60d1-4415-89fc-7f1b511d314d\",\"type\":\"PanTool\"},{\"attributes\":{},\"id\":\"1bc5d8c2-e663-4533-8bf7-630ec886ba6c\",\"type\":\"ResetTool\"},{\"attributes\":{\"data_source\":{\"id\":\"82ea5bf1-a60e-4233-8c44-737302526ad5\",\"type\":\"ColumnDataSource\"},\"glyph\":{\"id\":\"17744346-6d4c-47f9-b963-47393cf6f4d6\",\"type\":\"Line\"},\"hover_glyph\":null,\"muted_glyph\":null,\"nonselection_glyph\":{\"id\":\"2f78f873-328d-4e8d-9a38-548780304366\",\"type\":\"Line\"},\"selection_glyph\":null,\"view\":{\"id\":\"a0511715-a6c4-4478-a169-880a9c8e08f9\",\"type\":\"CDSView\"}},\"id\":\"c48a25f9-115a-41e6-8d5b-e58b17eb2ad8\",\"type\":\"GlyphRenderer\"},{\"attributes\":{\"callback\":null},\"id\":\"53fe8478-5934-4776-b0e7-22b12f07fbdf\",\"type\":\"DataRange1d\"},{\"attributes\":{},\"id\":\"ed3e9e1c-42d0-4adf-b285-7fc416e19583\",\"type\":\"BasicTickFormatter\"},{\"attributes\":{\"line_alpha\":0.1,\"line_color\":\"#1f77b4\",\"x\":{\"field\":\"x\"},\"y\":{\"field\":\"y\"}},\"id\":\"2f78f873-328d-4e8d-9a38-548780304366\",\"type\":\"Line\"},{\"attributes\":{},\"id\":\"10c96305-b823-4730-b1a9-e4191bd4a8f3\",\"type\":\"BasicTicker\"},{\"attributes\":{\"active_drag\":\"auto\",\"active_inspect\":\"auto\",\"active_scroll\":\"auto\",\"active_tap\":\"auto\",\"tools\":[{\"id\":\"0a98df7c-60d1-4415-89fc-7f1b511d314d\",\"type\":\"PanTool\"},{\"id\":\"4efb8e3d-386c-4194-8e1f-c53f017cd67b\",\"type\":\"WheelZoomTool\"},{\"id\":\"4fa09bb6-56ba-4fd7-bf45-40a95b6d80c2\",\"type\":\"BoxZoomTool\"},{\"id\":\"3875c9cb-4fa7-45a9-917f-bb9097799bfe\",\"type\":\"SaveTool\"},{\"id\":\"1bc5d8c2-e663-4533-8bf7-630ec886ba6c\",\"type\":\"ResetTool\"},{\"id\":\"2eecf61e-67ac-4f42-b856-7239ecd64937\",\"type\":\"HelpTool\"}]},\"id\":\"dbd20439-ba4b-4f1c-b594-cac4ac4bd1e0\",\"type\":\"Toolbar\"},{\"attributes\":{\"data_source\":{\"id\":\"e47c051f-1f06-4069-9ed1-f637b48ca519\",\"type\":\"ColumnDataSource\"},\"glyph\":{\"id\":\"ec33cd49-06db-40a6-aca3-f9d2bb4888ed\",\"type\":\"Circle\"},\"hover_glyph\":null,\"muted_glyph\":null,\"nonselection_glyph\":{\"id\":\"96e956d9-94fa-4321-adb5-7182b2872afd\",\"type\":\"Circle\"},\"selection_glyph\":null,\"view\":{\"id\":\"2fe03205-1815-4078-873d-790c9f050a75\",\"type\":\"CDSView\"}},\"id\":\"cca16bd6-0ee5-4044-bdbe-acb0fa7c0e44\",\"type\":\"GlyphRenderer\"},{\"attributes\":{\"line_color\":\"lightblue\",\"x\":{\"field\":\"x\"},\"y\":{\"field\":\"y\"}},\"id\":\"17744346-6d4c-47f9-b963-47393cf6f4d6\",\"type\":\"Line\"},{\"attributes\":{},\"id\":\"db3f861a-b790-4838-a509-4b66d336d829\",\"type\":\"LinearScale\"},{\"attributes\":{\"source\":{\"id\":\"e47c051f-1f06-4069-9ed1-f637b48ca519\",\"type\":\"ColumnDataSource\"}},\"id\":\"2fe03205-1815-4078-873d-790c9f050a75\",\"type\":\"CDSView\"},{\"attributes\":{\"plot\":{\"id\":\"a81d4904-caa9-453b-bf38-b8654621ee15\",\"subtype\":\"Figure\",\"type\":\"Plot\"},\"ticker\":{\"id\":\"a52eebe5-8b7e-44a7-9617-8c67450ae67e\",\"type\":\"BasicTicker\"}},\"id\":\"dddb9148-6561-477f-8a27-0a6daae30f1d\",\"type\":\"Grid\"},{\"attributes\":{\"axis_label\":\"x\",\"formatter\":{\"id\":\"f0f400b7-db18-461c-b28a-57be2228ad54\",\"type\":\"BasicTickFormatter\"},\"plot\":{\"id\":\"a81d4904-caa9-453b-bf38-b8654621ee15\",\"subtype\":\"Figure\",\"type\":\"Plot\"},\"ticker\":{\"id\":\"a52eebe5-8b7e-44a7-9617-8c67450ae67e\",\"type\":\"BasicTicker\"}},\"id\":\"56f1b44e-3088-47f3-b2af-add50da0e581\",\"type\":\"LinearAxis\"},{\"attributes\":{\"callback\":null,\"column_names\":[\"x\",\"y\"],\"data\":{\"x\":[-5.75,-5.333333333333333,-4.148148148148148,-2.962962962962963,-1.7777777777777777,-0.5925925925925926,0.5925925925925926,1.7777777777777777,2.962962962962963,4.148148148148148,5.333333333333333],\"y\":[124599558.44984187,131737434.90638149,44314839.95642581,64333359.62799138,160372837.5816083,168323874.43679845,91140850.07326846,172456393.34754202,157671637.52763328,126637596.4626044,176641605.61763752]}},\"id\":\"e47c051f-1f06-4069-9ed1-f637b48ca519\",\"type\":\"ColumnDataSource\"},{\"attributes\":{\"source\":{\"id\":\"82ea5bf1-a60e-4233-8c44-737302526ad5\",\"type\":\"ColumnDataSource\"}},\"id\":\"a0511715-a6c4-4478-a169-880a9c8e08f9\",\"type\":\"CDSView\"},{\"attributes\":{},\"id\":\"9cd01884-5030-4e9d-a277-bfe802500b27\",\"type\":\"LinearScale\"},{\"attributes\":{\"bottom_units\":\"screen\",\"fill_alpha\":{\"value\":0.5},\"fill_color\":{\"value\":\"lightgrey\"},\"left_units\":\"screen\",\"level\":\"overlay\",\"line_alpha\":{\"value\":1.0},\"line_color\":{\"value\":\"black\"},\"line_dash\":[4,4],\"line_width\":{\"value\":2},\"plot\":null,\"render_mode\":\"css\",\"right_units\":\"screen\",\"top_units\":\"screen\"},\"id\":\"1972819b-209f-4d11-8e41-f759a3371a4a\",\"type\":\"BoxAnnotation\"},{\"attributes\":{\"callback\":null},\"id\":\"f6838839-a020-4199-aa8d-20a15a1cf60e\",\"type\":\"DataRange1d\"},{\"attributes\":{\"callback\":null,\"column_names\":[\"x\",\"y\"],\"data\":{\"x\":[-5.75,-5.333333333333333,-4.148148148148148,-2.962962962962963,-1.7777777777777777,-0.5925925925925926,0.5925925925925926,1.7777777777777777,2.962962962962963,4.148148148148148,5.333333333333333],\"y\":[98192165.96876153,100642283.08710468,107611505.1126141,114580727.13812353,121549949.16363294,128519171.18914236,135488393.2146518,142457615.2401612,149426837.26567063,156396059.29118004,163365281.31668946]}},\"id\":\"82ea5bf1-a60e-4233-8c44-737302526ad5\",\"type\":\"ColumnDataSource\"},{\"attributes\":{\"dimension\":1,\"plot\":{\"id\":\"a81d4904-caa9-453b-bf38-b8654621ee15\",\"subtype\":\"Figure\",\"type\":\"Plot\"},\"ticker\":{\"id\":\"10c96305-b823-4730-b1a9-e4191bd4a8f3\",\"type\":\"BasicTicker\"}},\"id\":\"f9cbb7ab-f295-471c-8409-8793a9d73ec6\",\"type\":\"Grid\"},{\"attributes\":{\"overlay\":{\"id\":\"1972819b-209f-4d11-8e41-f759a3371a4a\",\"type\":\"BoxAnnotation\"}},\"id\":\"4fa09bb6-56ba-4fd7-bf45-40a95b6d80c2\",\"type\":\"BoxZoomTool\"},{\"attributes\":{\"axis_label\":\"f(x)\",\"formatter\":{\"id\":\"ed3e9e1c-42d0-4adf-b285-7fc416e19583\",\"type\":\"BasicTickFormatter\"},\"plot\":{\"id\":\"a81d4904-caa9-453b-bf38-b8654621ee15\",\"subtype\":\"Figure\",\"type\":\"Plot\"},\"ticker\":{\"id\":\"10c96305-b823-4730-b1a9-e4191bd4a8f3\",\"type\":\"BasicTicker\"}},\"id\":\"8ecc0402-3964-4aa2-9fdf-90ef4f08df83\",\"type\":\"LinearAxis\"},{\"attributes\":{\"plot\":null,\"text\":\"Current points\"},\"id\":\"e19a9eae-7fda-452d-a59b-adc21f9707b2\",\"type\":\"Title\"},{\"attributes\":{},\"id\":\"4efb8e3d-386c-4194-8e1f-c53f017cd67b\",\"type\":\"WheelZoomTool\"},{\"attributes\":{\"fill_alpha\":{\"value\":0.1},\"fill_color\":{\"value\":\"#1f77b4\"},\"line_alpha\":{\"value\":0.1},\"line_color\":{\"value\":\"#1f77b4\"},\"size\":{\"units\":\"screen\",\"value\":6},\"x\":{\"field\":\"x\"},\"y\":{\"field\":\"y\"}},\"id\":\"96e956d9-94fa-4321-adb5-7182b2872afd\",\"type\":\"Circle\"},{\"attributes\":{\"below\":[{\"id\":\"56f1b44e-3088-47f3-b2af-add50da0e581\",\"type\":\"LinearAxis\"}],\"left\":[{\"id\":\"8ecc0402-3964-4aa2-9fdf-90ef4f08df83\",\"type\":\"LinearAxis\"}],\"renderers\":[{\"id\":\"56f1b44e-3088-47f3-b2af-add50da0e581\",\"type\":\"LinearAxis\"},{\"id\":\"dddb9148-6561-477f-8a27-0a6daae30f1d\",\"type\":\"Grid\"},{\"id\":\"8ecc0402-3964-4aa2-9fdf-90ef4f08df83\",\"type\":\"LinearAxis\"},{\"id\":\"f9cbb7ab-f295-471c-8409-8793a9d73ec6\",\"type\":\"Grid\"},{\"id\":\"1972819b-209f-4d11-8e41-f759a3371a4a\",\"type\":\"BoxAnnotation\"},{\"id\":\"cca16bd6-0ee5-4044-bdbe-acb0fa7c0e44\",\"type\":\"GlyphRenderer\"},{\"id\":\"c48a25f9-115a-41e6-8d5b-e58b17eb2ad8\",\"type\":\"GlyphRenderer\"}],\"title\":{\"id\":\"e19a9eae-7fda-452d-a59b-adc21f9707b2\",\"type\":\"Title\"},\"toolbar\":{\"id\":\"dbd20439-ba4b-4f1c-b594-cac4ac4bd1e0\",\"type\":\"Toolbar\"},\"x_range\":{\"id\":\"f6838839-a020-4199-aa8d-20a15a1cf60e\",\"type\":\"DataRange1d\"},\"x_scale\":{\"id\":\"db3f861a-b790-4838-a509-4b66d336d829\",\"type\":\"LinearScale\"},\"y_range\":{\"id\":\"53fe8478-5934-4776-b0e7-22b12f07fbdf\",\"type\":\"DataRange1d\"},\"y_scale\":{\"id\":\"9cd01884-5030-4e9d-a277-bfe802500b27\",\"type\":\"LinearScale\"}},\"id\":\"a81d4904-caa9-453b-bf38-b8654621ee15\",\"subtype\":\"Figure\",\"type\":\"Plot\"}],\"root_ids\":[\"a81d4904-caa9-453b-bf38-b8654621ee15\"]},\"title\":\"Bokeh Application\",\"version\":\"0.12.13\"}};\n",
       "  var render_items = [{\"docid\":\"dd83afdc-3796-4898-853f-fc672bf09593\",\"elementid\":\"2f0a88cb-220d-4cbb-8efc-de0a4fddcbe7\",\"modelid\":\"a81d4904-caa9-453b-bf38-b8654621ee15\"}];\n",
       "  root.Bokeh.embed.embed_items_notebook(docs_json, render_items);\n",
       "\n",
       "  }\n",
       "  if (root.Bokeh !== undefined) {\n",
       "    embed_document(root);\n",
       "  } else {\n",
       "    var attempts = 0;\n",
       "    var timer = setInterval(function(root) {\n",
       "      if (root.Bokeh !== undefined) {\n",
       "        embed_document(root);\n",
       "        clearInterval(timer);\n",
       "      }\n",
       "      attempts++;\n",
       "      if (attempts > 100) {\n",
       "        console.log(\"Bokeh: ERROR: Unable to run BokehJS code because BokehJS library is missing\")\n",
       "        clearInterval(timer);\n",
       "      }\n",
       "    }, 10, root)\n",
       "  }\n",
       "})(window);"
      ],
      "application/vnd.bokehjs_exec.v0+json": ""
     },
     "metadata": {
      "application/vnd.bokehjs_exec.v0+json": {
       "id": "a81d4904-caa9-453b-bf38-b8654621ee15"
      }
     },
     "output_type": "display_data"
    }
   ],
   "source": [
    "# Show both the search points and the best  fit\n",
    "plot_search_grid(est_linear_pts)"
   ]
  },
  {
   "cell_type": "code",
   "execution_count": 380,
   "metadata": {},
   "outputs": [
    {
     "data": {
      "text/html": [
       "\n",
       "<div class=\"bk-root\">\n",
       "    <div class=\"bk-plotdiv\" id=\"e9116a4c-6733-458e-b0cf-3da268b640bc\"></div>\n",
       "</div>"
      ]
     },
     "metadata": {},
     "output_type": "display_data"
    },
    {
     "data": {
      "application/javascript": [
       "(function(root) {\n",
       "  function embed_document(root) {\n",
       "    \n",
       "  var docs_json = {\"46819bb0-219d-455a-9744-1d2c2b9988f7\":{\"roots\":{\"references\":[{\"attributes\":{\"active_drag\":\"auto\",\"active_inspect\":\"auto\",\"active_scroll\":\"auto\",\"active_tap\":\"auto\",\"tools\":[{\"id\":\"f8adf2e6-1084-42e6-b388-b51e86119d71\",\"type\":\"PanTool\"},{\"id\":\"3dc3c075-07cd-4ec0-ae8a-a33df9edd4e8\",\"type\":\"WheelZoomTool\"},{\"id\":\"6dc62f81-3b59-4231-979f-276160131e64\",\"type\":\"BoxZoomTool\"},{\"id\":\"d52323bd-a733-4e3c-9201-b385beb5fc05\",\"type\":\"SaveTool\"},{\"id\":\"77f66596-3be5-4bec-8084-e1c1a22c6c9b\",\"type\":\"ResetTool\"},{\"id\":\"80c8002c-7ec1-4ca0-b704-756a94257a81\",\"type\":\"HelpTool\"}]},\"id\":\"0a14261e-3829-4c21-99b3-bee1097b9b0f\",\"type\":\"Toolbar\"},{\"attributes\":{},\"id\":\"f8adf2e6-1084-42e6-b388-b51e86119d71\",\"type\":\"PanTool\"},{\"attributes\":{},\"id\":\"d52323bd-a733-4e3c-9201-b385beb5fc05\",\"type\":\"SaveTool\"},{\"attributes\":{},\"id\":\"3dc3c075-07cd-4ec0-ae8a-a33df9edd4e8\",\"type\":\"WheelZoomTool\"},{\"attributes\":{\"line_color\":\"lightblue\",\"x\":{\"field\":\"x\"},\"y\":{\"field\":\"y\"}},\"id\":\"164ef7f9-09c8-45e6-bb02-fc3250f8af50\",\"type\":\"Line\"},{\"attributes\":{},\"id\":\"39f2ed83-33cc-4209-a96a-6a47a49f817c\",\"type\":\"BasicTicker\"},{\"attributes\":{\"data_source\":{\"id\":\"7223576e-eed4-428d-b38d-dcde2e9b3ae2\",\"type\":\"ColumnDataSource\"},\"glyph\":{\"id\":\"13de8343-f2dc-478a-ac3a-b3b4ef347528\",\"type\":\"Circle\"},\"hover_glyph\":null,\"muted_glyph\":null,\"nonselection_glyph\":{\"id\":\"ba6571c5-d33d-4ba6-b6a2-ed1b4842b905\",\"type\":\"Circle\"},\"selection_glyph\":null,\"view\":{\"id\":\"d52eba49-30d1-44a8-8ece-bdd8dda17fb5\",\"type\":\"CDSView\"}},\"id\":\"8aaad04c-1f59-4b82-85a4-ced18e165fef\",\"type\":\"GlyphRenderer\"},{\"attributes\":{},\"id\":\"63146b71-fe51-4a42-b982-20f2e9c3038b\",\"type\":\"LinearScale\"},{\"attributes\":{},\"id\":\"b01dffbe-40a7-4e65-81de-9b1a7ba766cb\",\"type\":\"LinearScale\"},{\"attributes\":{},\"id\":\"31943b9f-7196-43b2-86b5-dc73b5018d10\",\"type\":\"BasicTickFormatter\"},{\"attributes\":{\"fill_alpha\":{\"value\":0.1},\"fill_color\":{\"value\":\"#1f77b4\"},\"line_alpha\":{\"value\":0.1},\"line_color\":{\"value\":\"#1f77b4\"},\"size\":{\"units\":\"screen\",\"value\":6},\"x\":{\"field\":\"x\"},\"y\":{\"field\":\"y\"}},\"id\":\"ba6571c5-d33d-4ba6-b6a2-ed1b4842b905\",\"type\":\"Circle\"},{\"attributes\":{\"callback\":null},\"id\":\"23f2f88b-620c-40e1-a0e6-83ccc6bab52e\",\"type\":\"DataRange1d\"},{\"attributes\":{\"source\":{\"id\":\"7223576e-eed4-428d-b38d-dcde2e9b3ae2\",\"type\":\"ColumnDataSource\"}},\"id\":\"d52eba49-30d1-44a8-8ece-bdd8dda17fb5\",\"type\":\"CDSView\"},{\"attributes\":{},\"id\":\"80c8002c-7ec1-4ca0-b704-756a94257a81\",\"type\":\"HelpTool\"},{\"attributes\":{\"plot\":{\"id\":\"6dd2a7af-e968-4f14-a3aa-c99276f0c433\",\"subtype\":\"Figure\",\"type\":\"Plot\"},\"ticker\":{\"id\":\"39f2ed83-33cc-4209-a96a-6a47a49f817c\",\"type\":\"BasicTicker\"}},\"id\":\"00241a86-23e8-4a24-86cb-18a7e4547329\",\"type\":\"Grid\"},{\"attributes\":{\"callback\":null,\"column_names\":[\"x\",\"y\"],\"data\":{\"x\":[-5.75,-5.333333333333333,-4.148148148148148,-2.962962962962963,-1.7777777777777777,-0.5925925925925926,0.5925925925925926,1.7777777777777777,2.962962962962963,4.148148148148148,5.333333333333333],\"y\":[124599558.44984187,131737434.90638149,44314839.95642581,64333359.62799138,160372837.5816083,168323874.43679845,91140850.07326846,172456393.34754202,157671637.52763328,126637596.4626044,176641605.61763752]}},\"id\":\"7223576e-eed4-428d-b38d-dcde2e9b3ae2\",\"type\":\"ColumnDataSource\"},{\"attributes\":{\"data_source\":{\"id\":\"b029a0e5-6485-475e-9575-5eb5ac65c5d9\",\"type\":\"ColumnDataSource\"},\"glyph\":{\"id\":\"164ef7f9-09c8-45e6-bb02-fc3250f8af50\",\"type\":\"Line\"},\"hover_glyph\":null,\"muted_glyph\":null,\"nonselection_glyph\":{\"id\":\"b1baeed4-1457-482f-b43e-709f4bf866c9\",\"type\":\"Line\"},\"selection_glyph\":null,\"view\":{\"id\":\"8578acb5-23e1-4126-96ee-7ebbf79bcf06\",\"type\":\"CDSView\"}},\"id\":\"63ba29c2-3e15-4ab7-9497-6b804b4cde32\",\"type\":\"GlyphRenderer\"},{\"attributes\":{\"callback\":null,\"column_names\":[\"x\",\"y\"],\"data\":{\"x\":[-5.75,-5.333333333333333,-4.148148148148148,-2.962962962962963,-1.7777777777777777,-0.5925925925925926,0.5925925925925926,1.7777777777777777,2.962962962962963,4.148148148148148,5.333333333333333],\"y\":[102490439.24587572,103748903.59769127,107854958.18079603,112739996.5682777,118404018.76013629,124847024.75637181,132069014.55698425,140069988.16197363,148849945.5713399,158408886.78508312,168746811.80320325]}},\"id\":\"b029a0e5-6485-475e-9575-5eb5ac65c5d9\",\"type\":\"ColumnDataSource\"},{\"attributes\":{\"line_alpha\":0.1,\"line_color\":\"#1f77b4\",\"x\":{\"field\":\"x\"},\"y\":{\"field\":\"y\"}},\"id\":\"b1baeed4-1457-482f-b43e-709f4bf866c9\",\"type\":\"Line\"},{\"attributes\":{\"bottom_units\":\"screen\",\"fill_alpha\":{\"value\":0.5},\"fill_color\":{\"value\":\"lightgrey\"},\"left_units\":\"screen\",\"level\":\"overlay\",\"line_alpha\":{\"value\":1.0},\"line_color\":{\"value\":\"black\"},\"line_dash\":[4,4],\"line_width\":{\"value\":2},\"plot\":null,\"render_mode\":\"css\",\"right_units\":\"screen\",\"top_units\":\"screen\"},\"id\":\"40ffae24-77ee-4481-a4d2-7870347bbc46\",\"type\":\"BoxAnnotation\"},{\"attributes\":{\"callback\":null},\"id\":\"21fb0dbb-226f-4548-b88d-32fd8cf4a9ce\",\"type\":\"DataRange1d\"},{\"attributes\":{},\"id\":\"0d870e28-ff13-4bac-925f-b41a34ff4245\",\"type\":\"BasicTickFormatter\"},{\"attributes\":{\"overlay\":{\"id\":\"40ffae24-77ee-4481-a4d2-7870347bbc46\",\"type\":\"BoxAnnotation\"}},\"id\":\"6dc62f81-3b59-4231-979f-276160131e64\",\"type\":\"BoxZoomTool\"},{\"attributes\":{\"dimension\":1,\"plot\":{\"id\":\"6dd2a7af-e968-4f14-a3aa-c99276f0c433\",\"subtype\":\"Figure\",\"type\":\"Plot\"},\"ticker\":{\"id\":\"794b65b2-1ef3-4d66-ac19-e51d860d38f4\",\"type\":\"BasicTicker\"}},\"id\":\"2f1aac8e-3641-4be6-aaea-970c5b3e5d81\",\"type\":\"Grid\"},{\"attributes\":{\"plot\":null,\"text\":\"Current points\"},\"id\":\"4b0f1493-ae05-482a-b76c-c87fef7cc14e\",\"type\":\"Title\"},{\"attributes\":{\"axis_label\":\"x\",\"formatter\":{\"id\":\"0d870e28-ff13-4bac-925f-b41a34ff4245\",\"type\":\"BasicTickFormatter\"},\"plot\":{\"id\":\"6dd2a7af-e968-4f14-a3aa-c99276f0c433\",\"subtype\":\"Figure\",\"type\":\"Plot\"},\"ticker\":{\"id\":\"39f2ed83-33cc-4209-a96a-6a47a49f817c\",\"type\":\"BasicTicker\"}},\"id\":\"03a345c7-a3b5-4e35-acea-29b00aa37c67\",\"type\":\"LinearAxis\"},{\"attributes\":{\"fill_color\":{\"value\":\"darkred\"},\"line_color\":{\"value\":\"darkred\"},\"size\":{\"units\":\"screen\",\"value\":6},\"x\":{\"field\":\"x\"},\"y\":{\"field\":\"y\"}},\"id\":\"13de8343-f2dc-478a-ac3a-b3b4ef347528\",\"type\":\"Circle\"},{\"attributes\":{\"axis_label\":\"f(x)\",\"formatter\":{\"id\":\"31943b9f-7196-43b2-86b5-dc73b5018d10\",\"type\":\"BasicTickFormatter\"},\"plot\":{\"id\":\"6dd2a7af-e968-4f14-a3aa-c99276f0c433\",\"subtype\":\"Figure\",\"type\":\"Plot\"},\"ticker\":{\"id\":\"794b65b2-1ef3-4d66-ac19-e51d860d38f4\",\"type\":\"BasicTicker\"}},\"id\":\"41f14201-140c-422b-9857-4640e25dec8d\",\"type\":\"LinearAxis\"},{\"attributes\":{},\"id\":\"794b65b2-1ef3-4d66-ac19-e51d860d38f4\",\"type\":\"BasicTicker\"},{\"attributes\":{\"source\":{\"id\":\"b029a0e5-6485-475e-9575-5eb5ac65c5d9\",\"type\":\"ColumnDataSource\"}},\"id\":\"8578acb5-23e1-4126-96ee-7ebbf79bcf06\",\"type\":\"CDSView\"},{\"attributes\":{\"below\":[{\"id\":\"03a345c7-a3b5-4e35-acea-29b00aa37c67\",\"type\":\"LinearAxis\"}],\"left\":[{\"id\":\"41f14201-140c-422b-9857-4640e25dec8d\",\"type\":\"LinearAxis\"}],\"renderers\":[{\"id\":\"03a345c7-a3b5-4e35-acea-29b00aa37c67\",\"type\":\"LinearAxis\"},{\"id\":\"00241a86-23e8-4a24-86cb-18a7e4547329\",\"type\":\"Grid\"},{\"id\":\"41f14201-140c-422b-9857-4640e25dec8d\",\"type\":\"LinearAxis\"},{\"id\":\"2f1aac8e-3641-4be6-aaea-970c5b3e5d81\",\"type\":\"Grid\"},{\"id\":\"40ffae24-77ee-4481-a4d2-7870347bbc46\",\"type\":\"BoxAnnotation\"},{\"id\":\"8aaad04c-1f59-4b82-85a4-ced18e165fef\",\"type\":\"GlyphRenderer\"},{\"id\":\"63ba29c2-3e15-4ab7-9497-6b804b4cde32\",\"type\":\"GlyphRenderer\"}],\"title\":{\"id\":\"4b0f1493-ae05-482a-b76c-c87fef7cc14e\",\"type\":\"Title\"},\"toolbar\":{\"id\":\"0a14261e-3829-4c21-99b3-bee1097b9b0f\",\"type\":\"Toolbar\"},\"x_range\":{\"id\":\"23f2f88b-620c-40e1-a0e6-83ccc6bab52e\",\"type\":\"DataRange1d\"},\"x_scale\":{\"id\":\"63146b71-fe51-4a42-b982-20f2e9c3038b\",\"type\":\"LinearScale\"},\"y_range\":{\"id\":\"21fb0dbb-226f-4548-b88d-32fd8cf4a9ce\",\"type\":\"DataRange1d\"},\"y_scale\":{\"id\":\"b01dffbe-40a7-4e65-81de-9b1a7ba766cb\",\"type\":\"LinearScale\"}},\"id\":\"6dd2a7af-e968-4f14-a3aa-c99276f0c433\",\"subtype\":\"Figure\",\"type\":\"Plot\"},{\"attributes\":{},\"id\":\"77f66596-3be5-4bec-8084-e1c1a22c6c9b\",\"type\":\"ResetTool\"}],\"root_ids\":[\"6dd2a7af-e968-4f14-a3aa-c99276f0c433\"]},\"title\":\"Bokeh Application\",\"version\":\"0.12.13\"}};\n",
       "  var render_items = [{\"docid\":\"46819bb0-219d-455a-9744-1d2c2b9988f7\",\"elementid\":\"e9116a4c-6733-458e-b0cf-3da268b640bc\",\"modelid\":\"6dd2a7af-e968-4f14-a3aa-c99276f0c433\"}];\n",
       "  root.Bokeh.embed.embed_items_notebook(docs_json, render_items);\n",
       "\n",
       "  }\n",
       "  if (root.Bokeh !== undefined) {\n",
       "    embed_document(root);\n",
       "  } else {\n",
       "    var attempts = 0;\n",
       "    var timer = setInterval(function(root) {\n",
       "      if (root.Bokeh !== undefined) {\n",
       "        embed_document(root);\n",
       "        clearInterval(timer);\n",
       "      }\n",
       "      attempts++;\n",
       "      if (attempts > 100) {\n",
       "        console.log(\"Bokeh: ERROR: Unable to run BokehJS code because BokehJS library is missing\")\n",
       "        clearInterval(timer);\n",
       "      }\n",
       "    }, 10, root)\n",
       "  }\n",
       "})(window);"
      ],
      "application/vnd.bokehjs_exec.v0+json": ""
     },
     "metadata": {
      "application/vnd.bokehjs_exec.v0+json": {
       "id": "6dd2a7af-e968-4f14-a3aa-c99276f0c433"
      }
     },
     "output_type": "display_data"
    }
   ],
   "source": [
    "# Show both the search points and the best parabolic fit\n",
    "plot_search_grid(est_quadratic_pts)"
   ]
  }
 ],
 "metadata": {
  "kernelspec": {
   "display_name": "Python [conda env:py35]",
   "language": "python",
   "name": "conda-env-py35-py"
  }
 },
 "nbformat": 4,
 "nbformat_minor": 2
}
