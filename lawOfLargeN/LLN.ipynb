{
 "metadata": {
  "language_info": {
   "codemirror_mode": {
    "name": "ipython",
    "version": 3
   },
   "file_extension": ".py",
   "mimetype": "text/x-python",
   "name": "python",
   "nbconvert_exporter": "python",
   "pygments_lexer": "ipython3",
   "version": "3.8.5-final"
  },
  "orig_nbformat": 2,
  "kernelspec": {
   "name": "python_defaultSpec_1597803289067",
   "display_name": "Python 3.8.1 64-bit ('base': conda)"
  }
 },
 "nbformat": 4,
 "nbformat_minor": 2,
 "cells": [
  {
   "cell_type": "markdown",
   "metadata": {},
   "source": [
    "# A visualization of the Law of Large Numbers\n"
   ]
  },
  {
   "cell_type": "code",
   "execution_count": 1,
   "metadata": {},
   "outputs": [],
   "source": [
    "import os, re, sys, time\n",
    "import math\n",
    "import json\n",
    "from pathlib import Path\n",
    "import numpy as np\n",
    "import pandas as pd\n",
    "import scipy as sp"
   ]
  },
  {
   "cell_type": "code",
   "execution_count": 16,
   "metadata": {},
   "outputs": [],
   "source": [
    "\n",
    "from bokeh.plotting import figure\n",
    "from bokeh.layouts import column, row\n",
    "from bokeh.io import curdoc, show\n",
    "from bokeh.models import ColumnDataSource, MultiLine, PreText, Slider # Grid, LinearAxis, "
   ]
  },
  {
   "cell_type": "code",
   "execution_count": 3,
   "metadata": {},
   "outputs": [],
   "source": [
    "\n",
    "def create_a_sample(current_sample):\n",
    "    # Assume everything is global\n",
    "    s = np.random.uniform(low=Population_Range[0], high=Population_Range[1], size=sample_size)\n",
    "    s_int = [int(z) for z in s]\n",
    "    # Change it to a vector of counts\n",
    "    for k in s_int:\n",
    "        current_sample[k] +=1\n",
    "    return np.mean(s), current_sample\n",
    "\n",
    "# current_sample = create_a_sample(current_sample)"
   ]
  },
  {
   "cell_type": "code",
   "execution_count": 4,
   "metadata": {},
   "outputs": [],
   "source": [
    "def create_pop_samples(current_sample):\n",
    "    for k in range(number_of_samples):\n",
    "        sample_mean, most_current = create_a_sample(current_sample)\n",
    "        samples[int(sample_mean)] +=1\n",
    "    return samples, most_current"
   ]
  },
  {
   "cell_type": "code",
   "execution_count": 17,
   "metadata": {},
   "outputs": [],
   "source": [
    "def plot_rug(samples, plot_height = 160, line_width=3, line_color='grey'):\n",
    "    ''\n",
    "    xpts = [[k,k] for k in range(Population_Range[0], Population_Range[1])]\n",
    "    ypts = [[0,0]] * (Population_Range[1]- Population_Range[0])\n",
    "    for i, a_sample in enumerate(samples):\n",
    "        ypts[i]  = [0, a_sample]\n",
    "    p = figure( title=\"Rug\",\n",
    "            plot_width = 800, plot_height = plot_height, \n",
    "            background_fill_color=\"#fafafa\",\n",
    "            x_range=Population_Range, \n",
    "            y_range = (0, max(samples)),\n",
    "            toolbar_location=None)\n",
    "    p.grid.grid_line_color=\"#fafafa\"\n",
    "    src = ColumnDataSource(dict(xs=xpts, ys=ypts))\n",
    "    glyph = MultiLine(xs='xs', ys='ys', line_width=line_width, line_color=line_color)\n",
    "    p.add_glyph(src, glyph )\n",
    "    return(p)"
   ]
  },
  {
   "cell_type": "code",
   "execution_count": 6,
   "metadata": {},
   "outputs": [],
   "source": [
    "def update_sampling(attrname, old, new):\n",
    "    ''\n",
    "    # Get current slider values\n",
    "    ss = sample_size.value\n",
    "    ns = number_of_samples.value\n",
    "\n",
    "    # Resample \n",
    "    create_pop_samples(current_sample)"
   ]
  },
  {
   "cell_type": "code",
   "execution_count": 7,
   "metadata": {},
   "outputs": [],
   "source": [
    "def panel():\n",
    "    ''\n",
    "    sample_size = Slider(title=\"Sample Size\", value=12, start=1, end=200, step=1)\n",
    "    number_of_samples = Slider(title=\"Number of Samples\", value=30, start=1, end=2000,step=1)\n",
    "    plots = column(plot_rug(sample_avg, plot_height = 400, line_width=6, line_color='lightblue'),                   plot_rug(most_current))\n",
    "    s_panel = row(plots, column(sample_size, number_of_samples, width=1000))\n",
    "    return s_panel"
   ]
  },
  {
   "cell_type": "code",
   "execution_count": 8,
   "metadata": {},
   "outputs": [],
   "source": [
    "Population_Range = [0, 100]\n",
    "# Slider parameters\n",
    "sample_size = 12\n",
    "number_of_samples = 10000\n",
    "current_sample = np.zeros((Population_Range[1] - Population_Range[0],), dtype='int')\n",
    "samples = np.zeros((Population_Range[1] - Population_Range[0],), dtype='int')"
   ]
  },
  {
   "cell_type": "code",
   "execution_count": 18,
   "metadata": {},
   "outputs": [],
   "source": [
    "sample_avg, most_current = create_pop_samples(current_sample)\n",
    "plots = column( plot_rug(sample_avg, plot_height = 400, line_width=6, line_color='lightblue'), plot_rug(most_current)) \n",
    "show(plots)"
   ]
  },
  {
   "cell_type": "code",
   "execution_count": 13,
   "metadata": {},
   "outputs": [
    {
     "output_type": "execute_result",
     "data": {
      "text/plain": "Column(id='1611', ...)",
      "text/html": "<div style=\"display: table;\"><div style=\"display: table-row;\"><div style=\"display: table-cell;\"><b title=\"bokeh.models.layouts.Column\">Column</b>(</div><div style=\"display: table-cell;\">id&nbsp;=&nbsp;'1611', <span id=\"1806\" style=\"cursor: pointer;\">&hellip;)</span></div></div><div class=\"1805\" style=\"display: none;\"><div style=\"display: table-cell;\"></div><div style=\"display: table-cell;\">align&nbsp;=&nbsp;'start',</div></div><div class=\"1805\" style=\"display: none;\"><div style=\"display: table-cell;\"></div><div style=\"display: table-cell;\">aspect_ratio&nbsp;=&nbsp;None,</div></div><div class=\"1805\" style=\"display: none;\"><div style=\"display: table-cell;\"></div><div style=\"display: table-cell;\">background&nbsp;=&nbsp;None,</div></div><div class=\"1805\" style=\"display: none;\"><div style=\"display: table-cell;\"></div><div style=\"display: table-cell;\">children&nbsp;=&nbsp;[Figure(id='1537', ...), Figure(id='1574', ...)],</div></div><div class=\"1805\" style=\"display: none;\"><div style=\"display: table-cell;\"></div><div style=\"display: table-cell;\">css_classes&nbsp;=&nbsp;[],</div></div><div class=\"1805\" style=\"display: none;\"><div style=\"display: table-cell;\"></div><div style=\"display: table-cell;\">disabled&nbsp;=&nbsp;False,</div></div><div class=\"1805\" style=\"display: none;\"><div style=\"display: table-cell;\"></div><div style=\"display: table-cell;\">height&nbsp;=&nbsp;None,</div></div><div class=\"1805\" style=\"display: none;\"><div style=\"display: table-cell;\"></div><div style=\"display: table-cell;\">height_policy&nbsp;=&nbsp;'auto',</div></div><div class=\"1805\" style=\"display: none;\"><div style=\"display: table-cell;\"></div><div style=\"display: table-cell;\">js_event_callbacks&nbsp;=&nbsp;{},</div></div><div class=\"1805\" style=\"display: none;\"><div style=\"display: table-cell;\"></div><div style=\"display: table-cell;\">js_property_callbacks&nbsp;=&nbsp;{},</div></div><div class=\"1805\" style=\"display: none;\"><div style=\"display: table-cell;\"></div><div style=\"display: table-cell;\">margin&nbsp;=&nbsp;(0, 0, 0, 0),</div></div><div class=\"1805\" style=\"display: none;\"><div style=\"display: table-cell;\"></div><div style=\"display: table-cell;\">max_height&nbsp;=&nbsp;None,</div></div><div class=\"1805\" style=\"display: none;\"><div style=\"display: table-cell;\"></div><div style=\"display: table-cell;\">max_width&nbsp;=&nbsp;None,</div></div><div class=\"1805\" style=\"display: none;\"><div style=\"display: table-cell;\"></div><div style=\"display: table-cell;\">min_height&nbsp;=&nbsp;None,</div></div><div class=\"1805\" style=\"display: none;\"><div style=\"display: table-cell;\"></div><div style=\"display: table-cell;\">min_width&nbsp;=&nbsp;None,</div></div><div class=\"1805\" style=\"display: none;\"><div style=\"display: table-cell;\"></div><div style=\"display: table-cell;\">name&nbsp;=&nbsp;None,</div></div><div class=\"1805\" style=\"display: none;\"><div style=\"display: table-cell;\"></div><div style=\"display: table-cell;\">rows&nbsp;=&nbsp;'auto',</div></div><div class=\"1805\" style=\"display: none;\"><div style=\"display: table-cell;\"></div><div style=\"display: table-cell;\">sizing_mode&nbsp;=&nbsp;None,</div></div><div class=\"1805\" style=\"display: none;\"><div style=\"display: table-cell;\"></div><div style=\"display: table-cell;\">spacing&nbsp;=&nbsp;0,</div></div><div class=\"1805\" style=\"display: none;\"><div style=\"display: table-cell;\"></div><div style=\"display: table-cell;\">subscribed_events&nbsp;=&nbsp;[],</div></div><div class=\"1805\" style=\"display: none;\"><div style=\"display: table-cell;\"></div><div style=\"display: table-cell;\">tags&nbsp;=&nbsp;[],</div></div><div class=\"1805\" style=\"display: none;\"><div style=\"display: table-cell;\"></div><div style=\"display: table-cell;\">visible&nbsp;=&nbsp;True,</div></div><div class=\"1805\" style=\"display: none;\"><div style=\"display: table-cell;\"></div><div style=\"display: table-cell;\">width&nbsp;=&nbsp;None,</div></div><div class=\"1805\" style=\"display: none;\"><div style=\"display: table-cell;\"></div><div style=\"display: table-cell;\">width_policy&nbsp;=&nbsp;'auto')</div></div></div>\n<script>\n(function() {\n  var expanded = false;\n  var ellipsis = document.getElementById(\"1806\");\n  ellipsis.addEventListener(\"click\", function() {\n    var rows = document.getElementsByClassName(\"1805\");\n    for (var i = 0; i < rows.length; i++) {\n      var el = rows[i];\n      el.style.display = expanded ? \"none\" : \"table-row\";\n    }\n    ellipsis.innerHTML = expanded ? \"&hellip;)\" : \"&lsaquo;&lsaquo;&lsaquo;\";\n    expanded = !expanded;\n  });\n})();\n</script>\n"
     },
     "metadata": {},
     "execution_count": 13
    }
   ],
   "source": [
    "plots"
   ]
  },
  {
   "cell_type": "code",
   "execution_count": 10,
   "metadata": {},
   "outputs": [
    {
     "output_type": "error",
     "ename": "AttributeError",
     "evalue": "'int' object has no attribute 'on_change'",
     "traceback": [
      "\u001b[1;31m---------------------------------------------------------------------------\u001b[0m",
      "\u001b[1;31mAttributeError\u001b[0m                            Traceback (most recent call last)",
      "\u001b[1;32m<ipython-input-10-3c5d5497c6ac>\u001b[0m in \u001b[0;36m<module>\u001b[1;34m\u001b[0m\n\u001b[1;32m----> 1\u001b[1;33m \u001b[0mnumber_of_samples\u001b[0m\u001b[1;33m.\u001b[0m\u001b[0mon_change\u001b[0m\u001b[1;33m(\u001b[0m\u001b[1;34m'value'\u001b[0m\u001b[1;33m,\u001b[0m \u001b[0mupdate_sampling\u001b[0m\u001b[1;33m)\u001b[0m\u001b[1;33m\u001b[0m\u001b[1;33m\u001b[0m\u001b[0m\n\u001b[0m\u001b[0;32m      2\u001b[0m \u001b[0ms_panel\u001b[0m \u001b[1;33m=\u001b[0m \u001b[0mpanel\u001b[0m\u001b[1;33m(\u001b[0m\u001b[1;33m)\u001b[0m\u001b[1;33m\u001b[0m\u001b[1;33m\u001b[0m\u001b[0m\n\u001b[0;32m      3\u001b[0m \u001b[0mcurdoc\u001b[0m\u001b[1;33m.\u001b[0m\u001b[0madd_root\u001b[0m\u001b[1;33m(\u001b[0m\u001b[0ms_panel\u001b[0m\u001b[1;33m)\u001b[0m\u001b[1;33m\u001b[0m\u001b[1;33m\u001b[0m\u001b[0m\n\u001b[0;32m      4\u001b[0m \u001b[0mcurdoc\u001b[0m\u001b[1;33m(\u001b[0m\u001b[1;33m)\u001b[0m\u001b[1;33m.\u001b[0m\u001b[0mtitle\u001b[0m\u001b[1;33m(\u001b[0m\u001b[1;34m\"Sampling\"\u001b[0m\u001b[1;33m)\u001b[0m\u001b[1;33m\u001b[0m\u001b[1;33m\u001b[0m\u001b[0m\n",
      "\u001b[1;31mAttributeError\u001b[0m: 'int' object has no attribute 'on_change'"
     ]
    }
   ],
   "source": [
    "#number_of_samples.on_change('value', update_sampling)\n",
    "#s_panel = panel()\n",
    "#curdoc.add_root(s_panel)\n",
    "#curdoc().title(\"Sampling\")"
   ]
  }
 ]
}