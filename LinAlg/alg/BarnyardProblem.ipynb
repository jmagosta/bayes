{
 "cells": [
  {
   "cell_type": "markdown",
   "id": "845948be",
   "metadata": {},
   "source": [
    "# The Barnyard problem\n",
    "\n",
    "An example of solving a well-behaved set of linear equations by Gaussian Elimination\n",
    "\n",
    "JMA 28 Dec 2021"
   ]
  },
  {
   "cell_type": "code",
   "execution_count": 4,
   "id": "8cdc8309",
   "metadata": {},
   "outputs": [
    {
     "data": {
      "text/plain": [
       "'3.10.1 (v3.10.1:2cd268a3a9, Dec  6 2021, 14:28:59) [Clang 13.0.0 (clang-1300.0.29.3)]'"
      ]
     },
     "execution_count": 4,
     "metadata": {},
     "output_type": "execute_result"
    }
   ],
   "source": [
    "import os, sys\n",
    "import numpy as np\n",
    "sys.version"
   ]
  },
  {
   "cell_type": "code",
   "execution_count": 13,
   "id": "264626ab",
   "metadata": {},
   "outputs": [],
   "source": [
    "# The barnyard variables\n",
    "\n",
    "A = np.array([[1,1,1], [2,4,4], [0,1,2]])\n",
    "b = np.transpose(np.array([[12, 38,10]]))"
   ]
  },
  {
   "cell_type": "code",
   "execution_count": 24,
   "id": "c11c264a",
   "metadata": {},
   "outputs": [
    {
     "data": {
      "text/plain": [
       "array([[ 1,  1,  1, 12],\n",
       "       [ 2,  4,  4, 38],\n",
       "       [ 0,  1,  2, 10]])"
      ]
     },
     "execution_count": 24,
     "metadata": {},
     "output_type": "execute_result"
    }
   ],
   "source": [
    "Ab = np.concatenate([A,b], axis=1)\n",
    "Ab"
   ]
  },
  {
   "cell_type": "markdown",
   "id": "b2f2fa11",
   "metadata": {},
   "source": [
    "## Elimination"
   ]
  },
  {
   "cell_type": "code",
   "execution_count": 103,
   "id": "f07a659b",
   "metadata": {},
   "outputs": [
    {
     "data": {
      "text/plain": [
       "array([[ 1,  1,  1, 12],\n",
       "       [ 0,  2,  2, 14],\n",
       "       [ 0,  1,  2, 10]])"
      ]
     },
     "execution_count": 103,
     "metadata": {},
     "output_type": "execute_result"
    }
   ],
   "source": [
    "def pivot_one_element(row, by_row, coef, matrix ):\n",
    "    'Add coef times by_row to row of matrix. Indicies are zero-based.'\n",
    "    new_row = matrix[row,:] + coef * matrix[by_row,:]\n",
    "    # A copy is necessary since the matrix assignment is destructive, \n",
    "    # and its value is returned by reference. \n",
    "    m_copy = matrix.copy()\n",
    "    m_copy[row,:]  = new_row\n",
    "    return m_copy\n",
    "\n",
    "Ab_1 = pivot_one_element(1, 0, -2, Ab)\n",
    "Ab_1"
   ]
  },
  {
   "cell_type": "code",
   "execution_count": 29,
   "id": "0d8d820a",
   "metadata": {},
   "outputs": [
    {
     "data": {
      "text/plain": [
       "array([[ 1,  1,  1, 12],\n",
       "       [ 0,  1,  1,  7],\n",
       "       [ 0,  1,  2, 10]])"
      ]
     },
     "execution_count": 29,
     "metadata": {},
     "output_type": "execute_result"
    }
   ],
   "source": [
    "# Use a pivot step to normalize the second pivot.\n",
    "Ab_2 = pivot_one_element(1, 1, -1/2, Ab_1)\n",
    "Ab_2"
   ]
  },
  {
   "cell_type": "code",
   "execution_count": 30,
   "id": "8518753c",
   "metadata": {},
   "outputs": [
    {
     "data": {
      "text/plain": [
       "array([[ 1,  1,  1, 12],\n",
       "       [ 0,  1,  1,  7],\n",
       "       [ 0,  0,  1,  3]])"
      ]
     },
     "execution_count": 30,
     "metadata": {},
     "output_type": "execute_result"
    }
   ],
   "source": [
    "Uc = pivot_one_element(2, 1, -1, Ab_2)\n",
    "Uc"
   ]
  },
  {
   "cell_type": "markdown",
   "id": "6218b518",
   "metadata": {},
   "source": [
    "## Back substitution"
   ]
  },
  {
   "cell_type": "code",
   "execution_count": 66,
   "id": "1ce57c9a",
   "metadata": {},
   "outputs": [],
   "source": [
    "def back_substitute_step(U_matrix, solved_rows = []):\n",
    "    'Using the values from the solved rows, return the solved rows list with the next value.'\n",
    "    # Assume pivots have been normalized to 1\n",
    "    row_cnt = U_matrix.shape[0] -1\n",
    "    col_cnt = U_matrix.shape[1] -1\n",
    "    row_to_solve = U_matrix[row_cnt - len(solved_rows),:]\n",
    "    b = row_to_solve[-1]\n",
    "    backfill_values = row_to_solve[(-len(solved_rows)-1):-1]\n",
    "    next_value = (b - backfill_values.dot(solved_rows))\n",
    "    return [next_value] + solved_rows"
   ]
  },
  {
   "cell_type": "code",
   "execution_count": 67,
   "id": "fa97c176",
   "metadata": {},
   "outputs": [
    {
     "data": {
      "text/plain": [
       "[3]"
      ]
     },
     "execution_count": 67,
     "metadata": {},
     "output_type": "execute_result"
    }
   ],
   "source": [
    "# First, solve a step at a time\n",
    "# The last row back_substitution\n",
    "x3 = back_substitute_step(Uc)\n",
    "x3"
   ]
  },
  {
   "cell_type": "code",
   "execution_count": 70,
   "id": "12bf24b8",
   "metadata": {},
   "outputs": [
    {
     "data": {
      "text/plain": [
       "[4, 3]"
      ]
     },
     "execution_count": 70,
     "metadata": {},
     "output_type": "execute_result"
    }
   ],
   "source": [
    "# Continue\n",
    "x2 = back_substitute_step(Uc, x3)\n",
    "x2"
   ]
  },
  {
   "cell_type": "code",
   "execution_count": 81,
   "id": "b50a06ea",
   "metadata": {},
   "outputs": [
    {
     "data": {
      "text/plain": [
       "[5, 4, 3]"
      ]
     },
     "execution_count": 81,
     "metadata": {},
     "output_type": "execute_result"
    }
   ],
   "source": [
    "# Solution\n",
    "x = back_substitute_step(Uc, x2)\n",
    "x"
   ]
  },
  {
   "cell_type": "code",
   "execution_count": 80,
   "id": "cbe3ad1c",
   "metadata": {},
   "outputs": [
    {
     "data": {
      "text/plain": [
       "[5, 4, 3]"
      ]
     },
     "execution_count": 80,
     "metadata": {},
     "output_type": "execute_result"
    }
   ],
   "source": [
    "## Solve by substituting all rows.\n",
    "def solve_back_substitution(U_matrix):\n",
    "    solution = []\n",
    "    while len(solution) < U_matrix.shape[0]:\n",
    "        solution = back_substitute_step(U_matrix, solution)\n",
    "    return solution\n",
    "\n",
    "solve_back_substitution(Uc)"
   ]
  },
  {
   "cell_type": "markdown",
   "id": "93d8960e",
   "metadata": {},
   "source": [
    "## Automate all pivots"
   ]
  },
  {
   "cell_type": "code",
   "execution_count": 134,
   "id": "9b2627c6",
   "metadata": {},
   "outputs": [],
   "source": [
    "def normalize_a_row(the_row, the_matrix):\n",
    "    'Assume the pivot has been made, so that the diagonal element on the_row will be set to 1'\n",
    "    pivot = the_matrix[the_row,the_row]\n",
    "    matrix_copy = the_matrix.copy()\n",
    "    normal_row = matrix_copy[the_row,:]\n",
    "    if pivot != 1:\n",
    "        if abs(pivot) > 1E-7:\n",
    "            #matrix_copy[the_row,:]\n",
    "            normal_row = matrix_copy[the_row,:]/pivot\n",
    "        else:\n",
    "            print('Warning: zero  pivot value, cannot normalize')\n",
    "    return normal_row"
   ]
  },
  {
   "cell_type": "code",
   "execution_count": 135,
   "id": "b514ef03",
   "metadata": {},
   "outputs": [
    {
     "name": "stdout",
     "output_type": "stream",
     "text": [
      "1 -2.0\n",
      "[[ 1  1  1 12]\n",
      " [ 0  2  2 14]\n",
      " [ 0  1  2 10]]\n",
      "2 0.0\n",
      "[[ 1  1  1 12]\n",
      " [ 0  1  1  7]\n",
      " [ 0  1  2 10]]\n"
     ]
    },
    {
     "data": {
      "text/plain": [
       "array([[ 1,  1,  1, 12],\n",
       "       [ 0,  1,  1,  7],\n",
       "       [ 0,  0,  1,  5]])"
      ]
     },
     "execution_count": 135,
     "metadata": {},
     "output_type": "execute_result"
    }
   ],
   "source": [
    "# Find the next pivots \n",
    "def next_pivots(pivot_this_row, the_matrix):\n",
    "    'Zero out all entries in rows below this pivot.'\n",
    "    matrix_copy = the_matrix.copy()\n",
    "    the_row = matrix_copy[pivot_this_row,:]\n",
    "    for a_row_index in range(pivot_this_row+1, the_matrix.shape[0]):\n",
    "        coef = - matrix_copy[a_row_index, pivot_this_row] / the_row[pivot_this_row]\n",
    "        print(a_row_index, coef)\n",
    "        nr = pivot_one_element(a_row_index, pivot_this_row, coef, matrix_copy )\n",
    "        print(nr)\n",
    "        matrix_copy[a_row_index,:] = normalize_a_row(a_row_index, nr)\n",
    "    return matrix_copy\n",
    "        \n",
    "next_pivots(0, Ab)"
   ]
  },
  {
   "cell_type": "code",
   "execution_count": 136,
   "id": "2cbb05b8",
   "metadata": {},
   "outputs": [
    {
     "name": "stdout",
     "output_type": "stream",
     "text": [
      "1 -2.0\n",
      "[[ 1  1  1 12]\n",
      " [ 0  2  2 14]\n",
      " [ 0  1  2 10]]\n",
      "2 0.0\n",
      "[[ 1  1  1 12]\n",
      " [ 0  1  1  7]\n",
      " [ 0  1  2 10]]\n",
      "2 0.0\n",
      "[[ 1  1  1 12]\n",
      " [ 0  1  1  7]\n",
      " [ 0  0  1  5]]\n"
     ]
    },
    {
     "data": {
      "text/plain": [
       "array([[ 1,  1,  1, 12],\n",
       "       [ 0,  1,  1,  7],\n",
       "       [ 0,  0,  1,  5]])"
      ]
     },
     "execution_count": 136,
     "metadata": {},
     "output_type": "execute_result"
    }
   ],
   "source": [
    "# Solve for U by running all pivots\n",
    "def solve_for_U(A_matrix):\n",
    "    ''\n",
    "    matrix_copy = A_matrix.copy()\n",
    "    for row_index in range(0, A_matrix.shape[0]):\n",
    "        matrix_copy = next_pivots(row_index, matrix_copy)\n",
    "    return matrix_copy\n",
    "    \n",
    "solve_for_U(Ab)"
   ]
  },
  {
   "cell_type": "markdown",
   "id": "b0cf550e",
   "metadata": {},
   "source": [
    "# Use the built-in numpy solver\n",
    "\n",
    "Note, numpy does not bother with an LU decomposition, but computes the inverse directly"
   ]
  },
  {
   "cell_type": "code",
   "execution_count": 86,
   "id": "b6426f11",
   "metadata": {},
   "outputs": [
    {
     "name": "stdout",
     "output_type": "stream",
     "text": [
      "Inverse:\n",
      " [[ 2.  -0.5  0. ]\n",
      " [-2.   1.  -1. ]\n",
      " [ 1.  -0.5  1. ]] \n",
      "Solution:\n"
     ]
    },
    {
     "data": {
      "text/plain": [
       "array([[5.],\n",
       "       [4.],\n",
       "       [3.]])"
      ]
     },
     "execution_count": 86,
     "metadata": {},
     "output_type": "execute_result"
    }
   ],
   "source": [
    "A_inverse = np.linalg.inv(A)\n",
    "print('Inverse:\\n', A_inverse,'\\n\\nSolution:')\n",
    "A_inverse.dot(b)"
   ]
  },
  {
   "cell_type": "code",
   "execution_count": 87,
   "id": "8c2a40ea",
   "metadata": {},
   "outputs": [
    {
     "data": {
      "text/plain": [
       "array([[5.],\n",
       "       [4.],\n",
       "       [3.]])"
      ]
     },
     "execution_count": 87,
     "metadata": {},
     "output_type": "execute_result"
    }
   ],
   "source": [
    "# Alternately:\n",
    "np.linalg.solve(A,b)"
   ]
  }
 ],
 "metadata": {
  "kernelspec": {
   "display_name": "python3.10",
   "language": "python",
   "name": "python3.10"
  },
  "language_info": {
   "codemirror_mode": {
    "name": "ipython",
    "version": 3
   },
   "file_extension": ".py",
   "mimetype": "text/x-python",
   "name": "python",
   "nbconvert_exporter": "python",
   "pygments_lexer": "ipython3",
   "version": "3.10.1"
  }
 },
 "nbformat": 4,
 "nbformat_minor": 5
}
