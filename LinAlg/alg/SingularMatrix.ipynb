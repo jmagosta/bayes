{
 "cells": [
  {
   "cell_type": "markdown",
   "id": "27574a72",
   "metadata": {},
   "source": [
    "# A singular matrix 😞"
   ]
  },
  {
   "cell_type": "code",
   "execution_count": 2,
   "id": "dd748998",
   "metadata": {},
   "outputs": [
    {
     "data": {
      "text/plain": [
       "'3.10.1 (v3.10.1:2cd268a3a9, Dec  6 2021, 14:28:59) [Clang 13.0.0 (clang-1300.0.29.3)]'"
      ]
     },
     "execution_count": 2,
     "metadata": {},
     "output_type": "execute_result"
    }
   ],
   "source": [
    "import os, sys\n",
    "import numpy as np\n",
    "import scipy.linalg    # A case where the top level package needs it's subpackages imported explicitly. \n",
    "sys.version"
   ]
  },
  {
   "cell_type": "code",
   "execution_count": 25,
   "id": "2972cc46",
   "metadata": {},
   "outputs": [],
   "source": [
    "def is_full_rank(the_m, d):\n",
    "    return np.linalg.matrix_rank(the_m) == d\n",
    "\n",
    "def random_ar(d):\n",
    "    return np.reshape( np.array(np.random.choice(range(d*d), d*d, replace=False)), (d,d))\n",
    "\n",
    "def random_symmetric_ar(d):\n",
    "    diagonal = np.random.choice(range(d*d), d, replace=False) \n",
    "    off_diagonal = list(np.random.choice(range(d*d), int(0.5 * d * (d-1)), replace=False) - round(d/2) )   # Yes the count is always an integer\n",
    "    # Clever way to fill the matrix?  Iterate thru the off diagonal lower matrix and pop the off diagnozal elements\n",
    "    ar = np.zeros((d,d))\n",
    "    # Set the diagonal\n",
    "    for k in range(d):\n",
    "        ar[k,k]  = diagonal[k]\n",
    "    for a_row in range(1,d):\n",
    "        for a_col in range(a_row):\n",
    "            ar[a_row, a_col] = off_diagonal.pop()\n",
    "    return ar + ar.T"
   ]
  },
  {
   "cell_type": "code",
   "execution_count": 33,
   "id": "46154437",
   "metadata": {},
   "outputs": [
    {
     "name": "stdout",
     "output_type": "stream",
     "text": [
      "8\n"
     ]
    },
    {
     "data": {
      "text/plain": [
       "array([[116.,  41.,  36.,   8.,  35.,  45.,  39.,  15.],\n",
       "       [ 41.,  18.,  26.,  48.,  51.,  55.,  19.,  38.],\n",
       "       [ 36.,  26.,  42.,  46.,  29.,  13.,  54.,  22.],\n",
       "       [  8.,  48.,  46.,  34.,   1.,   2.,  47.,  31.],\n",
       "       [ 35.,  51.,  29.,   1.,  98.,   7.,  50.,  -4.],\n",
       "       [ 45.,  55.,  13.,   2.,   7.,  44.,   0.,  52.],\n",
       "       [ 39.,  19.,  54.,  47.,  50.,   0.,  56.,  -2.],\n",
       "       [ 15.,  38.,  22.,  31.,  -4.,  52.,  -2.,  68.]])"
      ]
     },
     "execution_count": 33,
     "metadata": {},
     "output_type": "execute_result"
    }
   ],
   "source": [
    "sym_ar = random_symmetric_ar(8)\n",
    "print(np.linalg.matrix_rank(sym_ar))\n",
    "sym_ar"
   ]
  },
  {
   "cell_type": "code",
   "execution_count": 3,
   "id": "a617b34b",
   "metadata": {},
   "outputs": [
    {
     "data": {
      "text/plain": [
       "(True,\n",
       " array([[2, 5, 1],\n",
       "        [8, 3, 7],\n",
       "        [0, 4, 6]]))"
      ]
     },
     "execution_count": 3,
     "metadata": {},
     "output_type": "execute_result"
    }
   ],
   "source": [
    "# Create a non-singular matrix. Any random arrangment of integers probably works. \n",
    "d = 3  # dimension \n",
    "an_array = random_ar(d)\n",
    "is_full_rank(an_array, 3), an_array  #  Is this random matrix full rank? "
   ]
  },
  {
   "cell_type": "code",
   "execution_count": 4,
   "id": "3d5e3e83",
   "metadata": {},
   "outputs": [
    {
     "data": {
      "text/plain": [
       "0.0097"
      ]
     },
     "execution_count": 4,
     "metadata": {},
     "output_type": "execute_result"
    }
   ],
   "source": [
    "# How often is the random matrix singular\n",
    "fails = 0\n",
    "for k in range(10000):\n",
    "   f = 1 - is_full_rank(random_ar(d), d) \n",
    "   fails += f\n",
    "fails/10000"
   ]
  },
  {
   "cell_type": "code",
   "execution_count": 6,
   "id": "9a37f8f0",
   "metadata": {},
   "outputs": [
    {
     "data": {
      "text/plain": [
       "array([[ 0.04385965,  0.11403509, -0.14035088],\n",
       "       [ 0.21052632, -0.05263158,  0.02631579],\n",
       "       [-0.14035088,  0.03508772,  0.14912281]])"
      ]
     },
     "execution_count": 6,
     "metadata": {},
     "output_type": "execute_result"
    }
   ],
   "source": [
    "array_inv = np.linalg.inv(an_array)\n",
    "array_inv"
   ]
  },
  {
   "cell_type": "code",
   "execution_count": 12,
   "id": "24b32266",
   "metadata": {},
   "outputs": [
    {
     "data": {
      "text/plain": [
       "(array([[ 1.,  0.,  0.],\n",
       "        [ 0.,  1., -0.],\n",
       "        [ 0.,  0.,  1.]]),\n",
       " array([[ 1.,  0., -0.],\n",
       "        [ 0.,  1.,  0.],\n",
       "        [ 0.,  0.,  1.]]))"
      ]
     },
     "execution_count": 12,
     "metadata": {},
     "output_type": "execute_result"
    }
   ],
   "source": [
    "# Given it has an inverse , do they commute?\n",
    "np.round(array_inv @ an_array),  np.round(an_array @ array_inv)  # Yes!! "
   ]
  },
  {
   "cell_type": "code",
   "execution_count": 8,
   "id": "27d1b5be",
   "metadata": {},
   "outputs": [
    {
     "data": {
      "text/plain": [
       "array([[3, 2, 4],\n",
       "       [1, 2, 2],\n",
       "       [1, 0, 1]])"
      ]
     },
     "execution_count": 8,
     "metadata": {},
     "output_type": "execute_result"
    }
   ],
   "source": [
    "# Gassian elimination on a singular matrix\n",
    "A = np.array([[3,2,4],[1,2,2], [1,0,1]])\n",
    "b = np.transpose(np.array([[0,0,0]]))\n",
    "A"
   ]
  },
  {
   "cell_type": "code",
   "execution_count": 9,
   "id": "b825418e",
   "metadata": {},
   "outputs": [],
   "source": [
    "# The LU decomposition - Gaussian elimination\n",
    "P, L, U = scipy.linalg.lu(A)"
   ]
  },
  {
   "cell_type": "code",
   "execution_count": 10,
   "id": "3e7af4c0",
   "metadata": {},
   "outputs": [
    {
     "data": {
      "text/plain": [
       "(array([[1., 0., 0.],\n",
       "        [0., 1., 0.],\n",
       "        [0., 0., 1.]]),\n",
       " array([[ 1.        ,  0.        ,  0.        ],\n",
       "        [ 0.33333333,  1.        ,  0.        ],\n",
       "        [ 0.33333333, -0.5       ,  1.        ]]),\n",
       " array([[3., 2., 4.],\n",
       "        [0., 1., 1.],\n",
       "        [0., 0., 0.]]))"
      ]
     },
     "execution_count": 10,
     "metadata": {},
     "output_type": "execute_result"
    }
   ],
   "source": [
    "# View the Gassian elimination results for matrix A\n",
    "P,L,np.round(U)"
   ]
  },
  {
   "cell_type": "code",
   "execution_count": 11,
   "id": "51fe4ca2",
   "metadata": {},
   "outputs": [
    {
     "data": {
      "text/plain": [
       "(array([[0., 0., 1.],\n",
       "        [0., 1., 0.],\n",
       "        [1., 0., 0.]]),\n",
       " array([[ 1.  ,  0.  ,  0.  ],\n",
       "        [ 0.5 ,  1.  ,  0.  ],\n",
       "        [ 0.75, -0.5 ,  1.  ]]),\n",
       " array([[ 4.,  2.,  1.],\n",
       "        [ 0.,  1., -0.],\n",
       "        [ 0.,  0.,  0.]]))"
      ]
     },
     "execution_count": 11,
     "metadata": {},
     "output_type": "execute_result"
    }
   ],
   "source": [
    "# The Gaussian elimination for A Transpose\n",
    "P, L, U = scipy.linalg.lu(A.T)\n",
    "P,L,np.round(U)"
   ]
  },
  {
   "cell_type": "code",
   "execution_count": 34,
   "id": "172d336c",
   "metadata": {},
   "outputs": [
    {
     "name": "stdout",
     "output_type": "stream",
     "text": [
      "[[ 1.  0.  0.  0.  0.  0.  0.  0.]\n",
      " [ 0.  1.  0.  0.  0.  0.  0.  0.]\n",
      " [ 0.  1.  1.  0.  0.  0.  0.  0.]\n",
      " [ 0.  0. -0.  1.  0.  0.  0.  0.]\n",
      " [ 0.  1.  0. -0.  1.  0.  0.  0.]\n",
      " [ 0.  1.  0.  0. -0.  1.  0.  0.]\n",
      " [ 0.  0. -1.  0.  0. -0.  1.  0.]\n",
      " [ 0.  0. -0.  1. -0. -1. -0.  1.]]\n",
      "[[116.  41.  36.   8.  35.  45.  39.  15.]\n",
      " [  0.  45.  44.  33.  -1.  -1.  44.  30.]\n",
      " [  0.   0. -39. -30.  -5.  27. -53.  20.]\n",
      " [  0.   0.   0.  35.  37.  46. -12.  36.]\n",
      " [  0.   0.   0.   0. 108.   1.  22. -29.]\n",
      " [  0.   0.   0.   0.   0.  15.  -9.  14.]\n",
      " [  0.   0.   0.   0.   0.   0. -16.   6.]\n",
      " [  0.   0.   0.   0.   0.   0.   0.  11.]]\n"
     ]
    },
    {
     "data": {
      "text/plain": [
       "array([[1., 0., 0., 0., 0., 0., 0., 0.],\n",
       "       [0., 0., 0., 1., 0., 0., 0., 0.],\n",
       "       [0., 0., 0., 0., 0., 0., 0., 1.],\n",
       "       [0., 1., 0., 0., 0., 0., 0., 0.],\n",
       "       [0., 0., 0., 0., 1., 0., 0., 0.],\n",
       "       [0., 0., 1., 0., 0., 0., 0., 0.],\n",
       "       [0., 0., 0., 0., 0., 0., 1., 0.],\n",
       "       [0., 0., 0., 0., 0., 1., 0., 0.]])"
      ]
     },
     "execution_count": 34,
     "metadata": {},
     "output_type": "execute_result"
    }
   ],
   "source": [
    "# Factor a random symmetrix matrix. \n",
    "# The LU decomposition - Gaussian elimination\n",
    "P, L, U = scipy.linalg.lu(sym_ar)\n",
    "print(np.round(L))\n",
    "print(np.round(U))\n",
    "P"
   ]
  },
  {
   "cell_type": "code",
   "execution_count": 30,
   "id": "3b79c288",
   "metadata": {},
   "outputs": [
    {
     "data": {
      "text/plain": [
       "array([[36., 19.,  5., 16., 10.],\n",
       "       [19., 24.,  8.,  9., 14.],\n",
       "       [ 5.,  8., 26.,  2.,  1.],\n",
       "       [16.,  9.,  2., 32.,  3.],\n",
       "       [10., 14.,  1.,  3., 34.]])"
      ]
     },
     "execution_count": 30,
     "metadata": {},
     "output_type": "execute_result"
    }
   ],
   "source": [
    "L @ U"
   ]
  },
  {
   "cell_type": "code",
   "execution_count": 6,
   "id": "573d5ee2",
   "metadata": {},
   "outputs": [
    {
     "data": {
      "text/plain": [
       "(array([[ 1.,  0.,  0.],\n",
       "        [-2.,  1., -0.],\n",
       "        [ 0.,  1.,  1.]]),\n",
       " array([[ 1,  0,  0],\n",
       "        [ 2,  1,  0],\n",
       "        [-2, -1,  1]]),\n",
       " array([[ 1,  0,  0],\n",
       "        [ 2,  1,  0],\n",
       "        [ 0, -1,  1]]))"
      ]
     },
     "execution_count": 6,
     "metadata": {},
     "output_type": "execute_result"
    }
   ],
   "source": [
    "# Another L - (See Strang exercise 1.5.3)\n",
    "L1 = np.array([[1,0,0],[2,1,0], [0, 0, 1]])\n",
    "L2 = np.array([[1,0,0],[0,1,0], [0, -1, 1]])\n",
    "np.linalg.inv(L2@ L1), L2@ L1, L1 @ L2"
   ]
  }
 ],
 "metadata": {
  "interpreter": {
   "hash": "aee8b7b246df8f9039afb4144a1f6fd8d2ca17a180786b69acc140d282b71a49"
  },
  "kernelspec": {
   "display_name": "python3.10",
   "language": "python",
   "name": "python3"
  },
  "language_info": {
   "codemirror_mode": {
    "name": "ipython",
    "version": 3
   },
   "file_extension": ".py",
   "mimetype": "text/x-python",
   "name": "python",
   "nbconvert_exporter": "python",
   "pygments_lexer": "ipython3",
   "version": "3.10.1"
  }
 },
 "nbformat": 4,
 "nbformat_minor": 5
}
