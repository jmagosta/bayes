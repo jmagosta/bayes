{
 "cells": [
  {
   "cell_type": "markdown",
   "id": "27574a72",
   "metadata": {},
   "source": [
    "# A singular matrix 😞"
   ]
  },
  {
   "cell_type": "code",
   "execution_count": 1,
   "id": "dd748998",
   "metadata": {},
   "outputs": [
    {
     "data": {
      "text/plain": [
       "'3.10.1 (v3.10.1:2cd268a3a9, Dec  6 2021, 14:28:59) [Clang 13.0.0 (clang-1300.0.29.3)]'"
      ]
     },
     "execution_count": 1,
     "metadata": {},
     "output_type": "execute_result"
    }
   ],
   "source": [
    "import os, sys\n",
    "import numpy as np\n",
    "import scipy.linalg    # A case where the top level package needs it's subpackages imported explicitly. \n",
    "sys.version"
   ]
  },
  {
   "cell_type": "code",
   "execution_count": 25,
   "id": "2972cc46",
   "metadata": {},
   "outputs": [],
   "source": [
    "def is_full_rank(the_m, d):\n",
    "    return np.linalg.matrix_rank(the_m) == d\n",
    "\n",
    "def random_ar(d):\n",
    "    return np.reshape( np.array(np.random.choice(range(d*d), d*d, replace=False)), (d,d))"
   ]
  },
  {
   "cell_type": "code",
   "execution_count": 54,
   "id": "a617b34b",
   "metadata": {},
   "outputs": [
    {
     "data": {
      "text/plain": [
       "(True,\n",
       " array([[4, 3, 6],\n",
       "        [0, 5, 1],\n",
       "        [8, 2, 7]]))"
      ]
     },
     "execution_count": 54,
     "metadata": {},
     "output_type": "execute_result"
    }
   ],
   "source": [
    "# Create a non-singular matrix. Any random arrangment of integers probably works. \n",
    "d = 3  # dimension \n",
    "an_array = random_ar(d)\n",
    "is_full_rank(an_array, 3), an_array"
   ]
  },
  {
   "cell_type": "code",
   "execution_count": 60,
   "id": "3d5e3e83",
   "metadata": {},
   "outputs": [
    {
     "data": {
      "text/plain": [
       "0.0095"
      ]
     },
     "execution_count": 60,
     "metadata": {},
     "output_type": "execute_result"
    }
   ],
   "source": [
    "fails = 0\n",
    "for k in range(10000):\n",
    "   f = 1 - is_full_rank(random_ar(d), d) \n",
    "   fails += f\n",
    "fails/10000"
   ]
  },
  {
   "cell_type": "code",
   "execution_count": 55,
   "id": "9a37f8f0",
   "metadata": {},
   "outputs": [
    {
     "data": {
      "text/plain": [
       "array([[-0.39285714,  0.10714286,  0.32142857],\n",
       "       [-0.0952381 ,  0.23809524,  0.04761905],\n",
       "       [ 0.47619048, -0.19047619, -0.23809524]])"
      ]
     },
     "execution_count": 55,
     "metadata": {},
     "output_type": "execute_result"
    }
   ],
   "source": [
    "array_inv = np.linalg.inv(an_array)\n",
    "array_inv"
   ]
  },
  {
   "cell_type": "code",
   "execution_count": 57,
   "id": "24b32266",
   "metadata": {},
   "outputs": [
    {
     "data": {
      "text/plain": [
       "(array([[ 1.,  0.,  0.],\n",
       "        [ 0.,  1.,  0.],\n",
       "        [ 0., -0.,  1.]]),\n",
       " array([[ 1.00000000e+00,  0.00000000e+00, -1.11022302e-16],\n",
       "        [ 0.00000000e+00,  1.00000000e+00,  0.00000000e+00],\n",
       "        [ 1.11022302e-16,  0.00000000e+00,  1.00000000e+00]]))"
      ]
     },
     "execution_count": 57,
     "metadata": {},
     "output_type": "execute_result"
    }
   ],
   "source": [
    "# Given it has an inverse , do they commute?\n",
    "np.round(array_inv @ an_array),  an_array @ array_inv"
   ]
  },
  {
   "cell_type": "code",
   "execution_count": 2,
   "id": "27d1b5be",
   "metadata": {},
   "outputs": [
    {
     "data": {
      "text/plain": [
       "array([[3, 2, 4],\n",
       "       [1, 2, 2],\n",
       "       [1, 0, 1]])"
      ]
     },
     "execution_count": 2,
     "metadata": {},
     "output_type": "execute_result"
    }
   ],
   "source": [
    "A = np.array([[3,2,4],[1,2,2], [1,0,1]])\n",
    "b = np.transpose(np.array([[0,0,0]]))\n",
    "A"
   ]
  },
  {
   "cell_type": "code",
   "execution_count": 3,
   "id": "b825418e",
   "metadata": {},
   "outputs": [],
   "source": [
    "P, L, U = scipy.linalg.lu(A)"
   ]
  },
  {
   "cell_type": "code",
   "execution_count": 4,
   "id": "3e7af4c0",
   "metadata": {},
   "outputs": [
    {
     "data": {
      "text/plain": [
       "(array([[1., 0., 0.],\n",
       "        [0., 1., 0.],\n",
       "        [0., 0., 1.]]),\n",
       " array([[ 1.        ,  0.        ,  0.        ],\n",
       "        [ 0.33333333,  1.        ,  0.        ],\n",
       "        [ 0.33333333, -0.5       ,  1.        ]]),\n",
       " array([[3., 2., 4.],\n",
       "        [0., 1., 1.],\n",
       "        [0., 0., 0.]]))"
      ]
     },
     "execution_count": 4,
     "metadata": {},
     "output_type": "execute_result"
    }
   ],
   "source": [
    "P,L,np.round(U)"
   ]
  },
  {
   "cell_type": "code",
   "execution_count": 5,
   "id": "51fe4ca2",
   "metadata": {},
   "outputs": [
    {
     "data": {
      "text/plain": [
       "(array([[0., 0., 1.],\n",
       "        [0., 1., 0.],\n",
       "        [1., 0., 0.]]),\n",
       " array([[ 1.  ,  0.  ,  0.  ],\n",
       "        [ 0.5 ,  1.  ,  0.  ],\n",
       "        [ 0.75, -0.5 ,  1.  ]]),\n",
       " array([[ 4.,  2.,  1.],\n",
       "        [ 0.,  1., -0.],\n",
       "        [ 0.,  0.,  0.]]))"
      ]
     },
     "execution_count": 5,
     "metadata": {},
     "output_type": "execute_result"
    }
   ],
   "source": [
    "P, L, U = scipy.linalg.lu(A.T)\n",
    "P,L,np.round(U)"
   ]
  },
  {
   "cell_type": "code",
   "execution_count": null,
   "id": "172d336c",
   "metadata": {},
   "outputs": [],
   "source": []
  },
  {
   "cell_type": "code",
   "execution_count": 6,
   "id": "573d5ee2",
   "metadata": {},
   "outputs": [
    {
     "data": {
      "text/plain": [
       "(array([[ 1.,  0.,  0.],\n",
       "        [-2.,  1., -0.],\n",
       "        [ 0.,  1.,  1.]]),\n",
       " array([[ 1,  0,  0],\n",
       "        [ 2,  1,  0],\n",
       "        [-2, -1,  1]]),\n",
       " array([[ 1,  0,  0],\n",
       "        [ 2,  1,  0],\n",
       "        [ 0, -1,  1]]))"
      ]
     },
     "execution_count": 6,
     "metadata": {},
     "output_type": "execute_result"
    }
   ],
   "source": [
    "# Another L - (See Strang exercise 1.5.3)\n",
    "L1 = np.array([[1,0,0],[2,1,0], [0, 0, 1]])\n",
    "L2 = np.array([[1,0,0],[0,1,0], [0, -1, 1]])\n",
    "np.linalg.inv(L2@ L1), L2@ L1, L1 @ L2"
   ]
  }
 ],
 "metadata": {
  "interpreter": {
   "hash": "aee8b7b246df8f9039afb4144a1f6fd8d2ca17a180786b69acc140d282b71a49"
  },
  "kernelspec": {
   "display_name": "python3.10",
   "language": "python",
   "name": "python3"
  },
  "language_info": {
   "codemirror_mode": {
    "name": "ipython",
    "version": 3
   },
   "file_extension": ".py",
   "mimetype": "text/x-python",
   "name": "python",
   "nbconvert_exporter": "python",
   "pygments_lexer": "ipython3",
   "version": "3.10.1"
  }
 },
 "nbformat": 4,
 "nbformat_minor": 5
}
